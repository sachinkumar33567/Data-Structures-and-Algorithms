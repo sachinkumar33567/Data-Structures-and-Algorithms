{
 "cells": [
  {
   "cell_type": "code",
   "execution_count": 5,
   "id": "1ae7943d",
   "metadata": {},
   "outputs": [
    {
     "name": "stdout",
     "output_type": "stream",
     "text": [
      "0\n",
      "1\n",
      "2\n"
     ]
    }
   ],
   "source": [
    "arr = [1, 0, 3, 2, 4, 2, 1]\n",
    "q = [(1, 3), (3, 6), (2, 5)]\n",
    "\n",
    "# determine mininum for each queries\n",
    "while q:\n",
    "    l, r = q.pop(0)\n",
    "    mini = 1<<64\n",
    "    for i in range(l, r+1):\n",
    "        mini = min(mini, arr[i])\n",
    "        \n",
    "    print(mini)\n",
    "    \n",
    "# Time compelixity - in the worst case the range can 0-(n-1)\n",
    "# T(n) = O(Q*(n-1))\n",
    "# S(n) = O(1)"
   ]
  },
  {
   "cell_type": "code",
   "execution_count": 72,
   "id": "1ecb5fcb",
   "metadata": {},
   "outputs": [],
   "source": [
    "def buildSegmentTree(arr, i, low, high, seg):\n",
    "    if low == high:\n",
    "        seg[i] = arr[low]\n",
    "        return\n",
    "    \n",
    "    mid = (low+high)>>1\n",
    "    buildSegmentTree(arr, 2*i+1, low, mid, seg)\n",
    "    buildSegmentTree(arr, 2*i+2, mid+1, high, seg)\n",
    "    seg[i] = min(seg[2*i+1], seg[2*i+2])\n",
    "    \n",
    "def update(seg, idx, val, i, low, high):\n",
    "    if low == high:\n",
    "        seg[i] = val\n",
    "        return\n",
    "    \n",
    "    mid = (low+high)>>1\n",
    "    if idx <= mid: update(seg, idx, val, 2*i+1, low, mid)\n",
    "        \n",
    "    else: update(seg, idx, val, 2*i+2, mid+1, high)\n",
    "        \n",
    "    seg[i] = min(seg[2*i+1], seg[2*i+2])\n",
    "    \n",
    "def solution(i, low, high, l, r, seg):\n",
    "    if high < l or low > r:\n",
    "        return 1<<64\n",
    "    \n",
    "    if low >= l and high <= r:\n",
    "        return seg[i]\n",
    "    \n",
    "    mid = (low+high)>>1\n",
    "    return min(solution(2*i+1, low, mid, l, r, seg), solution(2*i+2, mid+1, high, l, r, seg))"
   ]
  },
  {
   "cell_type": "code",
   "execution_count": 66,
   "id": "ce03ce62",
   "metadata": {},
   "outputs": [
    {
     "data": {
      "text/plain": [
       "[0, 0, 3, 1, 0, 3, 7, 2, 1, 0, 0, 4, 3, 0, 0, 0, 0, 0, 0, 0, 0, 0, 0, 0]"
      ]
     },
     "execution_count": 66,
     "metadata": {},
     "output_type": "execute_result"
    }
   ],
   "source": [
    "arr = [2, 1, 0, 4, 3, 7]\n",
    "seg = [0]*4*len(arr)\n",
    "\n",
    "buildSegmentTree(arr, 0, 0, len(arr)-1, seg)\n",
    "seg"
   ]
  },
  {
   "cell_type": "code",
   "execution_count": 67,
   "id": "cf9bd481",
   "metadata": {},
   "outputs": [],
   "source": [
    "update(seg, 2, 4, 0, 0, len(arr)-1)"
   ]
  },
  {
   "cell_type": "code",
   "execution_count": 68,
   "id": "dd6c6858",
   "metadata": {},
   "outputs": [
    {
     "data": {
      "text/plain": [
       "[1, 1, 3, 1, 4, 3, 7, 2, 1, 0, 0, 4, 3, 0, 0, 0, 0, 0, 0, 0, 0, 0, 0, 0]"
      ]
     },
     "execution_count": 68,
     "metadata": {},
     "output_type": "execute_result"
    }
   ],
   "source": [
    "seg"
   ]
  },
  {
   "cell_type": "code",
   "execution_count": 63,
   "id": "7f9c479b",
   "metadata": {},
   "outputs": [
    {
     "name": "stdout",
     "output_type": "stream",
     "text": [
      "no\n"
     ]
    }
   ],
   "source": [
    "if 12 < 5: print('ehllo')\n",
    "else: print('no')"
   ]
  },
  {
   "cell_type": "code",
   "execution_count": 70,
   "id": "de1fc392",
   "metadata": {},
   "outputs": [
    {
     "data": {
      "text/plain": [
       "2"
      ]
     },
     "execution_count": 70,
     "metadata": {},
     "output_type": "execute_result"
    }
   ],
   "source": [
    "5>>1"
   ]
  },
  {
   "cell_type": "code",
   "execution_count": 75,
   "id": "b572df02",
   "metadata": {},
   "outputs": [
    {
     "data": {
      "text/plain": [
       "False"
      ]
     },
     "execution_count": 75,
     "metadata": {},
     "output_type": "execute_result"
    }
   ],
   "source": [
    "flag = True\n",
    "a = not flag\n",
    "a"
   ]
  },
  {
   "cell_type": "code",
   "execution_count": null,
   "id": "d42c35e0",
   "metadata": {},
   "outputs": [],
   "source": []
  }
 ],
 "metadata": {
  "kernelspec": {
   "display_name": "Python 3",
   "language": "python",
   "name": "python3"
  },
  "language_info": {
   "codemirror_mode": {
    "name": "ipython",
    "version": 3
   },
   "file_extension": ".py",
   "mimetype": "text/x-python",
   "name": "python",
   "nbconvert_exporter": "python",
   "pygments_lexer": "ipython3",
   "version": "3.8.8"
  }
 },
 "nbformat": 4,
 "nbformat_minor": 5
}
