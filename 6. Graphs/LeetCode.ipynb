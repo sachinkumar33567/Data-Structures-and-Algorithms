{
 "cells": [
  {
   "cell_type": "raw",
   "id": "014bf7f5",
   "metadata": {},
   "source": [
    "Walls and Gates -\n",
    "\n",
    "fill each empty room with the distance to it's nearest gate"
   ]
  },
  {
   "cell_type": "code",
   "execution_count": 3,
   "id": "f020d172",
   "metadata": {},
   "outputs": [
    {
     "name": "stdout",
     "output_type": "stream",
     "text": [
      "[3, -1, 'g', 1]\n",
      "[2, 2, 1, -1]\n",
      "[1, -1, 2, -1]\n",
      "['g', -1, 3, 4]\n"
     ]
    }
   ],
   "source": [
    "def invalid(r, c):\n",
    "    return r<0 or c<0 or r==n or c==m or grid[r][c]==-1 or grid[r][c]=='g' or grid[r][c] > 0\n",
    "\n",
    "grid = [[0, -1, 'g', 0],\n",
    "        [0, 0, 0, -1],\n",
    "        [0, -1, 0, -1],\n",
    "        ['g', -1, 0, 0]]\n",
    "\n",
    "n, m = len(grid), len(grid[0])\n",
    "q = []\n",
    "for r in range(n):\n",
    "    for c in range(m):\n",
    "        if grid[r][c] == 'g':\n",
    "            q.append((r, c, 0))\n",
    "            \n",
    "directions = [[1, 0], [-1, 0], [0, 1], [0, -1]]\n",
    "while q:\n",
    "    r, c, dis = q.pop(0)\n",
    "    for i, j in directions:\n",
    "        if not invalid(r+i, c+j):\n",
    "            grid[r+i][c+j] = dis+1\n",
    "            q.append((r+i, c+j, dis+1))\n",
    "            \n",
    "for i in grid:\n",
    "    print(i)"
   ]
  },
  {
   "cell_type": "code",
   "execution_count": null,
   "id": "97c85108",
   "metadata": {},
   "outputs": [],
   "source": []
  },
  {
   "cell_type": "raw",
   "id": "648c06c1",
   "metadata": {},
   "source": [
    "Graph Valid Tree - A valid tree doesn't have any cycle and each node should be connected"
   ]
  },
  {
   "cell_type": "code",
   "execution_count": 1,
   "id": "6be0fdde",
   "metadata": {},
   "outputs": [
    {
     "data": {
      "text/plain": [
       "True"
      ]
     },
     "execution_count": 1,
     "metadata": {},
     "output_type": "execute_result"
    }
   ],
   "source": [
    "def validTree(n, edges):\n",
    "    def dfs(node, parent):\n",
    "        if visited[node]: return False\n",
    "        \n",
    "        visited[node] = 1\n",
    "        for nei in graph[node]:\n",
    "            if nei != parent:\n",
    "                if not dfs(nei, node): return False\n",
    "                \n",
    "        return True\n",
    "        \n",
    "    graph = {i: [] for i in range(n)}\n",
    "    for v1, v2 in edges:\n",
    "        graph[v1].append(v2)\n",
    "        graph[v2].append(v1)\n",
    "        \n",
    "    visited = [0 for _ in range(n)]\n",
    "    if not dfs(0, -1): return False\n",
    "    \n",
    "    if 0 in visited: return False\n",
    "    \n",
    "    return True\n",
    "\n",
    "n = 5\n",
    "edges = [[0, 1], [0, 2], [0, 3], [1, 4]]\n",
    "validTree(n, edges)"
   ]
  },
  {
   "cell_type": "code",
   "execution_count": null,
   "id": "677ab761",
   "metadata": {},
   "outputs": [],
   "source": []
  }
 ],
 "metadata": {
  "kernelspec": {
   "display_name": "Python 3",
   "language": "python",
   "name": "python3"
  },
  "language_info": {
   "codemirror_mode": {
    "name": "ipython",
    "version": 3
   },
   "file_extension": ".py",
   "mimetype": "text/x-python",
   "name": "python",
   "nbconvert_exporter": "python",
   "pygments_lexer": "ipython3",
   "version": "3.8.8"
  }
 },
 "nbformat": 4,
 "nbformat_minor": 5
}
