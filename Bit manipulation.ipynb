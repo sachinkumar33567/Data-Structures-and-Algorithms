{
 "cells": [
  {
   "cell_type": "markdown",
   "id": "87ee31e7",
   "metadata": {},
   "source": [
    "# Bit manipulation"
   ]
  },
  {
   "cell_type": "raw",
   "id": "a75ee8b8",
   "metadata": {},
   "source": [
    "1. & (and)\n",
    "\n",
    "1 - 1 = 1\n",
    "1 - 0 = 0\n",
    "0 - 1 = 0\n",
    "0 - 0 = 0\n",
    "\n",
    "any zero - 0\n",
    "\n",
    "n & n = n"
   ]
  },
  {
   "cell_type": "raw",
   "id": "a45c3781",
   "metadata": {},
   "source": [
    "2. | (or)\n",
    "\n",
    "1 - 1 = 1\n",
    "1 - 0 = 1\n",
    "0 - 1 = 1\n",
    "0 - 0 = 0\n",
    "\n",
    "any one - 1\n",
    "\n",
    "n | n = n"
   ]
  },
  {
   "cell_type": "raw",
   "id": "79acc6f2",
   "metadata": {},
   "source": [
    "3. ^ (xor)\n",
    "\n",
    "1 - 1 = 0\n",
    "1 - 0 = 1\n",
    "0 - 1 = 1\n",
    "0 - 0 = 0\n",
    "\n",
    "even 1 - 0\n",
    "odd 1 - 1\n",
    "\n",
    "n ^ n = 0"
   ]
  },
  {
   "cell_type": "raw",
   "id": "cfc260c2",
   "metadata": {},
   "source": [
    "4. ~ (not)\n",
    "\n",
    "1 = 0\n",
    "0 = 1"
   ]
  },
  {
   "cell_type": "raw",
   "id": "07c7878c",
   "metadata": {},
   "source": [
    "5. >> (right shift)\n",
    "\n",
    "10 >> 2 -> (1 0 1 0) >> 2 = (0 0 1 0) = (2)_base10\n",
    "\n",
    "n >> i means - n//2**i"
   ]
  },
  {
   "cell_type": "raw",
   "id": "0ff1a4db",
   "metadata": {},
   "source": [
    "6. << (left shift)\n",
    "\n",
    "10 << 2 -> (0 0 0 0 . . . 1 0 1 0) << 2 = (0 0 . . . 1 0 1 0 0 0) = (40)_base10\n",
    "\n",
    "n << i means - nx2**i"
   ]
  },
  {
   "cell_type": "code",
   "execution_count": null,
   "id": "aa89dc26",
   "metadata": {},
   "outputs": [],
   "source": []
  },
  {
   "cell_type": "code",
   "execution_count": 16,
   "id": "320d1e43",
   "metadata": {},
   "outputs": [
    {
     "data": {
      "text/plain": [
       "2"
      ]
     },
     "execution_count": 16,
     "metadata": {},
     "output_type": "execute_result"
    }
   ],
   "source": [
    "# find unique\n",
    "\n",
    "def unique(arr):\n",
    "    res = 0\n",
    "    for i in arr:\n",
    "        res ^= i\n",
    "        \n",
    "    return res\n",
    "\n",
    "unique([1, 4, 2, 5, 1, 5, 4])"
   ]
  },
  {
   "cell_type": "code",
   "execution_count": 18,
   "id": "240bcb44",
   "metadata": {},
   "outputs": [
    {
     "data": {
      "text/plain": [
       "(7, 5)"
      ]
     },
     "execution_count": 18,
     "metadata": {},
     "output_type": "execute_result"
    }
   ],
   "source": [
    "# swap two numbers\n",
    "\n",
    "a = 5\n",
    "b = 7\n",
    "\n",
    "a = a^b # 5^7\n",
    "b = a^b # 5^7^7\n",
    "a = a^b # 5^7^5\n",
    "\n",
    "a, b"
   ]
  },
  {
   "cell_type": "code",
   "execution_count": 26,
   "id": "2b92872c",
   "metadata": {},
   "outputs": [
    {
     "name": "stdout",
     "output_type": "stream",
     "text": [
      "1 - 1, 2 - 3, 3 - 0, 4 - 4, 5 - 1, 6 - 7, 7 - 0, 8 - 8, 9 - 1, 10 - 11, 11 - 0, 12 - 12, 13 - 1, 14 - 15, 15 - 0, 16 - 16, 17 - 1, 18 - 19, 19 - 0, 20 - 20, "
     ]
    }
   ],
   "source": [
    "# determine the xor 1 to n\n",
    "\n",
    "def xor1toN(n):\n",
    "    if n%4 == 1:\n",
    "        return 1\n",
    "    \n",
    "    if n%4 == 2:\n",
    "        return n+1\n",
    "        \n",
    "    if n%4 == 3:\n",
    "        return 0\n",
    "    \n",
    "    return n\n",
    "\n",
    "input_list = [i for i in range(1, 21)]\n",
    "for i in input_list:\n",
    "    print(f'{i} - {xor1toN(i)}', end=', ')"
   ]
  },
  {
   "cell_type": "code",
   "execution_count": 27,
   "id": "06318cac",
   "metadata": {},
   "outputs": [
    {
     "data": {
      "text/plain": [
       "11"
      ]
     },
     "execution_count": 27,
     "metadata": {},
     "output_type": "execute_result"
    }
   ],
   "source": [
    "# determine the xor l to r\n",
    "\n",
    "def xorLtoR(l, r):\n",
    "    return xor1toN(r)^xor1toN(l-1)\n",
    "\n",
    "xorLtoR(3, 8)"
   ]
  },
  {
   "cell_type": "code",
   "execution_count": null,
   "id": "3e6b27e4",
   "metadata": {},
   "outputs": [],
   "source": [
    "# even - odd\n",
    "\n",
    "def isEven(n):\n",
    "    if n & 1:\n",
    "        return False\n",
    "    \n",
    "    return True"
   ]
  },
  {
   "cell_type": "markdown",
   "id": "1cbe810f",
   "metadata": {},
   "source": [
    "# Bit masking"
   ]
  },
  {
   "cell_type": "code",
   "execution_count": 29,
   "id": "c63b1fe1",
   "metadata": {},
   "outputs": [
    {
     "data": {
      "text/plain": [
       "False"
      ]
     },
     "execution_count": 29,
     "metadata": {},
     "output_type": "execute_result"
    }
   ],
   "source": [
    "# check whether ith bit is set or not of a given number\n",
    "\n",
    "def isIthBitSet(n, i):\n",
    "    mask = 1 << i\n",
    "    if n & mask:\n",
    "        return True\n",
    "    \n",
    "    return False\n",
    "\n",
    "isIthBitSet(10, 2)"
   ]
  },
  {
   "cell_type": "code",
   "execution_count": 30,
   "id": "aeea3f3e",
   "metadata": {},
   "outputs": [
    {
     "data": {
      "text/plain": [
       "14"
      ]
     },
     "execution_count": 30,
     "metadata": {},
     "output_type": "execute_result"
    }
   ],
   "source": [
    "# set ith bit of a given number\n",
    "\n",
    "def setIthBit(n, i):\n",
    "    mask = 1 << i\n",
    "    return n | mask\n",
    "\n",
    "setIthBit(10, 2)"
   ]
  },
  {
   "cell_type": "code",
   "execution_count": 36,
   "id": "0958c409",
   "metadata": {},
   "outputs": [
    {
     "data": {
      "text/plain": [
       "2"
      ]
     },
     "execution_count": 36,
     "metadata": {},
     "output_type": "execute_result"
    }
   ],
   "source": [
    "# clear ith bit of a given number\n",
    "\n",
    "def clearIthBit(n, i):\n",
    "    mask = 1 << i\n",
    "    return n & ~mask\n",
    "\n",
    "clearIthBit(10, 3)"
   ]
  },
  {
   "cell_type": "code",
   "execution_count": 51,
   "id": "b9e33afc",
   "metadata": {},
   "outputs": [
    {
     "data": {
      "text/plain": [
       "52"
      ]
     },
     "execution_count": 51,
     "metadata": {},
     "output_type": "execute_result"
    }
   ],
   "source": [
    "# clear the last set bit of a given number\n",
    "\n",
    "# def clearLastSetBit(n):\n",
    "#     mask = 1\n",
    "#     while not n & mask:\n",
    "#         mask <<= 1\n",
    "        \n",
    "#     return n ^ mask\n",
    "\n",
    "def clearLastSetBit(n):\n",
    "    return n & n-1\n",
    "    \n",
    "clearLastSetBit(54)"
   ]
  },
  {
   "cell_type": "code",
   "execution_count": 59,
   "id": "4cc325c8",
   "metadata": {},
   "outputs": [
    {
     "data": {
      "text/plain": [
       "True"
      ]
     },
     "execution_count": 59,
     "metadata": {},
     "output_type": "execute_result"
    }
   ],
   "source": [
    "# check whether a number is a power of 2\n",
    "\n",
    "# def isPowerOf2(n):\n",
    "#     count = 0\n",
    "#     while n:\n",
    "#         if n & 1:\n",
    "#             count += 1\n",
    "            \n",
    "#         n >>= 1\n",
    "        \n",
    "#     if count == 1:\n",
    "#         return True\n",
    "    \n",
    "#     return False\n",
    "\n",
    "def isPowerOf2(n):\n",
    "    if n & n-1:\n",
    "        return False\n",
    "    \n",
    "    return True\n",
    "\n",
    "isPowerOf2(4)"
   ]
  },
  {
   "cell_type": "code",
   "execution_count": 62,
   "id": "45373bb5",
   "metadata": {},
   "outputs": [
    {
     "data": {
      "text/plain": [
       "4"
      ]
     },
     "execution_count": 62,
     "metadata": {},
     "output_type": "execute_result"
    }
   ],
   "source": [
    "# count the number of set bits in given number\n",
    "\n",
    "# def countSetBits(n):\n",
    "#     count = 0\n",
    "#     while n:\n",
    "#         if n & 1:\n",
    "#             count += 1\n",
    "            \n",
    "#         n >>= 1\n",
    "        \n",
    "#     return count\n",
    "\n",
    "def countSetBits(n):\n",
    "    count = 0\n",
    "    while n:\n",
    "        # clear the last set bit\n",
    "        n &= n-1\n",
    "        count += 1\n",
    "        \n",
    "    return count\n",
    "\n",
    "countSetBits(54)"
   ]
  },
  {
   "cell_type": "code",
   "execution_count": 54,
   "id": "98d872b1",
   "metadata": {},
   "outputs": [
    {
     "data": {
      "text/plain": [
       "(54, 16)"
      ]
     },
     "execution_count": 54,
     "metadata": {},
     "output_type": "execute_result"
    }
   ],
   "source": [
    "# find the two unique intergers\n",
    "\n",
    "def unique(arr):\n",
    "    # do xor of two unique intergers.\n",
    "    xor = 0\n",
    "    for i in arr:\n",
    "        xor ^= i\n",
    "        \n",
    "    # get the position of right most set bit on the basis of which we can differenciate these integerse.\n",
    "#     pos = 0\n",
    "#     while xor:\n",
    "#         if xor & 1:\n",
    "#             break\n",
    "            \n",
    "#         pos += 1\n",
    "#         xor >>= 1\n",
    "        \n",
    "    # position of right most set bit\n",
    "    pos = (xor & ~(xor-1))//2\n",
    "    \n",
    "    res1 = res2 = 0\n",
    "    for i in arr:\n",
    "        # if the bit is set at the calclated position then keep it in first group\n",
    "        if i & 1<<pos:\n",
    "            res1 ^= i\n",
    "            \n",
    "        # otherwise keep it in second group\n",
    "        else:\n",
    "            res2 ^= i\n",
    "            \n",
    "    return res1, res2\n",
    "\n",
    "unique([1, 16, 2, 3, 4, 54, 1, 2, 3, 4])"
   ]
  },
  {
   "cell_type": "markdown",
   "id": "51f033a3",
   "metadata": {},
   "source": [
    "# Power set algo"
   ]
  },
  {
   "cell_type": "code",
   "execution_count": 74,
   "id": "4eded625",
   "metadata": {},
   "outputs": [
    {
     "data": {
      "text/plain": [
       "[[], [1], [2], [1, 2], [3], [1, 3], [2, 3], [1, 2, 3]]"
      ]
     },
     "execution_count": 74,
     "metadata": {},
     "output_type": "execute_result"
    }
   ],
   "source": [
    "# return the subsets\n",
    "\n",
    "def subsets(arr):\n",
    "    subsets = []\n",
    "    for i in range(1<<len(arr)): # T(n) = O(2**n)\n",
    "        pos = 0\n",
    "        subset = []\n",
    "        while i: # T(n) = O(n)\n",
    "            if i & 1:\n",
    "                subset.append(arr[pos])\n",
    "                \n",
    "            pos += 1\n",
    "            i >>= 1\n",
    "            \n",
    "        subsets.append(subset)\n",
    "        \n",
    "    return subsets\n",
    "\n",
    "# T(n) = O(n)xO(2**n)\n",
    "subsets([1, 2, 3])"
   ]
  },
  {
   "cell_type": "code",
   "execution_count": 75,
   "id": "0c1a26a1",
   "metadata": {},
   "outputs": [
    {
     "data": {
      "text/plain": [
       "True"
      ]
     },
     "execution_count": 75,
     "metadata": {},
     "output_type": "execute_result"
    }
   ],
   "source": [
    "# petr clock\n",
    "\n",
    "def isPossible(arr):\n",
    "    for n in range(1<<len(arr)):\n",
    "        s = 0\n",
    "        for i in range(len(arr)):\n",
    "            if n & i<<1:\n",
    "                s += arr[i]\n",
    "                \n",
    "            else:\n",
    "                s -= arr[i]\n",
    "                \n",
    "        if not s%360:\n",
    "            return True\n",
    "        \n",
    "    return False\n",
    "\n",
    "isPossible([10, 20, 30])"
   ]
  },
  {
   "cell_type": "code",
   "execution_count": 88,
   "id": "814eadb8",
   "metadata": {},
   "outputs": [],
   "source": [
    "class Set:\n",
    "    def __init__(self):\n",
    "        self.x = 0\n",
    "        \n",
    "    def add(self, val):\n",
    "        mask = 1 << val\n",
    "        self.x |= mask\n",
    "    \n",
    "    def remove(self, val):\n",
    "        mask = 1 << val\n",
    "        self.x &= ~mask\n",
    "    \n",
    "    def printSet(self):\n",
    "        mask = 1\n",
    "        for i in range(64):\n",
    "            if self.x & mask:\n",
    "                print(i, end=' ')\n",
    "                \n",
    "            mask <<= 1"
   ]
  },
  {
   "cell_type": "code",
   "execution_count": 89,
   "id": "02169724",
   "metadata": {},
   "outputs": [
    {
     "name": "stdout",
     "output_type": "stream",
     "text": [
      "5 9 12 19 24 "
     ]
    }
   ],
   "source": [
    "s = Set()\n",
    "s.add(5)\n",
    "s.add(9)\n",
    "s.add(12)\n",
    "s.add(5)\n",
    "s.add(19)\n",
    "s.add(24)\n",
    "\n",
    "s.printSet()"
   ]
  },
  {
   "cell_type": "code",
   "execution_count": 92,
   "id": "fb1c4f80",
   "metadata": {},
   "outputs": [
    {
     "name": "stdout",
     "output_type": "stream",
     "text": [
      "5 9 12 24 "
     ]
    }
   ],
   "source": [
    "s.remove(19)\n",
    "s.printSet()"
   ]
  },
  {
   "cell_type": "markdown",
   "id": "d3830a97",
   "metadata": {},
   "source": [
    "# Pepcoding"
   ]
  },
  {
   "cell_type": "raw",
   "id": "8e8f7d3a",
   "metadata": {},
   "source": [
    "1. determine the right most set bit mask\n",
    "\n",
    "10   - 1 0 1 0\n",
    "mask - 0 0 1 0\n",
    "\n",
    "mask = n & n''\n",
    "\n",
    "explanation:-\n",
    "n = 10\n",
    "\n",
    "n  -  1 0 1 0\n",
    "\n",
    "n' -  0 1 0 1\n",
    "    + 0 0 0 1\n",
    "n'' = 0 1 1 0\n",
    "\n",
    "  n    1 0 1 0\n",
    "& n''  0 1 1 0\n",
    "mask   = 0 0 1 0\n",
    "\n",
    "\n",
    "\n",
    "mask = n & (n-1)'\n",
    "\n",
    "explanation:-\n",
    "n = 10\n",
    "\n",
    "n-1    = 1 0 0 1\n",
    "\n",
    "(n-1)' = 0 1 1 0\n",
    "\n",
    "  n     = 1 0 1 0\n",
    "&(n-1)' = 0 1 1 0\n",
    "\n",
    "mask    = 0 0 1 0"
   ]
  },
  {
   "cell_type": "code",
   "execution_count": 7,
   "id": "46a37395",
   "metadata": {},
   "outputs": [
    {
     "data": {
      "text/plain": [
       "2"
      ]
     },
     "execution_count": 7,
     "metadata": {},
     "output_type": "execute_result"
    }
   ],
   "source": [
    "def rmsbMask(n):\n",
    "    return n & ~(n-1)\n",
    "\n",
    "rmsbMask(10)"
   ]
  },
  {
   "cell_type": "code",
   "execution_count": null,
   "id": "19bc28b4",
   "metadata": {},
   "outputs": [],
   "source": []
  },
  {
   "cell_type": "code",
   "execution_count": 10,
   "id": "457a76cf",
   "metadata": {},
   "outputs": [
    {
     "data": {
      "text/plain": [
       "4"
      ]
     },
     "execution_count": 10,
     "metadata": {},
     "output_type": "execute_result"
    }
   ],
   "source": [
    "# Kernighan's Algorithm | Count Set Bits in an Integer\n",
    "\n",
    "def countSetBits(n):\n",
    "    count = 0\n",
    "    while n:\n",
    "        count += 1\n",
    "        n ^= n & ~(n-1)\n",
    "        \n",
    "    return count\n",
    "\n",
    "countSetBits(57)"
   ]
  },
  {
   "cell_type": "code",
   "execution_count": null,
   "id": "cd8d3011",
   "metadata": {},
   "outputs": [],
   "source": []
  },
  {
   "cell_type": "raw",
   "id": "bd7cb039",
   "metadata": {},
   "source": [
    "# Josephus Problem Algorithm using Bit Manipulation\n",
    "\n",
    "n - binary   2**x + l  2*l+1\n",
    "\n",
    "1 - 0 0 0 1  2**0 + 0  1\n",
    "2 - 0 0 1 0  2**1 + 0  1\n",
    ".\n",
    ".\n",
    ".\n",
    "\n",
    "7 - 0 1 1 1  2**2 + 3  7\n",
    "8 - 1 0 0 0  2**3 + 0  1\n",
    "\n",
    "res = 2*l + 1\n",
    "l = n - highest_val"
   ]
  },
  {
   "cell_type": "code",
   "execution_count": 34,
   "id": "bd19d7e7",
   "metadata": {},
   "outputs": [
    {
     "data": {
      "text/plain": [
       "3"
      ]
     },
     "execution_count": 34,
     "metadata": {},
     "output_type": "execute_result"
    }
   ],
   "source": [
    "def highestVal(n): # in terms of power of two\n",
    "    val = 1\n",
    "    while val*2 <= n:\n",
    "        val *= 2\n",
    "        \n",
    "    return val\n",
    "\n",
    "def servivedElement(n):\n",
    "    l = n - highestVal(n)\n",
    "    return 2*l + 1\n",
    "\n",
    "servivedElement(17)"
   ]
  },
  {
   "cell_type": "code",
   "execution_count": 46,
   "id": "051736de",
   "metadata": {},
   "outputs": [
    {
     "data": {
      "text/plain": [
       "3"
      ]
     },
     "execution_count": 46,
     "metadata": {},
     "output_type": "execute_result"
    }
   ],
   "source": [
    "def positionOfLastBit(n):\n",
    "    pos = 0\n",
    "    i = 0\n",
    "    while n:\n",
    "        if n & 1:\n",
    "            pos = i\n",
    "            \n",
    "        i += 1\n",
    "        n >>= 1\n",
    "        \n",
    "    return pos\n",
    "\n",
    "def servivedElement(n):\n",
    "    pos = positionOfLastBit(n)\n",
    "    mask = 1<<pos\n",
    "    \n",
    "    res = n ^ mask\n",
    "    \n",
    "    res <<= 1\n",
    "    return res + 1\n",
    "\n",
    "servivedElement(17)"
   ]
  },
  {
   "cell_type": "code",
   "execution_count": null,
   "id": "0fd1e91e",
   "metadata": {},
   "outputs": [],
   "source": []
  },
  {
   "cell_type": "code",
   "execution_count": 39,
   "id": "2e52b258",
   "metadata": {},
   "outputs": [
    {
     "data": {
      "text/plain": [
       "['000', '001', '010', '011', '100', '101', '110', '111']"
      ]
     },
     "execution_count": 39,
     "metadata": {},
     "output_type": "execute_result"
    }
   ],
   "source": [
    "def grayBitCode(n):\n",
    "    if not n:\n",
    "        return ['']\n",
    "    \n",
    "    rres = grayBitCode(n-1)\n",
    "    codes = []\n",
    "    for code in rres:\n",
    "        codes.append('0'+code)\n",
    "        \n",
    "    for code in rres:\n",
    "        codes.append('1'+code)\n",
    "        \n",
    "    return codes\n",
    "\n",
    "grayBitCode(3)"
   ]
  },
  {
   "cell_type": "code",
   "execution_count": null,
   "id": "5c1c1f6b",
   "metadata": {},
   "outputs": [],
   "source": []
  },
  {
   "cell_type": "code",
   "execution_count": 7,
   "id": "67e6fb46",
   "metadata": {},
   "outputs": [
    {
     "name": "stdout",
     "output_type": "stream",
     "text": [
      "[]\n"
     ]
    }
   ],
   "source": [
    "# minimum number of developers\n",
    "\n",
    "sol = []\n",
    "def minDeveloperHelper(nskills, people, cp, res, skill_mask):\n",
    "    global sol\n",
    "    if cp == len(people):\n",
    "        if skill_mask == (1<<nskills)-1:\n",
    "            if len(sol) == 0 or len(res) < len(sol):\n",
    "                sol = res\n",
    "                \n",
    "        return\n",
    "    \n",
    "    minDeveloperHelper(nskills, people, cp+1, res, skill_mask)\n",
    "    res.append(cp)\n",
    "    minDeveloperHelper(nskills, people, cp+1, res, (skill_mask|people[cp]))\n",
    "    res.pop()\n",
    "    \n",
    "def minDevelopers(nskills, npeople, people_skills):\n",
    "    people = []\n",
    "    for skills in people_skills:\n",
    "        mask = 0\n",
    "        for skill in skills:\n",
    "            mask |= 1<<skill\n",
    "            \n",
    "        people.append(mask)\n",
    "        \n",
    "    minDeveloperHelper(nskills, people, 0, [], 0)\n",
    "    print(sol)\n",
    "\n",
    "nskills = 5\n",
    "npeople = 4\n",
    "\n",
    "a = 0\n",
    "b = 1\n",
    "c = 2\n",
    "d = 3\n",
    "e = 4\n",
    "\n",
    "people_skills = [[a, c], [b, d], [a, b, c, d], [e]]\n",
    "\n",
    "minDevelopers(nskills, npeople, people_skills)"
   ]
  },
  {
   "cell_type": "code",
   "execution_count": null,
   "id": "c6bb662a",
   "metadata": {},
   "outputs": [],
   "source": []
  },
  {
   "cell_type": "code",
   "execution_count": 28,
   "id": "6383aaa6",
   "metadata": {},
   "outputs": [
    {
     "data": {
      "text/plain": [
       "2"
      ]
     },
     "execution_count": 28,
     "metadata": {},
     "output_type": "execute_result"
    }
   ],
   "source": [
    "# Number of Valid Words for Each Puzzle | Bit Manipulation | Leetcode Hard Solutions\n",
    "\n",
    "def countValidWords(puzzles, words):\n",
    "    h = {}\n",
    "    # put all the words corresponding to 'a' which have 'a' in it and do it for all the characters\n",
    "    for i in range(26):\n",
    "        h[i] = []\n",
    "        for word in words:\n",
    "            if chr(97+i) in word:\n",
    "                wmask = 0\n",
    "                for char in word:\n",
    "                    wmask |= 1<<(ord(char)-97)\n",
    "                h[i].append(wmask)\n",
    "        \n",
    "    count = 0\n",
    "    for puzzle in puzzles:\n",
    "        pmask = 0\n",
    "        for char in puzzle:\n",
    "            pmask |= 1<<(ord(char)-97)\n",
    "            \n",
    "        for wmask in h[ord(puzzle[0])-97]:\n",
    "            if pmask & wmask == wmask:\n",
    "                count += 1\n",
    "                \n",
    "    return count\n",
    "\n",
    "countValidWords(['helpero', 'tiss', 'phonethy'], [word for word in 'hello sir this is python'.split()])"
   ]
  },
  {
   "cell_type": "code",
   "execution_count": null,
   "id": "f0af92c2",
   "metadata": {},
   "outputs": [],
   "source": []
  },
  {
   "cell_type": "code",
   "execution_count": 55,
   "id": "1ea08e36",
   "metadata": {},
   "outputs": [
    {
     "data": {
      "text/plain": [
       "(2, 4)"
      ]
     },
     "execution_count": 55,
     "metadata": {},
     "output_type": "execute_result"
    }
   ],
   "source": [
    "# Find Duplicate Number and Missing Number from 1 to N\n",
    "\n",
    "def findNums(arr):\n",
    "    xor = 0\n",
    "    for i in range(1, len(arr)+1):\n",
    "        xor = xor ^ arr[i-1] ^ i\n",
    "        \n",
    "    # get the position of the right most set bit on the basis of which we can differenciate the intergers\n",
    "    pos = (xor & ~(xor-1))//2\n",
    "    \n",
    "    res1 = res2 = 0\n",
    "    for i in range(1, len(arr)+1):\n",
    "        if i & 1<<pos:\n",
    "            res1 ^= i\n",
    "            \n",
    "        else:\n",
    "            res2 ^= i\n",
    "            \n",
    "            \n",
    "        if arr[i-1] & 1<<pos:\n",
    "            res1 ^= arr[i-1]\n",
    "            \n",
    "        else:\n",
    "            res2 ^= arr[i-1]\n",
    "            \n",
    "    return res1, res2\n",
    "\n",
    "\n",
    "findNums([3, 6, 2, 5, 1, 2, 7])"
   ]
  },
  {
   "cell_type": "code",
   "execution_count": 6,
   "id": "b5994e94",
   "metadata": {},
   "outputs": [
    {
     "data": {
      "text/plain": [
       "4"
      ]
     },
     "execution_count": 6,
     "metadata": {},
     "output_type": "execute_result"
    }
   ],
   "source": [
    "# find element that appears once where all others appear thrice\n",
    "\n",
    "# 1. hashmap and linear traversal\n",
    "def singleNum(arr):\n",
    "    h = {}\n",
    "    for ele in arr:\n",
    "        h[ele] = h.get(ele, 0)+1\n",
    "        \n",
    "    for ele in h:\n",
    "        if h[ele] == 1:\n",
    "            return ele\n",
    "        \n",
    "# 2. sorting and linear traversal\n",
    "def singleNum(arr):\n",
    "    arr.sort()\n",
    "    i = 1\n",
    "    while i < len(arr):\n",
    "        if arr[i-1] != arr[i]:\n",
    "            return arr[i-1]\n",
    "        \n",
    "        i += 3\n",
    "        \n",
    "    if arr[0] != arr[1]:\n",
    "        return arr[0]\n",
    "    \n",
    "    else:\n",
    "        return arr[-1]\n",
    "    \n",
    "# 4. bit manipulation\n",
    "def singleNum(arr):\n",
    "    ones = 0\n",
    "    twos = 0\n",
    "    for ele in arr:\n",
    "        ones = (ones^ele) & (~twos)\n",
    "        twos = (twos^ele) & (~ones)\n",
    "        \n",
    "    return ones\n",
    "\n",
    "arr = [1, 3, 3, 4, 2, 2, 3, 1, 2, 1]\n",
    "singleNum(arr)"
   ]
  },
  {
   "cell_type": "code",
   "execution_count": null,
   "id": "8c729b60",
   "metadata": {},
   "outputs": [],
   "source": []
  },
  {
   "cell_type": "code",
   "execution_count": null,
   "id": "af3fa47c",
   "metadata": {},
   "outputs": [],
   "source": []
  },
  {
   "cell_type": "raw",
   "id": "f354b302",
   "metadata": {},
   "source": [
    "1. You are given an array(arr) of N numbers.\n",
    "2. You have to select three indices i,j,k following this condition -> \n",
    "      0 <= i < j <= k < arr.length\n",
    "3. Two numbers X and Y as defined as :\n",
    "      X = arr[i] ^ arr[i+1] ^ ... ^ arr[j - 1]\n",
    "      Y = arr[j] ^ arr[j+1] ^ ... ^ arr[k]\n",
    "4. You have to print the number of triplets where X is equal to Y."
   ]
  },
  {
   "cell_type": "code",
   "execution_count": 12,
   "id": "64aa3856",
   "metadata": {},
   "outputs": [
    {
     "data": {
      "text/plain": [
       "18"
      ]
     },
     "execution_count": 12,
     "metadata": {},
     "output_type": "execute_result"
    }
   ],
   "source": [
    "def countTriplets(arr):\n",
    "    count = 0\n",
    "    for i in range(len(arr)):\n",
    "        xor = arr[i]\n",
    "        for k in range(i+1, len(arr)):\n",
    "            xor ^= arr[k]\n",
    "            \n",
    "        if not xor:\n",
    "            count += k-i\n",
    "\n",
    "    return  count\n",
    "\n",
    "arr = [1, 3, 2, 5, 7, 2, 7, 5, 6, 4]\n",
    "countTriplets(arr)"
   ]
  },
  {
   "cell_type": "code",
   "execution_count": null,
   "id": "1c63970a",
   "metadata": {},
   "outputs": [],
   "source": []
  },
  {
   "cell_type": "code",
   "execution_count": 24,
   "id": "762e897f",
   "metadata": {},
   "outputs": [
    {
     "name": "stdout",
     "output_type": "stream",
     "text": [
      "pep\n",
      "pe1\n",
      "p1p\n",
      "p2\n",
      "1ep\n",
      "1e1\n",
      "2p\n",
      "3\n"
     ]
    }
   ],
   "source": [
    "# Print Abbreviations using Bit Manipulation\n",
    "\n",
    "def printAbreviations(s):\n",
    "    for n in range(1<<len(s)):\n",
    "        count = 0\n",
    "        res = ''\n",
    "        for i in range(len(s)):\n",
    "            if not n & 1<<i:\n",
    "                if not count:\n",
    "                    res = s[len(s)-1 - i] + res\n",
    "                \n",
    "                else:\n",
    "                    res = str(count) + res\n",
    "                    res = s[len(s)-1 - i] + res\n",
    "                    count = 0\n",
    "            else:\n",
    "                count += 1\n",
    "                \n",
    "        if count > 0:\n",
    "            res = str(count) + res\n",
    "            \n",
    "        print(res)\n",
    "        \n",
    "printAbreviations('pep')"
   ]
  },
  {
   "cell_type": "code",
   "execution_count": null,
   "id": "21b10a2e",
   "metadata": {},
   "outputs": [],
   "source": []
  },
  {
   "cell_type": "code",
   "execution_count": 29,
   "id": "ecce624f",
   "metadata": {},
   "outputs": [
    {
     "data": {
      "text/plain": [
       "3"
      ]
     },
     "execution_count": 29,
     "metadata": {},
     "output_type": "execute_result"
    }
   ],
   "source": [
    "# count of flip bits to convert a to b\n",
    "\n",
    "def countSetBits(n):\n",
    "    count = 0\n",
    "    while n:\n",
    "        count += 1\n",
    "        n &= n-1\n",
    "    \n",
    "    return count\n",
    "\n",
    "def countFlipBits(a, b):\n",
    "    xor = a ^ b\n",
    "    return countSetBits(xor)\n",
    "\n",
    "count(57, 42)"
   ]
  },
  {
   "cell_type": "code",
   "execution_count": null,
   "id": "14857d93",
   "metadata": {},
   "outputs": [],
   "source": []
  },
  {
   "cell_type": "code",
   "execution_count": 35,
   "id": "f352c236",
   "metadata": {},
   "outputs": [
    {
     "data": {
      "text/plain": [
       "84"
      ]
     },
     "execution_count": 35,
     "metadata": {},
     "output_type": "execute_result"
    }
   ],
   "source": [
    "# Toggle Bits in a Range\n",
    "\n",
    "def toggleBits(a, b, l, r):\n",
    "    mask = 1 << (l - r)\n",
    "    mask -= 1\n",
    "    \n",
    "    mask <<= r\n",
    "    \n",
    "    mask &= a\n",
    "    \n",
    "    return b | mask\n",
    "\n",
    "toggleBits(52, 68, 5, 2)"
   ]
  },
  {
   "cell_type": "code",
   "execution_count": 2,
   "id": "5ba8018d",
   "metadata": {},
   "outputs": [
    {
     "data": {
      "text/plain": [
       "False"
      ]
     },
     "execution_count": 2,
     "metadata": {},
     "output_type": "execute_result"
    }
   ],
   "source": [
    "def isPow2(n):\n",
    "    if n & (n-1):\n",
    "        return False\n",
    "    \n",
    "    return True\n",
    "\n",
    "isPow2(15)"
   ]
  },
  {
   "cell_type": "code",
   "execution_count": 12,
   "id": "45f2276c",
   "metadata": {},
   "outputs": [
    {
     "data": {
      "text/plain": [
       "('0b10101010', '0b1010101')"
      ]
     },
     "execution_count": 12,
     "metadata": {},
     "output_type": "execute_result"
    }
   ],
   "source": [
    "# even bits mask\n",
    "\n",
    "even_mask = bin(0xaa)\n",
    "odd_mask = bin(0x55)\n",
    "\n",
    "even_mask, odd_mask"
   ]
  },
  {
   "cell_type": "code",
   "execution_count": null,
   "id": "958d7e24",
   "metadata": {},
   "outputs": [],
   "source": []
  }
 ],
 "metadata": {
  "kernelspec": {
   "display_name": "Python 3",
   "language": "python",
   "name": "python3"
  },
  "language_info": {
   "codemirror_mode": {
    "name": "ipython",
    "version": 3
   },
   "file_extension": ".py",
   "mimetype": "text/x-python",
   "name": "python",
   "nbconvert_exporter": "python",
   "pygments_lexer": "ipython3",
   "version": "3.8.8"
  }
 },
 "nbformat": 4,
 "nbformat_minor": 5
}
