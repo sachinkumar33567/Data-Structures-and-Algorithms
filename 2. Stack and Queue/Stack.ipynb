{
 "cells": [
  {
   "cell_type": "markdown",
   "id": "785467c8",
   "metadata": {},
   "source": [
    "### Balanced Paranthesis"
   ]
  },
  {
   "cell_type": "code",
   "execution_count": null,
   "id": "40c01dfa",
   "metadata": {},
   "outputs": [],
   "source": [
    "'''string expression containing only round brackets or parentheses'''"
   ]
  },
  {
   "cell_type": "code",
   "execution_count": 13,
   "id": "36a903bb",
   "metadata": {},
   "outputs": [
    {
     "data": {
      "text/plain": [
       "False"
      ]
     },
     "execution_count": 13,
     "metadata": {},
     "output_type": "execute_result"
    }
   ],
   "source": [
    "def isBalanced(exp):\n",
    "    s = []\n",
    "    \n",
    "    for i in exp:\n",
    "        if i in '{(':\n",
    "            s.append(i)\n",
    "            \n",
    "        if i in ')}':\n",
    "            if s and s[-1] in '{(':\n",
    "                s.pop()\n",
    "            else:\n",
    "                return False\n",
    "            \n",
    "    if not s:\n",
    "        return True\n",
    "    return False\n",
    "\n",
    "isBalanced('()()(()')"
   ]
  },
  {
   "cell_type": "markdown",
   "id": "0789dde0",
   "metadata": {},
   "source": [
    "### Reverse a Stack"
   ]
  },
  {
   "cell_type": "code",
   "execution_count": 31,
   "id": "b0fd534d",
   "metadata": {},
   "outputs": [
    {
     "data": {
      "text/plain": [
       "[5, 4, 3, 2, 1]"
      ]
     },
     "execution_count": 31,
     "metadata": {},
     "output_type": "execute_result"
    }
   ],
   "source": [
    "def reverse(s1, s2):\n",
    "    if not s1 or len(s1) == 1:\n",
    "        return s1\n",
    "    \n",
    "    for _ in range(len(s1)-1):\n",
    "        s2.append(s1.pop())\n",
    "        \n",
    "    ele = s1.pop()\n",
    "    \n",
    "    while s2:\n",
    "        s1.append(s2.pop())\n",
    "        \n",
    "    rres = reverse(s1, s2)\n",
    "    rres.append(ele)\n",
    "    \n",
    "    return rres\n",
    "\n",
    "reverse([1, 2, 3, 4, 5], [])"
   ]
  },
  {
   "cell_type": "markdown",
   "id": "bfd393ec",
   "metadata": {},
   "source": [
    "### Check redundant brackets"
   ]
  },
  {
   "cell_type": "code",
   "execution_count": 51,
   "id": "a357ae7a",
   "metadata": {},
   "outputs": [
    {
     "data": {
      "text/plain": [
       "True"
      ]
     },
     "execution_count": 51,
     "metadata": {},
     "output_type": "execute_result"
    }
   ],
   "source": [
    "def isRedundant(exp):\n",
    "    s = []\n",
    "    for i in exp:\n",
    "        if i not in ')}':\n",
    "            s.append(i)\n",
    "            \n",
    "        else:\n",
    "            count = 0\n",
    "            while s[-1] not in '{(':\n",
    "                if s[-1] in '+-*/%//':\n",
    "                    count += 1\n",
    "                s.pop()\n",
    "            s.pop()\n",
    "            \n",
    "            if count == 0:\n",
    "                return True\n",
    "    \n",
    "    return False\n",
    "\n",
    "isRedundant('(b)')"
   ]
  },
  {
   "cell_type": "markdown",
   "id": "7be3f4fb",
   "metadata": {},
   "source": [
    "### Stock Spam"
   ]
  },
  {
   "cell_type": "code",
   "execution_count": 59,
   "id": "d1922d75",
   "metadata": {},
   "outputs": [
    {
     "data": {
      "text/plain": [
       "[1, 1, 1, 2, 1, 4, 6]"
      ]
     },
     "execution_count": 59,
     "metadata": {},
     "output_type": "execute_result"
    }
   ],
   "source": [
    "def spams(stocks):\n",
    "    s = [0]\n",
    "    spams = [1]\n",
    "    \n",
    "    for i in range(1, len(stocks)):\n",
    "        while s and stocks[i] > stocks[s[-1]]:\n",
    "            s.pop()\n",
    "            \n",
    "        if not s:\n",
    "            spams.append(i+1)\n",
    "            \n",
    "        else:\n",
    "            spams.append(i-s[-1])\n",
    "            \n",
    "        s.append(i)\n",
    "        \n",
    "    return spams\n",
    "\n",
    "stocks = [100, 80, 60, 70, 60, 75, 85]\n",
    "spams(stocks)"
   ]
  },
  {
   "cell_type": "markdown",
   "id": "dd02c0fc",
   "metadata": {},
   "source": [
    "### Minimum bracket Reversal"
   ]
  },
  {
   "cell_type": "code",
   "execution_count": 61,
   "id": "83f559a8",
   "metadata": {},
   "outputs": [
    {
     "data": {
      "text/plain": [
       "3"
      ]
     },
     "execution_count": 61,
     "metadata": {},
     "output_type": "execute_result"
    }
   ],
   "source": [
    "def countBracketReversals(string):\n",
    "    if len(string) % 2 != 0:\n",
    "        return -1\n",
    "    \n",
    "    else:\n",
    "        s = []\n",
    "        for i in string:\n",
    "            if i == '{':\n",
    "                s.append(i)\n",
    "                \n",
    "            else:\n",
    "                if len(s) == 0:\n",
    "                    s.append(i)\n",
    "                    \n",
    "                else:\n",
    "                    if s[-1] == '{':\n",
    "                        s.pop()\n",
    "                        \n",
    "                    else:\n",
    "                        s.append(i)\n",
    "                        \n",
    "        count = 0\n",
    "        while len(s) > 0:\n",
    "            c1 = s.pop()\n",
    "            c2 = s.pop()\n",
    "            if c1 == c2:\n",
    "                count += 1\n",
    "                \n",
    "            else:\n",
    "                count += 2\n",
    "                \n",
    "    return count\n",
    "\n",
    "\n",
    "countBracketReversals('}}}{')"
   ]
  },
  {
   "cell_type": "code",
   "execution_count": null,
   "id": "d7414ffc",
   "metadata": {},
   "outputs": [],
   "source": []
  }
 ],
 "metadata": {
  "kernelspec": {
   "display_name": "Python 3 (ipykernel)",
   "language": "python",
   "name": "python3"
  },
  "language_info": {
   "codemirror_mode": {
    "name": "ipython",
    "version": 3
   },
   "file_extension": ".py",
   "mimetype": "text/x-python",
   "name": "python",
   "nbconvert_exporter": "python",
   "pygments_lexer": "ipython3",
   "version": "3.9.13"
  }
 },
 "nbformat": 4,
 "nbformat_minor": 5
}
