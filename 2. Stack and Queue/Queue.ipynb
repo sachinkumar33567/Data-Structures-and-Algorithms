{
 "cells": [
  {
   "cell_type": "markdown",
   "id": "6c0e5177",
   "metadata": {},
   "source": [
    "## queue using two stacks"
   ]
  },
  {
   "cell_type": "code",
   "execution_count": 2,
   "id": "e2f40f22",
   "metadata": {},
   "outputs": [],
   "source": [
    "class QueueUsingTwoStacks:\n",
    "    def __init__(self):\n",
    "        self.s1 = []\n",
    "        self.s2 = []\n",
    "        \n",
    "    def enqueue(self, data): # O(1)\n",
    "        self.s1.append(data)\n",
    "        \n",
    "    def dequeue(self): # O(n)\n",
    "        if len(self.s1) < 1:\n",
    "            return -1\n",
    "        \n",
    "        while len(self.s1) != 0:\n",
    "            self.s2.append(self.s1.pop())\n",
    "            \n",
    "        item = self.s2.pop()\n",
    "        \n",
    "        while len(self.s2) != 0:\n",
    "            self.s1.append(self.s2.pop())\n",
    "            \n",
    "        return item\n",
    "    \n",
    "    def front(self): # O(n)\n",
    "        if len(self.s1) < 1:\n",
    "            return -1\n",
    "        \n",
    "        for i in range(len(self.s1)):\n",
    "            self.s2.append(self.s1.pop())\n",
    "            \n",
    "        return self.s2[-1]\n",
    "    \n",
    "    def getSize(self):\n",
    "        return len(self.s1)\n",
    "    \n",
    "    def isEmpty(self):\n",
    "        return self.getSize() == 0"
   ]
  },
  {
   "cell_type": "markdown",
   "id": "3f8a0f8c",
   "metadata": {},
   "source": [
    "## stack using two queues"
   ]
  },
  {
   "cell_type": "code",
   "execution_count": 4,
   "id": "23b1164c",
   "metadata": {},
   "outputs": [],
   "source": [
    "class StackUsingTwoQueues:\n",
    "    def __init__(self):\n",
    "        self.q1 = []\n",
    "        self.q2 = []\n",
    "        \n",
    "    def push(self, data):\n",
    "        self.q1.append(data)\n",
    "        \n",
    "    def pop(self):\n",
    "        if len(self.q1) < 1:\n",
    "            return -1\n",
    "        \n",
    "        while len(self.q1) != 1:\n",
    "            self.q2.append(self.q1.pop(0))\n",
    "            \n",
    "        item = self.q1.pop()\n",
    "        \n",
    "        while len(self.q2) != 0:\n",
    "            self.q1.append(self.q2.pop(0))\n",
    "            \n",
    "        return item\n",
    "    \n",
    "    def top(self):\n",
    "        if len(self.q1) < 1:\n",
    "            return -1\n",
    "        \n",
    "        i = 0\n",
    "        while i < len(self.q1) -1:\n",
    "            i += 1\n",
    "            \n",
    "        return self.q1[i]\n",
    "    \n",
    "    def getSize(self):\n",
    "        return len(self.q1)\n",
    "    \n",
    "    def isEmpty(self):\n",
    "        return self.getSize() == 0"
   ]
  },
  {
   "cell_type": "markdown",
   "id": "92871e9e",
   "metadata": {},
   "source": [
    "## double ended queue"
   ]
  },
  {
   "cell_type": "code",
   "execution_count": 11,
   "id": "9199300b",
   "metadata": {},
   "outputs": [],
   "source": [
    "class Dequeue:\n",
    "    def __init__(self):\n",
    "        self.__arr = []\n",
    "        \n",
    "    def insertFront(self, data):\n",
    "        self.__arr.insert(0, data)\n",
    "        \n",
    "    def insertRear(self, data):\n",
    "        self.__arr.append(data)\n",
    "        \n",
    "    def deleteFront(self):\n",
    "        return self.__arr.pop(0)\n",
    "        \n",
    "    def deleteRear(self):\n",
    "        return self.__arr.pop()\n",
    "        \n",
    "    def getFront(self):\n",
    "        return self.__arr[0]\n",
    "        \n",
    "    def getRear(self):\n",
    "        return self.__arr[-1]"
   ]
  },
  {
   "cell_type": "code",
   "execution_count": 8,
   "id": "a8653c5f",
   "metadata": {},
   "outputs": [
    {
     "data": {
      "text/plain": [
       "[4, 3, 2, 1]"
      ]
     },
     "execution_count": 8,
     "metadata": {},
     "output_type": "execute_result"
    }
   ],
   "source": [
    "def reverse(q):\n",
    "    if not q:\n",
    "        return\n",
    "    \n",
    "    ele = q.pop(0)\n",
    "    reverse(q)\n",
    "    \n",
    "    q.append(ele)\n",
    "    return q\n",
    "\n",
    "reverse([1, 2, 3, 4])"
   ]
  },
  {
   "cell_type": "code",
   "execution_count": 9,
   "id": "3726b91d",
   "metadata": {},
   "outputs": [
    {
     "data": {
      "text/plain": [
       "[3, 2, 1, 4, 5]"
      ]
     },
     "execution_count": 9,
     "metadata": {},
     "output_type": "execute_result"
    }
   ],
   "source": [
    "# reverse first K elements\n",
    "\n",
    "def kReverse(q, k):\n",
    "    q = reverse(q)\n",
    "    n = len(q)\n",
    "    s = []\n",
    "    \n",
    "    while n - k:\n",
    "        s.append(q.pop(0))\n",
    "        n -= 1\n",
    "        \n",
    "    while s:\n",
    "        q.append(s.pop())\n",
    "        \n",
    "    return q\n",
    "\n",
    "kReverse([1, 2, 3, 4, 5], 3)"
   ]
  },
  {
   "cell_type": "code",
   "execution_count": null,
   "id": "2c69ee36",
   "metadata": {},
   "outputs": [],
   "source": []
  }
 ],
 "metadata": {
  "kernelspec": {
   "display_name": "Python 3 (ipykernel)",
   "language": "python",
   "name": "python3"
  },
  "language_info": {
   "codemirror_mode": {
    "name": "ipython",
    "version": 3
   },
   "file_extension": ".py",
   "mimetype": "text/x-python",
   "name": "python",
   "nbconvert_exporter": "python",
   "pygments_lexer": "ipython3",
   "version": "3.9.13"
  }
 },
 "nbformat": 4,
 "nbformat_minor": 5
}
