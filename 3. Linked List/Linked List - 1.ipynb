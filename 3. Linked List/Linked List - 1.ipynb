{
 "cells": [
  {
   "cell_type": "code",
   "execution_count": 1,
   "id": "84625074",
   "metadata": {},
   "outputs": [],
   "source": [
    "class Node:\n",
    "    def __init__(self, data):\n",
    "        self.data = data\n",
    "        self.next = None\n",
    "        \n",
    "def takeInput():\n",
    "    lis = [int(i) for i in input().split()]\n",
    "    \n",
    "    head = None\n",
    "    tail = None\n",
    "    \n",
    "    for i in lis:\n",
    "        if i == -1:\n",
    "            break\n",
    "            \n",
    "        if not head:\n",
    "            head = Node(i)\n",
    "            tail = head\n",
    "            \n",
    "        else:\n",
    "            tail.next = Node(i)\n",
    "            tail = tail.next\n",
    "            \n",
    "    return head\n",
    "\n",
    "def printLL(head):\n",
    "    if not head:\n",
    "        return\n",
    "    \n",
    "    print(head.data, end = ' ')\n",
    "    printLL(head.next)"
   ]
  },
  {
   "cell_type": "code",
   "execution_count": 12,
   "id": "a6dab16a",
   "metadata": {},
   "outputs": [],
   "source": [
    "def length(head):\n",
    "    if not head:\n",
    "        return 0\n",
    "    \n",
    "    return 1 + length(head.next)"
   ]
  },
  {
   "cell_type": "code",
   "execution_count": 16,
   "id": "48d824f8",
   "metadata": {},
   "outputs": [],
   "source": [
    "def ithNode(head, i):\n",
    "    if not head:\n",
    "        return\n",
    "    \n",
    "    if i == 0:\n",
    "        return head.data\n",
    "    \n",
    "    return ithNode(head.next, i-1)"
   ]
  },
  {
   "cell_type": "code",
   "execution_count": 59,
   "id": "3e116f8a",
   "metadata": {},
   "outputs": [],
   "source": [
    "def insert(head, i, data):\n",
    "    if i < 0:\n",
    "        return head\n",
    "    \n",
    "    if not head:\n",
    "        return Node(data)\n",
    "    \n",
    "    if i == 0:\n",
    "        node = Node(data)\n",
    "        node.next = head\n",
    "        return node\n",
    "    \n",
    "    recurHead = insert(head.next, i-1, data)\n",
    "    head.next = recurHead\n",
    "    return head"
   ]
  },
  {
   "cell_type": "code",
   "execution_count": 60,
   "id": "d5e94a9d",
   "metadata": {},
   "outputs": [],
   "source": [
    "def delete(head, i):\n",
    "    if i < 0 or not head:\n",
    "        return head\n",
    "    \n",
    "    if i == 0:\n",
    "        return head.next\n",
    "    \n",
    "    recurHead = delete(head.next, i-1)\n",
    "    head.next = recurHead\n",
    "    return head"
   ]
  },
  {
   "cell_type": "code",
   "execution_count": null,
   "id": "a862bcaa",
   "metadata": {},
   "outputs": [],
   "source": []
  },
  {
   "cell_type": "code",
   "execution_count": null,
   "id": "2260abdd",
   "metadata": {},
   "outputs": [],
   "source": []
  },
  {
   "cell_type": "markdown",
   "id": "40894232",
   "metadata": {},
   "source": [
    "# Assignments"
   ]
  },
  {
   "cell_type": "code",
   "execution_count": 73,
   "id": "9871f8a0",
   "metadata": {},
   "outputs": [],
   "source": [
    "def findNode(head, node):\n",
    "    if not head:\n",
    "        return -1\n",
    "    \n",
    "    if head.data == node:\n",
    "        return 0\n",
    "    \n",
    "    rres = findNode(head.next, node)\n",
    "    if rres == -1:\n",
    "        return -1\n",
    "    \n",
    "    return 1 + rres"
   ]
  },
  {
   "cell_type": "code",
   "execution_count": 13,
   "id": "bb0ae64e",
   "metadata": {},
   "outputs": [],
   "source": [
    "# AppendLastNToFirst\n",
    "\n",
    "def length(head):\n",
    "    if not head:\n",
    "        return 0\n",
    "    \n",
    "    return 1 + length(head.next)\n",
    "\n",
    "def insertLastNnodes(head, n):\n",
    "    if not head or not n:\n",
    "        return head\n",
    "    \n",
    "    l = length(head)\n",
    "    end = l - n\n",
    "    \n",
    "    curr = head\n",
    "    while end > 1:\n",
    "        curr = curr.next\n",
    "        end -= 1\n",
    "    \n",
    "    newHead = curr.next\n",
    "    curr.next = None\n",
    "    \n",
    "    curr = newHead\n",
    "    while curr.next:\n",
    "        curr = curr.next\n",
    "        \n",
    "    curr.next = head\n",
    "    return newHead"
   ]
  },
  {
   "cell_type": "code",
   "execution_count": 2,
   "id": "ef99fdce",
   "metadata": {},
   "outputs": [],
   "source": [
    "def removeDuplicates(head):\n",
    "    if not head or not head.next:\n",
    "        return head\n",
    "    \n",
    "    recurHead = removeDuplicates(head.next)\n",
    "    if not head.data == recurHead.data:\n",
    "        head.next = recurHead\n",
    "        return head\n",
    "    \n",
    "    return recurHead"
   ]
  },
  {
   "cell_type": "code",
   "execution_count": 33,
   "id": "9583041a",
   "metadata": {},
   "outputs": [],
   "source": [
    "def reverse(head):\n",
    "    if not head or not head.next:\n",
    "        return head\n",
    "    \n",
    "    recurHead = reverse(head.next)\n",
    "    tail = head.next\n",
    "    head.next = None\n",
    "    tail.next = head\n",
    "    \n",
    "    return recurHead"
   ]
  },
  {
   "cell_type": "code",
   "execution_count": 50,
   "id": "33bc16f3",
   "metadata": {},
   "outputs": [],
   "source": [
    "def middle(head):\n",
    "    slow = head\n",
    "    fast = head\n",
    "    \n",
    "    while fast and fast.next:\n",
    "        slow = slow.next\n",
    "        fast = fast.next.next\n",
    "        \n",
    "    return slow\n",
    "\n",
    "def isPalindromeHelper(head, revHead):\n",
    "    if not revHead:\n",
    "        return True\n",
    "    \n",
    "    if head.data == revHead.data:\n",
    "        return isPalindromeHelper(head.next, revHead.next)\n",
    "    \n",
    "    return False\n",
    "    \n",
    "def isPalindrome(head):\n",
    "    mid = middle(head)\n",
    "    revHead = reverse(mid)\n",
    "    return isPalindromeHelper(head, revHead)"
   ]
  },
  {
   "cell_type": "code",
   "execution_count": 57,
   "id": "154511f1",
   "metadata": {},
   "outputs": [
    {
     "name": "stdout",
     "output_type": "stream",
     "text": [
      "1 2 3 1\n"
     ]
    }
   ],
   "source": [
    "head = takeInput()"
   ]
  },
  {
   "cell_type": "code",
   "execution_count": 58,
   "id": "3f24eb49",
   "metadata": {},
   "outputs": [
    {
     "data": {
      "text/plain": [
       "False"
      ]
     },
     "execution_count": 58,
     "metadata": {},
     "output_type": "execute_result"
    }
   ],
   "source": [
    "isPalindrome(head)"
   ]
  },
  {
   "cell_type": "code",
   "execution_count": null,
   "id": "9f439185",
   "metadata": {},
   "outputs": [],
   "source": []
  }
 ],
 "metadata": {
  "kernelspec": {
   "display_name": "Python 3",
   "language": "python",
   "name": "python3"
  },
  "language_info": {
   "codemirror_mode": {
    "name": "ipython",
    "version": 3
   },
   "file_extension": ".py",
   "mimetype": "text/x-python",
   "name": "python",
   "nbconvert_exporter": "python",
   "pygments_lexer": "ipython3",
   "version": "3.8.8"
  }
 },
 "nbformat": 4,
 "nbformat_minor": 5
}
