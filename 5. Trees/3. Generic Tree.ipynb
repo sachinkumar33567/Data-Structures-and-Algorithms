{
 "cells": [
  {
   "cell_type": "code",
   "execution_count": 1,
   "id": "d55a36c4",
   "metadata": {},
   "outputs": [],
   "source": [
    "class GenericTreeNode:\n",
    "    def __init__(self, data):\n",
    "        self.data = data\n",
    "        self.children = []\n",
    "\n",
    "def takeInputRecursively():\n",
    "    data = int(input('enter root data: '))\n",
    "    n = int(input('enter number of children: '))\n",
    "    \n",
    "    root = GenericTreeNode(data)\n",
    "    for i in range(n):\n",
    "        child = takeInputRecursively()\n",
    "        root.children.append(child)\n",
    "        \n",
    "    return root\n",
    "\n",
    "def printTreeRecursively(root):\n",
    "    if not root:\n",
    "        return\n",
    "    \n",
    "    print(root.data, end = ': ')\n",
    "    for child in root.children:\n",
    "        print(child.data, end = ', ')\n",
    "        \n",
    "    print()\n",
    "    \n",
    "    for child in root.children:\n",
    "        printTreeRecursively(child)"
   ]
  },
  {
   "cell_type": "code",
   "execution_count": 1,
   "id": "d8c5ac1a",
   "metadata": {},
   "outputs": [],
   "source": [
    "class GenericTreeNode:\n",
    "    def __init__(self, data):\n",
    "        self.data = data\n",
    "        self.children = []\n",
    "\n",
    "def takeInput():\n",
    "    inputList = [int(i) for i in input().split()]\n",
    "    q = []\n",
    "    \n",
    "    root = GenericTreeNode(inputList[0])\n",
    "    q.append(root)\n",
    "    \n",
    "    i = 1\n",
    "    while q:\n",
    "        node = q.pop(0)\n",
    "        n = inputList[i]\n",
    "        \n",
    "        i += 1\n",
    "        for _ in range(n):\n",
    "            child = GenericTreeNode(inputList[i])\n",
    "            node.children.append(child)\n",
    "            q.append(child)\n",
    "            i += 1\n",
    "            \n",
    "    return root\n",
    "\n",
    "def printTree(root):\n",
    "    q = []\n",
    "    q.append(root)\n",
    "    \n",
    "    while q:\n",
    "        node = q.pop(0)\n",
    "        print(node.data, end = ': ')\n",
    "\n",
    "        for child in node.children:\n",
    "            print(child.data, end = ', ')\n",
    "            q.append(child)\n",
    "        print()"
   ]
  },
  {
   "cell_type": "markdown",
   "id": "3f74e6b8",
   "metadata": {},
   "source": [
    "# Problems"
   ]
  },
  {
   "cell_type": "code",
   "execution_count": null,
   "id": "336a16bc",
   "metadata": {},
   "outputs": [],
   "source": [
    "'''there is no need of base case, because if node doesn't have any children then the for loop will take care for that'''"
   ]
  },
  {
   "cell_type": "code",
   "execution_count": 89,
   "id": "36348ff7",
   "metadata": {},
   "outputs": [],
   "source": [
    "# number of nodes\n",
    "\n",
    "def countNodes(root):\n",
    "    count = 1\n",
    "    for child in root.children:\n",
    "        count += countNodes(child)\n",
    "        \n",
    "    return count"
   ]
  },
  {
   "cell_type": "code",
   "execution_count": 85,
   "id": "f9580984",
   "metadata": {},
   "outputs": [],
   "source": [
    "# sum of nodes\n",
    "\n",
    "def sum_(root):\n",
    "    res = root.data\n",
    "    for child in root.children:\n",
    "        res += sum_(child)\n",
    "        \n",
    "    return res"
   ]
  },
  {
   "cell_type": "code",
   "execution_count": 90,
   "id": "cbf8d567",
   "metadata": {},
   "outputs": [],
   "source": [
    "# node with largest data\n",
    "\n",
    "def max_(root):\n",
    "    res = root.data\n",
    "    for child in root.children:\n",
    "        res = max(res, max_(child))\n",
    "        \n",
    "    return res"
   ]
  },
  {
   "cell_type": "code",
   "execution_count": 95,
   "id": "26258081",
   "metadata": {},
   "outputs": [],
   "source": [
    "# height of the tree\n",
    "\n",
    "def height(root):\n",
    "    h = 0\n",
    "    for child in root.children:\n",
    "        h = max(h, height(child))\n",
    "        \n",
    "    return 1 + h\n",
    "\n",
    "def height(root):\n",
    "    h = 0\n",
    "    for child in root.children:\n",
    "        rres = height(child)\n",
    "        if rres > h:\n",
    "            h = rres\n",
    "            \n",
    "    return 1 + h"
   ]
  },
  {
   "cell_type": "code",
   "execution_count": 105,
   "id": "b2d8f7ea",
   "metadata": {},
   "outputs": [],
   "source": [
    "# is present\n",
    "\n",
    "def isPresent(root, node):\n",
    "    if root.data == node:\n",
    "        return True\n",
    "    \n",
    "    res = False\n",
    "    for child in root.children:\n",
    "        res = res or isPresent(child, node)\n",
    "        \n",
    "    return res"
   ]
  },
  {
   "cell_type": "code",
   "execution_count": 110,
   "id": "8b9e912a",
   "metadata": {},
   "outputs": [],
   "source": [
    "# count leaf nodes\n",
    "\n",
    "def countLeafNodes(root):\n",
    "    if not root.children:\n",
    "        return 1\n",
    "    \n",
    "    res = 0\n",
    "    for child in root.children:\n",
    "        res += countLeafNodes(child)\n",
    "        \n",
    "    return res"
   ]
  },
  {
   "cell_type": "code",
   "execution_count": 124,
   "id": "39095245",
   "metadata": {},
   "outputs": [],
   "source": [
    "# node with maximum child sum\n",
    "\n",
    "def heavyNodeHelper(root):\n",
    "    if not root.children:\n",
    "        return root, 0\n",
    "    \n",
    "    node, wt = root, 0\n",
    "    for child in root.children:\n",
    "        wt += child.data\n",
    "        \n",
    "    for child in root.children:\n",
    "        rnode, rwt = heavyNodeHelper(child)\n",
    "        if rwt > wt:\n",
    "            node, wt = rnode, rwt\n",
    "            \n",
    "    return node, wt\n",
    "\n",
    "def heavyNode(root):\n",
    "    node, wt = heavyNodeHelper(root)\n",
    "    return node.data"
   ]
  },
  {
   "cell_type": "code",
   "execution_count": 3,
   "id": "1d126aa8",
   "metadata": {},
   "outputs": [],
   "source": [
    "# check structurally identical\n",
    "\n",
    "def isIdentical(root1, root2):\n",
    "    if root1.data != root2.data or len(root1.children) != len(root2.children):\n",
    "        return False\n",
    "    \n",
    "    res = True\n",
    "    for i in range(len(root1.children)):\n",
    "        res = res and isIdentical(root1.children[i], root2.children[i])\n",
    "        \n",
    "    return res"
   ]
  },
  {
   "cell_type": "code",
   "execution_count": 30,
   "id": "f42fb00c",
   "metadata": {},
   "outputs": [],
   "source": [
    "# next largest\n",
    "\n",
    "def nextLargest(root, n):\n",
    "    ans = None\n",
    "    if root.data > n:\n",
    "        ans = root.data\n",
    "        \n",
    "    for child in root.children:\n",
    "        rres = nextLargest(child, n)\n",
    "        if rres:\n",
    "            if not ans or ans > rres:\n",
    "                ans = rres\n",
    "                \n",
    "    return ans"
   ]
  },
  {
   "cell_type": "code",
   "execution_count": 3,
   "id": "ef462183",
   "metadata": {},
   "outputs": [],
   "source": [
    "# replace with depth\n",
    "\n",
    "def replace(root, currDepth=0):\n",
    "    root.data = currDepth\n",
    "    \n",
    "    for child in root.children:\n",
    "        replace(child, currDepth+1)\n",
    "        \n",
    "    return root"
   ]
  },
  {
   "cell_type": "code",
   "execution_count": 7,
   "id": "2a384bce",
   "metadata": {},
   "outputs": [],
   "source": [
    "# remove leaf nodes\n",
    "\n",
    "def removeLeafs(root):\n",
    "    if not len(root.children):\n",
    "        return None\n",
    "    \n",
    "    leafs = []\n",
    "    for child in root.children:\n",
    "        rres = removeLeafs(child)\n",
    "        if not rres:\n",
    "            leafs.append(child)\n",
    "            \n",
    "    for child in leafs:\n",
    "        root.children.remove(child)\n",
    "            \n",
    "    return root"
   ]
  },
  {
   "cell_type": "code",
   "execution_count": 8,
   "id": "e981eb4f",
   "metadata": {},
   "outputs": [
    {
     "name": "stdout",
     "output_type": "stream",
     "text": [
      "6 3 4 10 9 2 3 2 1 1 3 12 7 5 0 0 2 11 8 0 0 0 0 0\n",
      "6: 4, 10, 9, \n",
      "4: 3, 2, \n",
      "10: 1, \n",
      "9: 12, 7, 5, \n",
      "3: \n",
      "2: \n",
      "1: 11, 8, \n",
      "12: \n",
      "7: \n",
      "5: \n",
      "11: \n",
      "8: \n"
     ]
    }
   ],
   "source": [
    "root = takeInput()\n",
    "printTree(root)"
   ]
  },
  {
   "cell_type": "code",
   "execution_count": 9,
   "id": "fa658cd9",
   "metadata": {},
   "outputs": [
    {
     "name": "stdout",
     "output_type": "stream",
     "text": [
      "6: 4, 10, 9, \n",
      "4: \n",
      "10: 1, \n",
      "9: \n",
      "1: \n"
     ]
    }
   ],
   "source": [
    "root = removeLeafs(root)\n",
    "printTree(root)"
   ]
  },
  {
   "cell_type": "code",
   "execution_count": null,
   "id": "172ce008",
   "metadata": {},
   "outputs": [],
   "source": []
  }
 ],
 "metadata": {
  "kernelspec": {
   "display_name": "Python 3 (ipykernel)",
   "language": "python",
   "name": "python3"
  },
  "language_info": {
   "codemirror_mode": {
    "name": "ipython",
    "version": 3
   },
   "file_extension": ".py",
   "mimetype": "text/x-python",
   "name": "python",
   "nbconvert_exporter": "python",
   "pygments_lexer": "ipython3",
   "version": "3.9.13"
  }
 },
 "nbformat": 4,
 "nbformat_minor": 5
}
