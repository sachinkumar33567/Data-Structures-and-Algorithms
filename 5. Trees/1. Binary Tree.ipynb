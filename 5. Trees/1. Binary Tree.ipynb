{
 "cells": [
  {
   "cell_type": "markdown",
   "id": "9e0e9b09",
   "metadata": {},
   "source": [
    "# Taking Input"
   ]
  },
  {
   "cell_type": "code",
   "execution_count": 2,
   "id": "664838ea",
   "metadata": {},
   "outputs": [],
   "source": [
    "class BinaryTreeNode:\n",
    "    def __init__(self, data):\n",
    "        self.data = data\n",
    "        self.left = None\n",
    "        self.right = None\n",
    "        \n",
    "        \n",
    "def takeInput():\n",
    "    data = int(input())\n",
    "    if data == -1:\n",
    "        return None\n",
    "    \n",
    "    root = BinaryTreeNode(data)\n",
    "    root.left = takeInput()\n",
    "    root.right = takeInput()\n",
    "    return root\n",
    "\n",
    "\n",
    "def printTree(root):\n",
    "    if not root:\n",
    "        return\n",
    "    \n",
    "    print(root.data, end=' ')\n",
    "    printTree(root.left)\n",
    "    printTree(root.right)\n",
    "    \n",
    "    \n",
    "def printTreeDetailed(root):\n",
    "    if not root:\n",
    "        return \n",
    "    \n",
    "    print(root.data, end=': ')\n",
    "    if root.left:\n",
    "        print('L'+str(root.left.data), end=', ')\n",
    "        \n",
    "    if root.right:\n",
    "        print('R'+str(root.right.data), end='')\n",
    "        \n",
    "    print()\n",
    "    printTreeDetailed(root.left)\n",
    "    printTreeDetailed(root.right)"
   ]
  },
  {
   "cell_type": "code",
   "execution_count": 3,
   "id": "84cfdcfb",
   "metadata": {},
   "outputs": [],
   "source": [
    "class BinaryTreeNode:\n",
    "    def __init__(self, data):\n",
    "        self.left = None\n",
    "        self.data = data\n",
    "        self.right = None\n",
    "        \n",
    "        \n",
    "def takeInput():\n",
    "    inputList = [int(i) for i in input().split()]\n",
    "    \n",
    "    root = BinaryTreeNode(inputList[0])\n",
    "    q = [root]\n",
    "    i = 0\n",
    "    while q:\n",
    "        node = q.pop(0)\n",
    "        \n",
    "        i += 1\n",
    "        if inputList[i] != -1:\n",
    "            left = BinaryTreeNode(inputList[i])\n",
    "            node.left = left\n",
    "            q.append(left)\n",
    "            \n",
    "        i += 1\n",
    "        if inputList[i] != -1:\n",
    "            right = BinaryTreeNode(inputList[i])\n",
    "            node.right = right\n",
    "            q.append(right)\n",
    "            \n",
    "    return root\n",
    "\n",
    "\n",
    "def printTree(root, detailed=True):\n",
    "    q = []\n",
    "    \n",
    "    q.append(root)\n",
    "    if detailed:\n",
    "        while q:\n",
    "            node = q.pop(0)\n",
    "            print(node.data, end = ': ')\n",
    "\n",
    "            if node.left:\n",
    "                print('L:'+str(node.left.data), end = ', ')\n",
    "                q.append(node.left)\n",
    "\n",
    "            if node.right:\n",
    "                print('R:'+str(node.right.data), end = '')\n",
    "                q.append(node.right)\n",
    "\n",
    "            print()\n",
    "            \n",
    "    else:\n",
    "        while q:\n",
    "            node = q.pop(0)\n",
    "            print(node.data, end = ' ')\n",
    "            \n",
    "            if node.left:\n",
    "                q.append(node.left)\n",
    "                \n",
    "            if node.right:\n",
    "                q.append(node.right)"
   ]
  },
  {
   "cell_type": "markdown",
   "id": "20bc8df2",
   "metadata": {},
   "source": [
    "# Building Tree"
   ]
  },
  {
   "cell_type": "code",
   "execution_count": 1,
   "id": "a37475f5",
   "metadata": {},
   "outputs": [],
   "source": [
    "# construct a binary tree from preOrder and inOrder\n",
    "\n",
    "def buildTree(preOrder, inOrder):\n",
    "    if not preOrder:\n",
    "        return None\n",
    "    \n",
    "    root = BinaryTreeNode(preOrder[0])\n",
    "    i = 0\n",
    "    while inOrder[i] != root.data:\n",
    "        i += 1\n",
    "        \n",
    "    root.left = buildTree(preOrder[1: i+1], inOrder[: i])\n",
    "    root.right = buildTree(preOrder[i+1: ], inOrder[i+1: ])\n",
    "    \n",
    "    return root"
   ]
  },
  {
   "cell_type": "code",
   "execution_count": 2,
   "id": "de7a3412",
   "metadata": {},
   "outputs": [],
   "source": [
    "# construct a binary tree from inOrder and postOrder\n",
    "\n",
    "def buildTree(inOrder, postOrder):\n",
    "    if not postOrder:\n",
    "        return None\n",
    "    \n",
    "    root = BinaryTreeNode(postOrder[-1])\n",
    "    i = -1\n",
    "    while inOrder[i] != root.data:\n",
    "        i -= 1\n",
    "        \n",
    "    root.left = buildTree(inOrder[: i], postOrder[: i])\n",
    "    root.right = buildTree(inOrder[i+1: ], postOrder[i: -1])\n",
    "    \n",
    "    return root"
   ]
  },
  {
   "cell_type": "markdown",
   "id": "2b5f7529",
   "metadata": {},
   "source": [
    "# Traversal"
   ]
  },
  {
   "cell_type": "code",
   "execution_count": 6,
   "id": "fdcf9d23",
   "metadata": {},
   "outputs": [],
   "source": [
    "def preOrder(root):\n",
    "    if not root:\n",
    "        return\n",
    "    \n",
    "    print(root.data, end = ' ')\n",
    "    preOrder(root.left)\n",
    "    preOrder(root.right)"
   ]
  },
  {
   "cell_type": "code",
   "execution_count": 4,
   "id": "a113bccc",
   "metadata": {},
   "outputs": [],
   "source": [
    "def preOrderIter(root):\n",
    "    s = [root]\n",
    "    \n",
    "    while s:\n",
    "        node = s.pop()\n",
    "        print(node.data, end = ' ')\n",
    "        \n",
    "        if node.right:\n",
    "            s.append(node.right)\n",
    "            \n",
    "        if node.left:\n",
    "            s.append(node.left)"
   ]
  },
  {
   "cell_type": "code",
   "execution_count": 6,
   "id": "ce611f2d",
   "metadata": {},
   "outputs": [
    {
     "name": "stdout",
     "output_type": "stream",
     "text": [
      "2 7 2 6 5 11 5 9 4 "
     ]
    }
   ],
   "source": [
    "preOrderIter(root)"
   ]
  },
  {
   "cell_type": "code",
   "execution_count": null,
   "id": "992a6a8f",
   "metadata": {},
   "outputs": [],
   "source": []
  },
  {
   "cell_type": "code",
   "execution_count": 8,
   "id": "a0ce943e",
   "metadata": {},
   "outputs": [],
   "source": [
    "def inOrder(root):\n",
    "    if not root:\n",
    "        return\n",
    "    \n",
    "    inOrder(root.left)\n",
    "    print(root.data, end = ' ')\n",
    "    inOrder(root.right)"
   ]
  },
  {
   "cell_type": "code",
   "execution_count": 11,
   "id": "f6a65fe6",
   "metadata": {},
   "outputs": [],
   "source": [
    "def inOrderIter(root):\n",
    "    s = []\n",
    "    \n",
    "    while True:\n",
    "        if root:\n",
    "            s.append(root)\n",
    "            root = root.left\n",
    "            \n",
    "        else:\n",
    "            if not s:\n",
    "                break\n",
    "                \n",
    "            root = s.pop()\n",
    "            print(root.data, end = ' ')\n",
    "            root = root.right"
   ]
  },
  {
   "cell_type": "code",
   "execution_count": 12,
   "id": "768847a6",
   "metadata": {},
   "outputs": [
    {
     "name": "stdout",
     "output_type": "stream",
     "text": [
      "2 7 5 6 11 2 5 4 9 "
     ]
    }
   ],
   "source": [
    "inOrderIter(root)"
   ]
  },
  {
   "cell_type": "code",
   "execution_count": null,
   "id": "161070c2",
   "metadata": {},
   "outputs": [],
   "source": []
  },
  {
   "cell_type": "code",
   "execution_count": 10,
   "id": "8b4e4ffd",
   "metadata": {},
   "outputs": [],
   "source": [
    "def postOrder(root):\n",
    "    if not root:\n",
    "        return\n",
    "    \n",
    "    postOrder(root.left)\n",
    "    postOrder(root.right)\n",
    "    print(root.data, end = ' ')"
   ]
  },
  {
   "cell_type": "code",
   "execution_count": 13,
   "id": "665df110",
   "metadata": {},
   "outputs": [],
   "source": [
    "def postOrderIter(root):\n",
    "    s1, s2 = [root], []\n",
    "    \n",
    "    while s1:\n",
    "        node = s1.pop()\n",
    "        s2.append(node)\n",
    "        \n",
    "        if node.left:\n",
    "            s1.append(node.left)\n",
    "            \n",
    "        if node.right:\n",
    "            s1.append(node.right)\n",
    "            \n",
    "    while s2:\n",
    "        node = s2.pop()\n",
    "        print(node.data, end = ' ')"
   ]
  },
  {
   "cell_type": "code",
   "execution_count": 15,
   "id": "358fc200",
   "metadata": {},
   "outputs": [
    {
     "name": "stdout",
     "output_type": "stream",
     "text": [
      "2 5 11 6 7 4 9 5 2 "
     ]
    }
   ],
   "source": [
    "postOrderIter(root)"
   ]
  },
  {
   "cell_type": "code",
   "execution_count": null,
   "id": "9db32859",
   "metadata": {},
   "outputs": [],
   "source": []
  },
  {
   "cell_type": "code",
   "execution_count": 17,
   "id": "86b8dfe5",
   "metadata": {},
   "outputs": [],
   "source": [
    "def reverseLevelOrder(root):\n",
    "    s = []\n",
    "    q = []\n",
    "    \n",
    "    s.append(root)\n",
    "    q.append(root)\n",
    "    while q:\n",
    "        node = q.pop(0)\n",
    "        if node.right:\n",
    "            s.append(node.right)\n",
    "            q.append(node.right)\n",
    "            \n",
    "        if node.left:\n",
    "            s.append(node.left)\n",
    "            q.append(node.left)\n",
    "            \n",
    "    while s:\n",
    "        print(s.pop().data, end = ' ')"
   ]
  },
  {
   "cell_type": "code",
   "execution_count": 24,
   "id": "015b87be",
   "metadata": {},
   "outputs": [],
   "source": [
    "def levelOrderLineByLine(root):\n",
    "    q = [root]\n",
    "    while q:\n",
    "        count = len(q)\n",
    "        while count:\n",
    "            node = q.pop(0)\n",
    "            print(node.data, end = ' ')\n",
    "            if node.left:\n",
    "                q.append(node.left)\n",
    "                \n",
    "            if node.right:\n",
    "                q.append(node.right)\n",
    "                \n",
    "            count -= 1\n",
    "        print()"
   ]
  },
  {
   "cell_type": "code",
   "execution_count": 25,
   "id": "9c112b8e",
   "metadata": {},
   "outputs": [
    {
     "name": "stdout",
     "output_type": "stream",
     "text": [
      "2 \n",
      "7 5 \n",
      "2 6 9 \n",
      "5 11 4 \n"
     ]
    }
   ],
   "source": [
    "levelOrderLineByLine(root)"
   ]
  },
  {
   "cell_type": "code",
   "execution_count": null,
   "id": "e7ab03f1",
   "metadata": {},
   "outputs": [],
   "source": []
  }
 ],
 "metadata": {
  "kernelspec": {
   "display_name": "Python 3",
   "language": "python",
   "name": "python3"
  },
  "language_info": {
   "codemirror_mode": {
    "name": "ipython",
    "version": 3
   },
   "file_extension": ".py",
   "mimetype": "text/x-python",
   "name": "python",
   "nbconvert_exporter": "python",
   "pygments_lexer": "ipython3",
   "version": "3.8.8"
  }
 },
 "nbformat": 4,
 "nbformat_minor": 5
}
