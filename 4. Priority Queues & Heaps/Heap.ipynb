{
 "cells": [
  {
   "cell_type": "markdown",
   "id": "55a4097f",
   "metadata": {},
   "source": [
    "# Min Heap"
   ]
  },
  {
   "cell_type": "code",
   "execution_count": 3,
   "id": "17ee7728",
   "metadata": {},
   "outputs": [],
   "source": [
    "class MinHeap:\n",
    "    def __init__(self):\n",
    "        self.arr = [3, 5, 12, 7, 23, 15, 19, 25, 18]\n",
    "        \n",
    "    def __percolateUp(self, node):\n",
    "        parent = (node-1)//2\n",
    "        if not node or self.arr[parent] < self.arr[node]:\n",
    "            return\n",
    "        \n",
    "        self.arr[parent], self.arr[node] = self.arr[node], self.arr[parent]\n",
    "        self.__percolateUp(parent)\n",
    "    \n",
    "    def insert(self, data):\n",
    "        self.arr.append(data)\n",
    "        self.__percolateUp(len(self.arr)-1)\n",
    "        \n",
    "        \n",
    "    def __percolateDown(self, node):\n",
    "        left = 2*node + 1\n",
    "        right = 2*node + 2\n",
    "        \n",
    "        child = left\n",
    "        if right < len(self.arr) and self.arr[right] < self.arr[left]:\n",
    "            child = right\n",
    "            \n",
    "        if not child < len(self.arr) or self.arr[node] < self.arr[child]:\n",
    "            return\n",
    "        \n",
    "        self.arr[node], self.arr[child] = self.arr[child], self.arr[node]\n",
    "        self.__percolateDown(child)\n",
    "            \n",
    "    def getMin(self):\n",
    "        if not self.arr:\n",
    "            return\n",
    "        value = self.arr[0]\n",
    "        self.arr[0] = self.arr[-1]\n",
    "        self.arr.pop()\n",
    "        self.__percolateDown(0)\n",
    "        return value"
   ]
  },
  {
   "cell_type": "code",
   "execution_count": 4,
   "id": "61548b50",
   "metadata": {},
   "outputs": [
    {
     "data": {
      "text/plain": [
       "[3, 5, 12, 7, 23, 15, 19, 25, 18]"
      ]
     },
     "execution_count": 4,
     "metadata": {},
     "output_type": "execute_result"
    }
   ],
   "source": [
    "heap = MinHeap()\n",
    "heap.arr"
   ]
  },
  {
   "cell_type": "code",
   "execution_count": 5,
   "id": "d7e225fb",
   "metadata": {},
   "outputs": [
    {
     "data": {
      "text/plain": [
       "3"
      ]
     },
     "execution_count": 5,
     "metadata": {},
     "output_type": "execute_result"
    }
   ],
   "source": [
    "heap.getMin()"
   ]
  },
  {
   "cell_type": "code",
   "execution_count": 6,
   "id": "0c96f1cb",
   "metadata": {},
   "outputs": [
    {
     "data": {
      "text/plain": [
       "[5, 7, 12, 18, 23, 15, 19, 25]"
      ]
     },
     "execution_count": 6,
     "metadata": {},
     "output_type": "execute_result"
    }
   ],
   "source": [
    "heap.arr"
   ]
  },
  {
   "cell_type": "markdown",
   "id": "73810207",
   "metadata": {},
   "source": [
    "# Heap Sort"
   ]
  },
  {
   "cell_type": "code",
   "execution_count": 96,
   "id": "d7d75cf1",
   "metadata": {},
   "outputs": [
    {
     "data": {
      "text/plain": [
       "[1, 2, 3, 5, 6, 7, 8, 9, 12]"
      ]
     },
     "execution_count": 96,
     "metadata": {},
     "output_type": "execute_result"
    }
   ],
   "source": [
    "def percolateUp(arr, node):\n",
    "    parent = (node-1)//2\n",
    "    if not node or arr[parent] > arr[node]:\n",
    "        return\n",
    "    \n",
    "    arr[parent], arr[node] = arr[node], arr[parent]\n",
    "    percolateUp(arr, parent)\n",
    "\n",
    "def percolateDown(arr, node, end):\n",
    "    left = 2*node + 1\n",
    "    right = 2*node + 2\n",
    "    \n",
    "    child = left\n",
    "    if right < end and arr[right] > arr[left]:\n",
    "        child = right\n",
    "            \n",
    "    if not child < end or arr[node] > arr[child]:\n",
    "        return\n",
    "    \n",
    "    arr[node], arr[child] = arr[child], arr[node]\n",
    "    percolateDown(arr, child, end)\n",
    "    \n",
    "def heapSort(arr):\n",
    "    for i in range(1, len(arr)):\n",
    "        percolateUp(arr, i)\n",
    "        \n",
    "    for end in range(len(arr)-1, -1, -1):\n",
    "        arr[0], arr[end] = arr[end], arr[0]\n",
    "        percolateDown(arr, 0, end)\n",
    "    return arr\n",
    "\n",
    "arr = [9, 3, 12, 5, 2, 8, 6, 1, 7]\n",
    "heapSort(arr)"
   ]
  },
  {
   "cell_type": "code",
   "execution_count": null,
   "id": "a8e57de7",
   "metadata": {},
   "outputs": [],
   "source": []
  },
  {
   "cell_type": "code",
   "execution_count": null,
   "id": "a758cdcc",
   "metadata": {},
   "outputs": [],
   "source": []
  },
  {
   "cell_type": "markdown",
   "id": "eb9a502e",
   "metadata": {},
   "source": [
    "# Inbuilt Heaps"
   ]
  },
  {
   "cell_type": "code",
   "execution_count": 1,
   "id": "e88aae99",
   "metadata": {},
   "outputs": [],
   "source": [
    "import heapq"
   ]
  },
  {
   "cell_type": "code",
   "execution_count": 12,
   "id": "16cc164d",
   "metadata": {},
   "outputs": [
    {
     "data": {
      "text/plain": [
       "[2, 8, 5, 12, 19, 24, 34, 16]"
      ]
     },
     "execution_count": 12,
     "metadata": {},
     "output_type": "execute_result"
    }
   ],
   "source": [
    "arr = [24, 16, 2, 12, 19, 5, 34, 8]\n",
    "heapq.heapify(arr)\n",
    "arr"
   ]
  },
  {
   "cell_type": "code",
   "execution_count": 13,
   "id": "d8f51cdf",
   "metadata": {},
   "outputs": [
    {
     "data": {
      "text/plain": [
       "[2, 7, 5, 8, 19, 24, 34, 16, 12]"
      ]
     },
     "execution_count": 13,
     "metadata": {},
     "output_type": "execute_result"
    }
   ],
   "source": [
    "heapq.heappush(arr, 7)\n",
    "arr"
   ]
  },
  {
   "cell_type": "code",
   "execution_count": 14,
   "id": "a9d7a290",
   "metadata": {},
   "outputs": [
    {
     "data": {
      "text/plain": [
       "2"
      ]
     },
     "execution_count": 14,
     "metadata": {},
     "output_type": "execute_result"
    }
   ],
   "source": [
    "heapq.heappop(arr)"
   ]
  },
  {
   "cell_type": "code",
   "execution_count": 15,
   "id": "8a30bee3",
   "metadata": {},
   "outputs": [
    {
     "data": {
      "text/plain": [
       "[5, 7, 12, 8, 19, 24, 34, 16]"
      ]
     },
     "execution_count": 15,
     "metadata": {},
     "output_type": "execute_result"
    }
   ],
   "source": [
    "arr"
   ]
  },
  {
   "cell_type": "code",
   "execution_count": 16,
   "id": "e8328f73",
   "metadata": {},
   "outputs": [
    {
     "data": {
      "text/plain": [
       "[7, 8, 12, 16, 19, 24, 34, 54]"
      ]
     },
     "execution_count": 16,
     "metadata": {},
     "output_type": "execute_result"
    }
   ],
   "source": [
    "heapq.heapreplace(arr, 54)\n",
    "arr"
   ]
  },
  {
   "cell_type": "code",
   "execution_count": null,
   "id": "23383dce",
   "metadata": {},
   "outputs": [],
   "source": []
  },
  {
   "cell_type": "code",
   "execution_count": null,
   "id": "33273636",
   "metadata": {},
   "outputs": [],
   "source": []
  },
  {
   "cell_type": "code",
   "execution_count": 28,
   "id": "a39e13b1",
   "metadata": {},
   "outputs": [
    {
     "data": {
      "text/plain": [
       "[34, 19, 24, 12, 16, 5, 2, 8]"
      ]
     },
     "execution_count": 28,
     "metadata": {},
     "output_type": "execute_result"
    }
   ],
   "source": [
    "arr = [24, 16, 2, 12, 19, 5, 34, 8]\n",
    "heapq._heapify_max(arr)\n",
    "arr"
   ]
  },
  {
   "cell_type": "code",
   "execution_count": 29,
   "id": "f81730c2",
   "metadata": {},
   "outputs": [
    {
     "data": {
      "text/plain": [
       "[54, 34, 24, 19, 16, 5, 2, 8, 12]"
      ]
     },
     "execution_count": 29,
     "metadata": {},
     "output_type": "execute_result"
    }
   ],
   "source": [
    "arr.append(54)\n",
    "heapq._siftdown_max(arr, 0, len(arr)-1)\n",
    "arr"
   ]
  },
  {
   "cell_type": "code",
   "execution_count": 25,
   "id": "6316b44f",
   "metadata": {},
   "outputs": [
    {
     "data": {
      "text/plain": [
       "54"
      ]
     },
     "execution_count": 25,
     "metadata": {},
     "output_type": "execute_result"
    }
   ],
   "source": [
    "heapq._heappop_max(arr)"
   ]
  },
  {
   "cell_type": "code",
   "execution_count": 26,
   "id": "e2230e29",
   "metadata": {},
   "outputs": [
    {
     "data": {
      "text/plain": [
       "[34, 19, 24, 12, 16, 5, 2, 8]"
      ]
     },
     "execution_count": 26,
     "metadata": {},
     "output_type": "execute_result"
    }
   ],
   "source": [
    "arr"
   ]
  },
  {
   "cell_type": "code",
   "execution_count": 27,
   "id": "de7ce77b",
   "metadata": {},
   "outputs": [
    {
     "data": {
      "text/plain": [
       "[24, 19, 5, 12, 16, 1, 2, 8]"
      ]
     },
     "execution_count": 27,
     "metadata": {},
     "output_type": "execute_result"
    }
   ],
   "source": [
    "heapq._heapreplace_max(arr, 1)\n",
    "arr"
   ]
  },
  {
   "cell_type": "code",
   "execution_count": null,
   "id": "9e579836",
   "metadata": {},
   "outputs": [],
   "source": []
  },
  {
   "cell_type": "code",
   "execution_count": null,
   "id": "5d02531e",
   "metadata": {},
   "outputs": [],
   "source": []
  },
  {
   "cell_type": "code",
   "execution_count": 9,
   "id": "ee88ddf3",
   "metadata": {},
   "outputs": [
    {
     "data": {
      "text/plain": [
       "[(34, 6), (19, 4), (24, 0), (12, 3), (16, 1), (5, 5), (2, 2), (8, 7)]"
      ]
     },
     "execution_count": 9,
     "metadata": {},
     "output_type": "execute_result"
    }
   ],
   "source": [
    "arr = [24, 16, 2, 12, 19, 5, 34, 8]\n",
    "arr = [(24, 0), (16, 1), (2, 2), (12, 3), (19, 4), (5, 5), (34, 6), (8, 7)]\n",
    "heapq._heapify_max(arr)\n",
    "arr"
   ]
  },
  {
   "cell_type": "code",
   "execution_count": 10,
   "id": "253a96d1",
   "metadata": {},
   "outputs": [
    {
     "data": {
      "text/plain": [
       "(34, 6)"
      ]
     },
     "execution_count": 10,
     "metadata": {},
     "output_type": "execute_result"
    }
   ],
   "source": [
    "heapq._heappop_max(arr)"
   ]
  },
  {
   "cell_type": "code",
   "execution_count": 11,
   "id": "292f2cb8",
   "metadata": {},
   "outputs": [
    {
     "data": {
      "text/plain": [
       "(24, 0)"
      ]
     },
     "execution_count": 11,
     "metadata": {},
     "output_type": "execute_result"
    }
   ],
   "source": [
    "heapq._heappop_max(arr)"
   ]
  },
  {
   "cell_type": "code",
   "execution_count": 12,
   "id": "dcbbffe2",
   "metadata": {},
   "outputs": [
    {
     "data": {
      "text/plain": [
       "(19, 4)"
      ]
     },
     "execution_count": 12,
     "metadata": {},
     "output_type": "execute_result"
    }
   ],
   "source": [
    "heapq._heappop_max(arr)"
   ]
  },
  {
   "cell_type": "code",
   "execution_count": null,
   "id": "03af2bb1",
   "metadata": {},
   "outputs": [],
   "source": []
  }
 ],
 "metadata": {
  "kernelspec": {
   "display_name": "Python 3",
   "language": "python",
   "name": "python3"
  },
  "language_info": {
   "codemirror_mode": {
    "name": "ipython",
    "version": 3
   },
   "file_extension": ".py",
   "mimetype": "text/x-python",
   "name": "python",
   "nbconvert_exporter": "python",
   "pygments_lexer": "ipython3",
   "version": "3.8.8"
  }
 },
 "nbformat": 4,
 "nbformat_minor": 5
}
