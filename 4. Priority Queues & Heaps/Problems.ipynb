{
 "cells": [
  {
   "cell_type": "code",
   "execution_count": 5,
   "id": "821647f1",
   "metadata": {},
   "outputs": [
    {
     "data": {
      "text/plain": [
       "[5, 3, 1, 2]"
      ]
     },
     "execution_count": 5,
     "metadata": {},
     "output_type": "execute_result"
    }
   ],
   "source": [
    "# K-smallest elements\n",
    "\n",
    "import heapq\n",
    "def kse(arr, k):\n",
    "    heap = arr[: k]\n",
    "    heapq._heapify_max(heap)\n",
    "    \n",
    "    while k < len(arr):\n",
    "        if arr[k] < heap[0]:\n",
    "            heapq._heapreplace_max(heap, arr[k])\n",
    "            \n",
    "        k += 1\n",
    "        \n",
    "    return heap\n",
    "\n",
    "kse([10, 8, 7, 2, 6, 5, 3, 1, 11], 4)"
   ]
  },
  {
   "cell_type": "code",
   "execution_count": 26,
   "id": "c2c61bb4",
   "metadata": {},
   "outputs": [
    {
     "data": {
      "text/plain": [
       "False"
      ]
     },
     "execution_count": 26,
     "metadata": {},
     "output_type": "execute_result"
    }
   ],
   "source": [
    "# check max heap\n",
    "\n",
    "def isMaxHeap(arr, parent=0):\n",
    "    left = 2*parent + 1\n",
    "    right = 2*parent + 2\n",
    "    \n",
    "    if not left < len(arr):\n",
    "        return True\n",
    "    \n",
    "    if not right < len(arr):\n",
    "        return arr[parent] > arr[left]\n",
    "    \n",
    "    return arr[parent] > arr[left] and arr[parent] > arr[right] and isMaxHeap(arr, left) and isMaxHeap(arr, right)\n",
    "\n",
    "isMaxHeap([10, 9, 8, 7, 6, 5, 4, 3, 2, 7])"
   ]
  },
  {
   "cell_type": "code",
   "execution_count": 32,
   "id": "33f37f8a",
   "metadata": {},
   "outputs": [
    {
     "data": {
      "text/plain": [
       "9"
      ]
     },
     "execution_count": 32,
     "metadata": {},
     "output_type": "execute_result"
    }
   ],
   "source": [
    "# Kth largest element\n",
    "\n",
    "import heapq\n",
    "def kthLargest(arr, k):\n",
    "    heapq._heapify_max(arr)\n",
    "    \n",
    "    while k-1:\n",
    "        heapq._heappop_max(arr)\n",
    "        k -= 1\n",
    "    \n",
    "    return arr[0]\n",
    "\n",
    "arr = [9, 4, 8, 7, 11, 3]\n",
    "kthLargest(arr, 2)"
   ]
  },
  {
   "cell_type": "code",
   "execution_count": null,
   "id": "3e3d5c78",
   "metadata": {},
   "outputs": [],
   "source": []
  }
 ],
 "metadata": {
  "kernelspec": {
   "display_name": "Python 3",
   "language": "python",
   "name": "python3"
  },
  "language_info": {
   "codemirror_mode": {
    "name": "ipython",
    "version": 3
   },
   "file_extension": ".py",
   "mimetype": "text/x-python",
   "name": "python",
   "nbconvert_exporter": "python",
   "pygments_lexer": "ipython3",
   "version": "3.8.8"
  }
 },
 "nbformat": 4,
 "nbformat_minor": 5
}
