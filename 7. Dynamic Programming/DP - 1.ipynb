{
 "cells": [
  {
   "cell_type": "code",
   "execution_count": 4,
   "id": "cd07722f",
   "metadata": {},
   "outputs": [
    {
     "data": {
      "text/plain": [
       "6765"
      ]
     },
     "execution_count": 4,
     "metadata": {},
     "output_type": "execute_result"
    }
   ],
   "source": [
    "def fibb(n):\n",
    "    if n == 0 or n == 1:\n",
    "        return n\n",
    "    \n",
    "    return fibb(n-1) + fibb(n-2)\n",
    "\n",
    "fibb(20)"
   ]
  },
  {
   "cell_type": "code",
   "execution_count": null,
   "id": "fcc0a3a4",
   "metadata": {},
   "outputs": [],
   "source": [
    "def fibb(n, dp):\n",
    "    if n < 2:\n",
    "        return n\n",
    "    \n",
    "    if not dp[n-1]:\n",
    "        dp[n-1] = fibb(n-1, dp)\n",
    "        \n",
    "    if not dp[n-2]:\n",
    "        dp[n-2] = fibb(n-2, dp)\n",
    "        \n",
    "    return dp[n-1] + dp[n-2]\n",
    "    \n",
    "n = int(input())\n",
    "dp = [None for _ in range(n+1)]\n",
    "fibb(n, dp)"
   ]
  },
  {
   "cell_type": "code",
   "execution_count": 9,
   "id": "5b0e8dae",
   "metadata": {},
   "outputs": [
    {
     "name": "stdout",
     "output_type": "stream",
     "text": [
      "20\n"
     ]
    },
    {
     "data": {
      "text/plain": [
       "6765"
      ]
     },
     "execution_count": 9,
     "metadata": {},
     "output_type": "execute_result"
    }
   ],
   "source": [
    "def fibbIter(n):\n",
    "    dp = [0 for _ in range(n+1)]\n",
    "    dp[1] = 1\n",
    "    \n",
    "    i = 2\n",
    "    while i <= n:\n",
    "        dp[i] = dp[i-1] + dp[i-2]\n",
    "        i += 1\n",
    "    \n",
    "    return dp[n]\n",
    "    \n",
    "n = int(input())\n",
    "fibbIter(n)"
   ]
  },
  {
   "cell_type": "code",
   "execution_count": null,
   "id": "7c7a8415",
   "metadata": {},
   "outputs": [],
   "source": []
  },
  {
   "cell_type": "code",
   "execution_count": null,
   "id": "ba41c61d",
   "metadata": {},
   "outputs": [],
   "source": []
  },
  {
   "cell_type": "markdown",
   "id": "4b2c6ff8",
   "metadata": {},
   "source": [
    "## problem"
   ]
  },
  {
   "cell_type": "code",
   "execution_count": null,
   "id": "c9a23b54",
   "metadata": {},
   "outputs": [],
   "source": [
    "'''Given a positive integer 'n', find and return the minimum number of steps that 'n' has to take to get reduced to 1.\n",
    "You can perform any one of the following 3 steps:\n",
    "\n",
    "1.) Subtract 1 from it. (n = n - 1),\n",
    "2.) If n is divisible by 2, divide by 2.( if n % 2 == 0, then n = n / 2 ),\n",
    "3.) If n is divisible by 3, divide by 3. (if n % 3 == 0, then n = n / 3 ).  \n",
    "'''"
   ]
  },
  {
   "cell_type": "code",
   "execution_count": 6,
   "id": "148c3b64",
   "metadata": {},
   "outputs": [
    {
     "name": "stdout",
     "output_type": "stream",
     "text": [
      "400\n"
     ]
    },
    {
     "data": {
      "text/plain": [
       "9"
      ]
     },
     "execution_count": 6,
     "metadata": {},
     "output_type": "execute_result"
    }
   ],
   "source": [
    "def minSteps(n):\n",
    "    if n == 1:\n",
    "        return 0\n",
    "    \n",
    "    rres1 = minSteps(n-1)\n",
    "    rres2 = 100000\n",
    "    if not n%2:\n",
    "        rres2 = minSteps(n//2)\n",
    "        \n",
    "    rres3 = 100000\n",
    "    if not n%3:\n",
    "        rres3 = minSteps(n//3)\n",
    "        \n",
    "    return 1 + min(rres1, rres2, rres3)\n",
    "\n",
    "n = int(input())\n",
    "minSteps(n)"
   ]
  },
  {
   "cell_type": "code",
   "execution_count": 5,
   "id": "607ed975",
   "metadata": {},
   "outputs": [
    {
     "name": "stdout",
     "output_type": "stream",
     "text": [
      "400\n"
     ]
    },
    {
     "data": {
      "text/plain": [
       "9"
      ]
     },
     "execution_count": 5,
     "metadata": {},
     "output_type": "execute_result"
    }
   ],
   "source": [
    "def minSteps(n, dp):\n",
    "    if n == 1:\n",
    "        return 0\n",
    "    \n",
    "    if not dp[n-1]:\n",
    "        dp[n-1] = minSteps(n-1, dp)\n",
    "        \n",
    "    rres1 = dp[n-1]\n",
    "        \n",
    "    rres2 = 100000\n",
    "    if not n%2:\n",
    "        if not dp[n//2]:\n",
    "            dp[n//2] = minSteps(n//2, dp)\n",
    "            \n",
    "        rres2 = dp[n//2]\n",
    "        \n",
    "    rres3 = 100000\n",
    "    if not n%3:\n",
    "        if not dp[n//3]:\n",
    "            dp[n//3] = minSteps(n//3, dp)\n",
    "            \n",
    "        rres3 = dp[n//3]\n",
    "        \n",
    "    return 1 + min(rres1, rres2, rres3)\n",
    "\n",
    "n = int(input())\n",
    "dp = [None for _ in range(n)]\n",
    "minSteps(n, dp)"
   ]
  },
  {
   "cell_type": "code",
   "execution_count": 10,
   "id": "f2ca017d",
   "metadata": {},
   "outputs": [
    {
     "name": "stdout",
     "output_type": "stream",
     "text": [
      "400\n"
     ]
    },
    {
     "data": {
      "text/plain": [
       "9"
      ]
     },
     "execution_count": 10,
     "metadata": {},
     "output_type": "execute_result"
    }
   ],
   "source": [
    "def minSteps(n):\n",
    "    dp = [0 for _ in range(n+1)]\n",
    "    dp[1] = 0\n",
    "    \n",
    "    i = 2\n",
    "    while i <= n:\n",
    "        res1 = dp[i-1]\n",
    "        \n",
    "        res2 = 100000\n",
    "        if i%2 == 0:\n",
    "            res2 = dp[i//2]\n",
    "            \n",
    "        res3 = 100000\n",
    "        if i%3 == 0:\n",
    "            res3 = dp[i//3]\n",
    "            \n",
    "        dp[i] = 1 + min(res1, res2, res3)\n",
    "        \n",
    "        i += 1\n",
    "        \n",
    "    return dp[n]\n",
    "\n",
    "n = int(input())\n",
    "minSteps(n)"
   ]
  },
  {
   "cell_type": "code",
   "execution_count": null,
   "id": "8d326f90",
   "metadata": {},
   "outputs": [],
   "source": []
  },
  {
   "cell_type": "code",
   "execution_count": null,
   "id": "fec8ec72",
   "metadata": {},
   "outputs": [],
   "source": []
  },
  {
   "cell_type": "markdown",
   "id": "522dec1e",
   "metadata": {},
   "source": [
    "## problem"
   ]
  },
  {
   "cell_type": "code",
   "execution_count": null,
   "id": "22d910f9",
   "metadata": {},
   "outputs": [],
   "source": [
    "'''A number can always be represented as a sum of squares of other numbers. Note that 1 is a square and we can always break\n",
    "a number as [(1 * 1) + (1 * 1) + (1 * 1) + …]. Given a number n, find the minimum number of squares that sum to n.\n",
    "\n",
    "We can write 100 as 10^2 also, 100 can be written as (5^2) + (5^2) + (5^2) + (5^2), but this representation requires 4 squares.\n",
    "So, in this case, the expected answer would be 1, that is, 10^2.\n",
    "'''"
   ]
  },
  {
   "cell_type": "code",
   "execution_count": 28,
   "id": "8301032a",
   "metadata": {},
   "outputs": [
    {
     "name": "stdout",
     "output_type": "stream",
     "text": [
      "3\n"
     ]
    },
    {
     "data": {
      "text/plain": [
       "3"
      ]
     },
     "execution_count": 28,
     "metadata": {},
     "output_type": "execute_result"
    }
   ],
   "source": [
    "def minSquares(n):\n",
    "    if not n:\n",
    "        return 0\n",
    "    \n",
    "    res = 100000\n",
    "    for i in range(1, int(n**.5)+1):\n",
    "        res = min(res, minSquares(n-(i**2)))\n",
    "        \n",
    "    return 1 + res\n",
    "\n",
    "n = int(input())\n",
    "minSquares(n)"
   ]
  },
  {
   "cell_type": "code",
   "execution_count": 25,
   "id": "d0de779b",
   "metadata": {},
   "outputs": [
    {
     "name": "stdout",
     "output_type": "stream",
     "text": [
      "13\n"
     ]
    },
    {
     "data": {
      "text/plain": [
       "2"
      ]
     },
     "execution_count": 25,
     "metadata": {},
     "output_type": "execute_result"
    }
   ],
   "source": [
    "def minSquares(n, dp):\n",
    "    if not n:\n",
    "        return 0\n",
    "    \n",
    "    res = 100000\n",
    "    for i in range(1, int(n**.5)+1):\n",
    "        if not dp[n - i**2]:\n",
    "            dp[n - i**2] = minSquares(n - i**2, dp)\n",
    "            \n",
    "        res = min(res, dp[n - i**2])\n",
    "        \n",
    "    return 1 + res\n",
    "\n",
    "n = int(input())\n",
    "dp = [None for _ in range(n)]\n",
    "minSquares(n, dp)"
   ]
  },
  {
   "cell_type": "code",
   "execution_count": 33,
   "id": "925726cf",
   "metadata": {},
   "outputs": [
    {
     "name": "stdout",
     "output_type": "stream",
     "text": [
      "13\n"
     ]
    },
    {
     "data": {
      "text/plain": [
       "2"
      ]
     },
     "execution_count": 33,
     "metadata": {},
     "output_type": "execute_result"
    }
   ],
   "source": [
    "def minSquaresIter(n):\n",
    "    dp = [0 for _ in range(n+1)]\n",
    "    \n",
    "    i = 1\n",
    "    while i <= n:\n",
    "        min_ = 100000\n",
    "        for val in range(1, int(i**.5)+1):\n",
    "            min_ = min(min_, dp[i-(val**2)])\n",
    "            \n",
    "        dp[i] = 1 + min_\n",
    "        \n",
    "        i += 1\n",
    "        \n",
    "    return dp[n]\n",
    "\n",
    "n = int(input())\n",
    "minSquaresIter(n)"
   ]
  },
  {
   "cell_type": "code",
   "execution_count": null,
   "id": "96417b33",
   "metadata": {},
   "outputs": [],
   "source": []
  },
  {
   "cell_type": "code",
   "execution_count": null,
   "id": "075ed973",
   "metadata": {},
   "outputs": [],
   "source": []
  },
  {
   "cell_type": "markdown",
   "id": "c6da788a",
   "metadata": {},
   "source": [
    "## problem"
   ]
  },
  {
   "cell_type": "code",
   "execution_count": null,
   "id": "cb2d4df1",
   "metadata": {},
   "outputs": [],
   "source": [
    "'''Given an array with N elements, you need to find the length of the longest subsequence in the given array such that all \n",
    "elements of the subsequence are sorted in strictly increasing order.'''"
   ]
  },
  {
   "cell_type": "code",
   "execution_count": 36,
   "id": "59d05a28",
   "metadata": {},
   "outputs": [
    {
     "data": {
      "text/plain": [
       "4"
      ]
     },
     "execution_count": 36,
     "metadata": {},
     "output_type": "execute_result"
    }
   ],
   "source": [
    "def lis(arr, n, i=0):\n",
    "    if i == n:\n",
    "        return 0, 0\n",
    "    \n",
    "    max_lis = 0\n",
    "    for j in range(i+1, n):\n",
    "        if arr[j] > arr[i]:\n",
    "            max_lis = max(max_lis, lis(arr, n, j)[0])\n",
    "        \n",
    "    including_res = 1 + max_lis\n",
    "    excluding_res = lis(arr, n, i+1)[1]\n",
    "    \n",
    "    return including_res, max(including_res, excluding_res)\n",
    "    \n",
    "arr = [6, 3, 1, 2, 7, 0, 9]\n",
    "lis(arr, len(arr))[1]"
   ]
  },
  {
   "cell_type": "code",
   "execution_count": 35,
   "id": "a888ad43",
   "metadata": {},
   "outputs": [
    {
     "data": {
      "text/plain": [
       "4"
      ]
     },
     "execution_count": 35,
     "metadata": {},
     "output_type": "execute_result"
    }
   ],
   "source": [
    "def lis(arr, n, dp, i=0):\n",
    "    if i == n:\n",
    "        return 0, 0\n",
    "    \n",
    "    max_lis = 0\n",
    "    for j in range(i+1, n):\n",
    "        if arr[j] > arr[i]:\n",
    "            if not dp[j]:\n",
    "                dp[j] = lis(arr, n, dp, j)\n",
    "            max_lis = max(max_lis, dp[j][0])\n",
    "            \n",
    "    including_res = 1 + max_lis\n",
    "    if not dp[i+1]:\n",
    "        dp[i+1] = lis(arr, n, dp, i+1)\n",
    "    excluding_res = dp[i+1][1]\n",
    "    \n",
    "    return including_res, max(including_res, excluding_res)\n",
    "\n",
    "arr = [6, 3, 1, 2, 7, 0, 9]\n",
    "dp = [None for _ in range(len(arr)+1)]\n",
    "lis(arr, len(arr), dp)[1]"
   ]
  },
  {
   "cell_type": "code",
   "execution_count": 41,
   "id": "d11680e3",
   "metadata": {},
   "outputs": [
    {
     "data": {
      "text/plain": [
       "4"
      ]
     },
     "execution_count": 41,
     "metadata": {},
     "output_type": "execute_result"
    }
   ],
   "source": [
    "def lis(arr, n):\n",
    "    dp = [None for _ in range(n+1)]\n",
    "    dp[-1] = 0, 0\n",
    "    \n",
    "    for i in range(n-1, -1, -1):\n",
    "        max_lis = 0\n",
    "        for j in range(i+1, n):\n",
    "            if arr[j] > arr[i]:\n",
    "                max_lis = max(max_lis, dp[j][0])\n",
    "            \n",
    "        including_res = 1 + max_lis\n",
    "        excluding_res = dp[i+1][1]\n",
    "        \n",
    "        dp[i] = including_res, max(including_res, excluding_res)\n",
    "    \n",
    "    return dp[0][1]\n",
    "\n",
    "\n",
    "arr = [6, 3, 1, 2, 7, 0, 9]\n",
    "lis(arr, len(arr))"
   ]
  },
  {
   "cell_type": "code",
   "execution_count": null,
   "id": "b2d01d6d",
   "metadata": {},
   "outputs": [],
   "source": []
  },
  {
   "cell_type": "code",
   "execution_count": null,
   "id": "770ac09b",
   "metadata": {},
   "outputs": [],
   "source": []
  }
 ],
 "metadata": {
  "kernelspec": {
   "display_name": "Python 3 (ipykernel)",
   "language": "python",
   "name": "python3"
  },
  "language_info": {
   "codemirror_mode": {
    "name": "ipython",
    "version": 3
   },
   "file_extension": ".py",
   "mimetype": "text/x-python",
   "name": "python",
   "nbconvert_exporter": "python",
   "pygments_lexer": "ipython3",
   "version": "3.9.13"
  }
 },
 "nbformat": 4,
 "nbformat_minor": 5
}
