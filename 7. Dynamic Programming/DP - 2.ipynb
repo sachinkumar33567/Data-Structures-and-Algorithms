{
 "cells": [
  {
   "cell_type": "markdown",
   "id": "059993eb",
   "metadata": {},
   "source": [
    "## problem"
   ]
  },
  {
   "cell_type": "code",
   "execution_count": null,
   "id": "9459e42c",
   "metadata": {},
   "outputs": [],
   "source": [
    "# Min Cost Path Problem\n",
    "'''An integer matrix of size (M x N) has been given. Find out the minimum cost to reach from the cell (0, 0) to (M - 1, N - 1).\n",
    "The cost of a path is defined as the sum of each cell's values through which the route passes.\n",
    "'''"
   ]
  },
  {
   "cell_type": "code",
   "execution_count": 1,
   "id": "0b08cc59",
   "metadata": {},
   "outputs": [
    {
     "data": {
      "text/plain": [
       "19"
      ]
     },
     "execution_count": 1,
     "metadata": {},
     "output_type": "execute_result"
    }
   ],
   "source": [
    "def minCostPath(mat, n, m, row=0, col=0):\n",
    "    if row == n-1 and col == m-1:\n",
    "        return mat[row][col]\n",
    "    \n",
    "    if row == n or col == m:\n",
    "        return 100000\n",
    "    \n",
    "    hor_min_path = minCostPath(mat, n, m, row, col+1)\n",
    "    dia_min_path = minCostPath(mat, n, m, row+1, col+1)\n",
    "    ver_min_path = minCostPath(mat, n, m, row+1, col)\n",
    "    \n",
    "    return mat[row][col] + min(hor_min_path, dia_min_path, ver_min_path)\n",
    "\n",
    "\n",
    "\n",
    "mat = [[1, 5, 11], [8, 13, 17], [2, 3, 7]]\n",
    "n = len(mat)\n",
    "m = len(mat[0])\n",
    "minCostPath(mat, n, m)"
   ]
  },
  {
   "cell_type": "code",
   "execution_count": 4,
   "id": "4545b09f",
   "metadata": {},
   "outputs": [
    {
     "data": {
      "text/plain": [
       "19"
      ]
     },
     "execution_count": 4,
     "metadata": {},
     "output_type": "execute_result"
    }
   ],
   "source": [
    "def minCostPath(mat, n, m, dp, row=0, col=0):\n",
    "    if row == n-1 and col == m-1:\n",
    "        return mat[row][col]\n",
    "    \n",
    "    if row == n or col == m:\n",
    "        return 100000\n",
    "    \n",
    "    if not dp[row][col+1]:\n",
    "        dp[row][col+1] = minCostPath(mat, n, m, dp, row, col+1)\n",
    "        \n",
    "    if not dp[row+1][col+1]:\n",
    "        dp[row+1][col+1] = minCostPath(mat, n, m, dp, row+1, col+1)\n",
    "        \n",
    "    if not dp[row+1][col]:\n",
    "        dp[row+1][col] = minCostPath(mat, n, m, dp, row+1, col)\n",
    "        \n",
    "    return mat[row][col] + min(dp[row][col+1], dp[row+1][col+1], dp[row+1][col])\n",
    "    \n",
    "\n",
    "mat = [[1, 5, 11], [8, 13, 17], [2, 3, 7]]\n",
    "n = len(mat)\n",
    "m = len(mat[0])\n",
    "dp = [[None for _ in range(m+1)] for _ in range(n+1)]\n",
    "minCostPath(mat, n, m, dp)"
   ]
  },
  {
   "cell_type": "code",
   "execution_count": 9,
   "id": "1d1ff756",
   "metadata": {},
   "outputs": [
    {
     "data": {
      "text/plain": [
       "19"
      ]
     },
     "execution_count": 9,
     "metadata": {},
     "output_type": "execute_result"
    }
   ],
   "source": [
    "def minCostPathIter(mat, n, m):\n",
    "    dp = [[100000 for _ in range(m+1)] for _ in range(n+1)]\n",
    "    \n",
    "    for row in range(n-1, -1, -1):\n",
    "        for col in range(m-1, -1, -1):\n",
    "            if row == n-1 and col == n-1:\n",
    "                dp[row][col] = mat[row][col]\n",
    "            \n",
    "            else:\n",
    "                dp[row][col] = mat[row][col] + min(dp[row][col+1], dp[row+1][col+1], dp[row+1][col])\n",
    "                \n",
    "    return dp[0][0]\n",
    "\n",
    "def minCostPathIter(mat, n, m):\n",
    "    dp = [[100000 for _ in range(m+1)] for _ in range(n+1)]\n",
    "    \n",
    "    for row in range(1, n+1):\n",
    "        for col in range(1, m+1):\n",
    "            if row == 1 and col == 1:\n",
    "                dp[row][col] = mat[row-1][col-1]\n",
    "            \n",
    "            else:\n",
    "                dp[row][col] = mat[row-1][col-1] + min(dp[row-1][col], dp[row-1][col-1], dp[row][col-1])\n",
    "                \n",
    "    return dp[n][m]\n",
    "\n",
    "mat = [[1, 5, 11], [8, 13, 17], [2, 3, 7]]\n",
    "n = len(mat)\n",
    "m = len(mat[0])\n",
    "minCostPathIter(mat, n, m)"
   ]
  },
  {
   "cell_type": "code",
   "execution_count": null,
   "id": "c78218b8",
   "metadata": {},
   "outputs": [],
   "source": []
  },
  {
   "cell_type": "code",
   "execution_count": null,
   "id": "1b17dd30",
   "metadata": {},
   "outputs": [],
   "source": []
  },
  {
   "cell_type": "markdown",
   "id": "1fb8c948",
   "metadata": {},
   "source": [
    "## problem"
   ]
  },
  {
   "cell_type": "code",
   "execution_count": null,
   "id": "15f40db1",
   "metadata": {},
   "outputs": [],
   "source": [
    "# LCS - Problem\n",
    "'''Given two strings, 'S' and 'T' with lengths 'M' and 'N', find the length of the 'Longest Common Subsequence'.\n",
    "For a string 'str'(per se) of length K, the subsequences are the strings containing characters in the same relative order as \n",
    "they are present in 'str,' but not necessarily contiguous. Subsequences contain all the strings of length varying from 0 to K.\n",
    "\n",
    "Example :\n",
    "Subsequences of string \"abc\" are:  \"\"(empty string), a, b, c, ab, bc, ac, abc.\n",
    "'''"
   ]
  },
  {
   "cell_type": "code",
   "execution_count": 7,
   "id": "93f4a1e0",
   "metadata": {},
   "outputs": [
    {
     "data": {
      "text/plain": [
       "4"
      ]
     },
     "execution_count": 7,
     "metadata": {},
     "output_type": "execute_result"
    }
   ],
   "source": [
    "def lcs(str1, str2):\n",
    "    if not str1 or not str2:\n",
    "        return 0\n",
    "    \n",
    "    if str1[0] == str2[0]:\n",
    "        return 1 + lcs(str1[1: ], str2[1: ])\n",
    "    \n",
    "    return max(lcs(str1[1: ], str2), lcs(str1, str2[1: ]))\n",
    "\n",
    "\n",
    "str1 = 'abdgec'\n",
    "str2 = 'bfdmgic'\n",
    "\n",
    "lcs(str1, str2)"
   ]
  },
  {
   "cell_type": "code",
   "execution_count": 8,
   "id": "d362addf",
   "metadata": {},
   "outputs": [
    {
     "data": {
      "text/plain": [
       "4"
      ]
     },
     "execution_count": 8,
     "metadata": {},
     "output_type": "execute_result"
    }
   ],
   "source": [
    "def lcs(str1, str2, n, m, dp, i=0, j=0):\n",
    "    if i == n or j == m:\n",
    "        return 0\n",
    "    \n",
    "    if str1[i] == str2[j]:\n",
    "        if not dp[i][j]:\n",
    "            dp[i][j] = 1 + lcs(str1, str2, n, m, dp, i+1, j+1)\n",
    "            \n",
    "        return dp[i][j]\n",
    "            \n",
    "    if not dp[i+1][j]:\n",
    "        dp[i+1][j] = lcs(str1, str2, n, m, dp, i+1, j)\n",
    "        \n",
    "    if not dp[i][j+1]:\n",
    "        dp[i][j+1] = lcs(str1, str2, n, m, dp, i, j+1)\n",
    "        \n",
    "    return max(dp[i+1][j], dp[i][j+1])\n",
    "\n",
    "str1 = 'abdgec'\n",
    "str2 = 'bfdmgic'\n",
    "n = len(str1)\n",
    "m = len(str2)\n",
    "dp = [[None for _ in range(m+1)] for _ in range(n+1)]\n",
    "lcs(str1, str2, n, m, dp)"
   ]
  },
  {
   "cell_type": "code",
   "execution_count": null,
   "id": "20274f85",
   "metadata": {},
   "outputs": [],
   "source": [
    "def lcsIter(str1, str2, n, m):\n",
    "    dp = [[0 for _ in range(m+1)] for _ in range(n+1)]\n",
    "    \n",
    "    for i in range(n-1, -1, -1):\n",
    "        for j in range(m-1, -1, -1):\n",
    "            if str1[i] == str2[j]:\n",
    "                dp[i][j] = 1 + dp[i+1][j+1]\n",
    "                \n",
    "            else:\n",
    "                dp[i][j] = max(dp[i+1][j], dp[i][j+1])\n",
    "                \n",
    "    return dp[0][0]\n",
    "\n",
    "\n",
    "def lcsIter(str1, str2, n, m):\n",
    "    dp = [[0 for _ in range(m+1)] for _ in range(n+1)]\n",
    "    \n",
    "    for i in range(1, n+1):\n",
    "        for j in range(1, m+1):\n",
    "            if str1[i-1] == str2[j-1]:\n",
    "                dp[i][j] = 1 + dp[i-1][j-1]\n",
    "                \n",
    "            else:\n",
    "                dp[i][j] = max(dp[i-1][j], dp[i][j-1])\n",
    "                \n",
    "    return dp[n][m]\n",
    "\n",
    "str1 = 'abdgec'\n",
    "str2 = 'bfdmgic'\n",
    "n = len(str1)\n",
    "m = len(str2)\n",
    "lcsIter(str1, str2, n, m)"
   ]
  },
  {
   "cell_type": "code",
   "execution_count": null,
   "id": "131803b6",
   "metadata": {},
   "outputs": [],
   "source": []
  },
  {
   "cell_type": "code",
   "execution_count": null,
   "id": "2cd2cc9c",
   "metadata": {},
   "outputs": [],
   "source": []
  },
  {
   "cell_type": "markdown",
   "id": "3b0cb07e",
   "metadata": {},
   "source": [
    "## problem"
   ]
  },
  {
   "cell_type": "code",
   "execution_count": null,
   "id": "3d23ff7b",
   "metadata": {},
   "outputs": [],
   "source": [
    "# 0-1 Knapsack problem"
   ]
  },
  {
   "cell_type": "code",
   "execution_count": 10,
   "id": "8e8e0338",
   "metadata": {},
   "outputs": [
    {
     "data": {
      "text/plain": [
       "500"
      ]
     },
     "execution_count": 10,
     "metadata": {},
     "output_type": "execute_result"
    }
   ],
   "source": [
    "def knapsack(val, wt, w):\n",
    "    if not val:\n",
    "        return 0\n",
    "    \n",
    "    '''to each value we can include it or exclude it, but we can include only if wt <= w'''\n",
    "    excluding_res = knapsack(val[1: ], wt[1: ], w)\n",
    "    \n",
    "    including_res = 0\n",
    "    if wt[0] <= w:\n",
    "        including_res = val[0] + max(including_res, knapsack(val[1: ], wt[1: ], w-wt[0]))\n",
    "    \n",
    "    return max(including_res, excluding_res)\n",
    "\n",
    "val = [200, 300, 100]\n",
    "wt = [20, 25, 30]\n",
    "w = 50\n",
    "\n",
    "knapsack(val, wt, w)"
   ]
  },
  {
   "cell_type": "code",
   "execution_count": 11,
   "id": "d9cddc18",
   "metadata": {},
   "outputs": [
    {
     "data": {
      "text/plain": [
       "500"
      ]
     },
     "execution_count": 11,
     "metadata": {},
     "output_type": "execute_result"
    }
   ],
   "source": [
    "def knapsack(val, wt, w, n, dp, i=0):\n",
    "    if i == n:\n",
    "        return 0\n",
    "    \n",
    "    if not dp[i][w]:\n",
    "        dp[i][w] = knapsack(val, wt, w, n, dp, i+1)\n",
    "    excluding_res = dp[i][w]\n",
    "    \n",
    "    including_res = 0\n",
    "    if wt[i] <= w:\n",
    "        if not dp[i][w-wt[i]]:\n",
    "            dp[i][w-wt[i]] = val[i] + knapsack(val, wt, w-wt[i], n, dp, i+1)\n",
    "        including_res = dp[i][w-wt[i]]\n",
    "        \n",
    "    return max(including_res, excluding_res)\n",
    "    \n",
    "\n",
    "\n",
    "val = [200, 300, 100]\n",
    "wt = [20, 25, 30]\n",
    "w = 50\n",
    "n = len(val)\n",
    "dp = [[None for _ in range(w+1)] for _ in range(n+1)]\n",
    "\n",
    "knapsack(val, wt, w, n, dp)"
   ]
  },
  {
   "cell_type": "code",
   "execution_count": 16,
   "id": "9ef12f21",
   "metadata": {},
   "outputs": [
    {
     "data": {
      "text/plain": [
       "0"
      ]
     },
     "execution_count": 16,
     "metadata": {},
     "output_type": "execute_result"
    }
   ],
   "source": [
    "def knapsackIter(val, wt, w):\n",
    "    n = len(val)\n",
    "    dp = [[0 for _ in range(w+1)] for _ in range(n+1)]\n",
    "    \n",
    "    for i in range(n-1, -1, -1):\n",
    "        for w in range(w-1, -1, -1):\n",
    "            excluding_res = dp[i+1][w]\n",
    "            \n",
    "            including_res = 0\n",
    "            if wt[i] <= w:\n",
    "                including_res = val[i] + dp[i+1][w-wt[i]]\n",
    "                \n",
    "            dp[i][w] = max(including_res, excluding_res)\n",
    "        \n",
    "    return dp[0][0]\n",
    "\n",
    "\n",
    "# def knapsackIter(val, wt, w):\n",
    "#     n = len(val)\n",
    "#     dp = [[0 for _ in range(w+1)] for _ in range(n+1)]\n",
    "    \n",
    "#     for i in range(1, n+1):\n",
    "#         for w in range(1, w+1):\n",
    "#             excluding_res = dp[i-1][w]\n",
    "            \n",
    "#             including_res = 0\n",
    "#             if wt[i-1] <= w:\n",
    "#                 including_res = val[i-1] + dp[i-1][w-wt[i-1]]\n",
    "                \n",
    "#             dp[i][w] = max(including_res, excluding_res)\n",
    "        \n",
    "#     return dp[n][w]\n",
    "    \n",
    "val = [200, 300, 100]\n",
    "wt = [20, 25, 30]\n",
    "w = 50\n",
    "\n",
    "knapsackIter(val, wt, w)"
   ]
  },
  {
   "cell_type": "code",
   "execution_count": null,
   "id": "eabf335c",
   "metadata": {},
   "outputs": [],
   "source": []
  },
  {
   "cell_type": "code",
   "execution_count": null,
   "id": "07204499",
   "metadata": {},
   "outputs": [],
   "source": []
  },
  {
   "cell_type": "markdown",
   "id": "96a04a06",
   "metadata": {},
   "source": [
    "## problem"
   ]
  },
  {
   "cell_type": "code",
   "execution_count": null,
   "id": "1fba0d37",
   "metadata": {},
   "outputs": [],
   "source": [
    "# Matrix Chain Multiplication\n",
    "\n",
    "'''Given a chain of matrices A1, A2, A3,.....An, you have to figure out the most efficient way to multiply these matrices. \n",
    "In other words, determine where to place parentheses to minimize the number of multiplications.\n",
    "You will be given an array p[] of size n + 1. Dimension of matrix Ai is p[i - 1]*p[i]. You need to find minimum number of \n",
    "multiplications needed to multiply the chain.'''"
   ]
  },
  {
   "cell_type": "code",
   "execution_count": 3,
   "id": "418f3be2",
   "metadata": {},
   "outputs": [
    {
     "data": {
      "text/plain": [
       "150"
      ]
     },
     "execution_count": 3,
     "metadata": {},
     "output_type": "execute_result"
    }
   ],
   "source": [
    "def mcm(p, i, n):\n",
    "    if i == n:\n",
    "        return 0\n",
    "    \n",
    "    min_value = 100000\n",
    "    for k in range(i, n):\n",
    "        first = mcm(p, i, k)\n",
    "        last = mcm(p, k+1, n)\n",
    "        min_cost = p[i-1] * p[k] * p[n]\n",
    "        min_value = min(min_value, min_cost + first + last)\n",
    "        \n",
    "    return min_value\n",
    "\n",
    "n = 3\n",
    "p = [3, 4, 5, 6]\n",
    "mcm(p, 1, n)"
   ]
  },
  {
   "cell_type": "code",
   "execution_count": null,
   "id": "d3434f98",
   "metadata": {},
   "outputs": [],
   "source": []
  },
  {
   "cell_type": "code",
   "execution_count": null,
   "id": "9668680d",
   "metadata": {},
   "outputs": [],
   "source": []
  }
 ],
 "metadata": {
  "kernelspec": {
   "display_name": "Python 3",
   "language": "python",
   "name": "python3"
  },
  "language_info": {
   "codemirror_mode": {
    "name": "ipython",
    "version": 3
   },
   "file_extension": ".py",
   "mimetype": "text/x-python",
   "name": "python",
   "nbconvert_exporter": "python",
   "pygments_lexer": "ipython3",
   "version": "3.8.8"
  }
 },
 "nbformat": 4,
 "nbformat_minor": 5
}
