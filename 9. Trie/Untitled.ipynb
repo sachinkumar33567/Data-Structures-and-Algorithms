{
 "cells": [
  {
   "cell_type": "raw",
   "id": "e9731533",
   "metadata": {},
   "source": [
    "Trie - 1\n",
    "\n",
    "1. insert words\n",
    "2. search word\n",
    "3. is there any word which starts with given string."
   ]
  },
  {
   "cell_type": "code",
   "execution_count": null,
   "id": "fbc7f61f",
   "metadata": {},
   "outputs": [],
   "source": [
    "class TrieNode:\n",
    "    def __init__(self):\n",
    "        self.arr = [0 for _ in range(26)]\n",
    "        self.flag = False\n",
    "        \n",
    "class Trie:\n",
    "    def __init__(self):\n",
    "        self.root = TrieNode()\n",
    "        \n",
    "    def insert(self, *words):\n",
    "        for word in words:\n",
    "            curr = self.root\n",
    "            for char in word:\n",
    "                idx = ord(char)-97\n",
    "                if not curr.arr[idx]:\n",
    "                    curr.arr[idx] = TrieNode()\n",
    "                \n",
    "                curr = curr.arr[idx]\n",
    "                \n",
    "            curr.flag = True\n",
    "            \n",
    "    def search(self, word):\n",
    "        curr = self.root\n",
    "        for char in word:\n",
    "            idx = ord(char)-97\n",
    "            if curr.arr[idx]:\n",
    "                curr = curr.arr[idx]\n",
    "                \n",
    "            else:\n",
    "                return False\n",
    "            \n",
    "        return curr.flag\n",
    "    \n",
    "    def prefix(self, word):\n",
    "        curr = self.root\n",
    "        for char in word:\n",
    "            idx = ord(char)-97\n",
    "            if curr.arr[idx]:\n",
    "                curr = curr.arr[idx]\n",
    "                \n",
    "            else:\n",
    "                return False\n",
    "            \n",
    "        return True"
   ]
  },
  {
   "cell_type": "code",
   "execution_count": null,
   "id": "ae89a1af",
   "metadata": {},
   "outputs": [],
   "source": [
    "trie = Trie()"
   ]
  },
  {
   "cell_type": "code",
   "execution_count": null,
   "id": "27d8f5b7",
   "metadata": {},
   "outputs": [],
   "source": [
    "trie.insert('apple', 'apps', 'apxl', 'bac', 'bat')"
   ]
  },
  {
   "cell_type": "code",
   "execution_count": null,
   "id": "df2f9509",
   "metadata": {},
   "outputs": [],
   "source": [
    "trie.search('apxl')"
   ]
  },
  {
   "cell_type": "code",
   "execution_count": null,
   "id": "5f0aaf5e",
   "metadata": {},
   "outputs": [],
   "source": [
    "trie.prefix('applei')"
   ]
  },
  {
   "cell_type": "code",
   "execution_count": null,
   "id": "5456a3dd",
   "metadata": {},
   "outputs": [],
   "source": []
  },
  {
   "cell_type": "code",
   "execution_count": null,
   "id": "2c145832",
   "metadata": {},
   "outputs": [],
   "source": []
  },
  {
   "cell_type": "raw",
   "id": "75bc94cc",
   "metadata": {},
   "source": [
    "Trie - 2\n",
    "\n",
    "1. insert words\n",
    "2. count number of words equal to given word\n",
    "3. count number of words which starts with given srting\n",
    "4. remove a word"
   ]
  },
  {
   "cell_type": "code",
   "execution_count": null,
   "id": "5ae2d009",
   "metadata": {},
   "outputs": [],
   "source": [
    "class TrieNode:\n",
    "    def __init__(self):\n",
    "        self.arr = [0 for _ in range(26)]\n",
    "        self.ew = 0\n",
    "        self.cp = 0\n",
    "        \n",
    "class Trie:\n",
    "    def __init__(self):\n",
    "        self.root = TrieNode()\n",
    "        \n",
    "    def insert(self, *words):\n",
    "        for word in words:\n",
    "            curr = self.root\n",
    "            for char in word:\n",
    "                idx = ord(char)-97\n",
    "                if not curr.arr[idx]:\n",
    "                    curr.arr[idx] = TrieNode()\n",
    "                    \n",
    "                curr = curr.arr[idx]\n",
    "                curr.cp += 1\n",
    "                    \n",
    "            curr.ew += 1\n",
    "            \n",
    "    def countEndswith(self, word):\n",
    "        curr = self.root\n",
    "        for char in word:\n",
    "            idx = ord(char)-97\n",
    "            if curr.arr[idx]:\n",
    "                curr = curr.arr[idx]\n",
    "                \n",
    "            else:\n",
    "                return 0\n",
    "            \n",
    "        return curr.ew\n",
    "    \n",
    "    def countStartswith(self, word):\n",
    "        curr = self.root\n",
    "        for char in word:\n",
    "            idx = ord(char)-97\n",
    "            if curr.arr[idx]:\n",
    "                curr = curr.arr[idx]\n",
    "                \n",
    "            else:\n",
    "                return 0\n",
    "                \n",
    "        return curr.cp\n",
    "    \n",
    "    def erase(self, word):\n",
    "        curr = self.root\n",
    "        for char in word:\n",
    "            idx = ord(char)-97\n",
    "            if curr.arr[idx]:\n",
    "                curr = curr.arr[idx]\n",
    "                curr.cp -= 1\n",
    "                \n",
    "            else:\n",
    "                return\n",
    "            \n",
    "        curr.ew -= 1"
   ]
  },
  {
   "cell_type": "code",
   "execution_count": null,
   "id": "113d7743",
   "metadata": {},
   "outputs": [],
   "source": []
  },
  {
   "cell_type": "code",
   "execution_count": null,
   "id": "54df957c",
   "metadata": {},
   "outputs": [],
   "source": []
  },
  {
   "cell_type": "markdown",
   "id": "d1729298",
   "metadata": {},
   "source": [
    "Trie - 3\n",
    "Problem Link: https://bit.ly/3n3kedU"
   ]
  },
  {
   "cell_type": "code",
   "execution_count": null,
   "id": "5084001c",
   "metadata": {},
   "outputs": [],
   "source": [
    "class TrieNode:\n",
    "    def __init__(self):\n",
    "        self.arr = [0 for _ in range(26)]\n",
    "        self.flag = False\n",
    "        \n",
    "        \n",
    "class Trie:\n",
    "    def __init__(self):\n",
    "        self.root = TrieNode()\n",
    "        \n",
    "        \n",
    "    def insert(self, *words):\n",
    "        for word in words:\n",
    "            curr = self.root\n",
    "            for char in word:\n",
    "                idx = ord(char)-97\n",
    "                if not curr.arr[idx]:\n",
    "                    curr.arr[idx] = TrieNode()\n",
    "                    \n",
    "                curr = curr.arr[idx]\n",
    "                \n",
    "            curr.flag = True\n",
    "            \n",
    "    def completeString(self, *words):\n",
    "        res = ''\n",
    "        for word in words:\n",
    "            curr = self.root\n",
    "            for char in word:\n",
    "                idx = ord(char)-97\n",
    "                if curr.arr[idx] and curr.arr[idx].flag:\n",
    "                    curr = curr.arr[idx]\n",
    "                    \n",
    "                else:\n",
    "                    break\n",
    "                    \n",
    "            if curr.flag and len(word) > len(res):\n",
    "                res = word\n",
    "                \n",
    "        return res"
   ]
  },
  {
   "cell_type": "code",
   "execution_count": null,
   "id": "02fd98ac",
   "metadata": {},
   "outputs": [],
   "source": [
    "trie = Trie()"
   ]
  },
  {
   "cell_type": "code",
   "execution_count": null,
   "id": "53e149f1",
   "metadata": {},
   "outputs": [],
   "source": [
    "trie.insert('n', 'ninja', 'ninj', 'ni', 'nin', 'ninga')"
   ]
  },
  {
   "cell_type": "code",
   "execution_count": null,
   "id": "0c9df824",
   "metadata": {},
   "outputs": [],
   "source": [
    "trie.completeString('n', 'ninja', 'ninj', 'ni', 'nin', 'ninga')"
   ]
  },
  {
   "cell_type": "markdown",
   "id": "0297daf4",
   "metadata": {},
   "source": [
    "Trie - 4\n",
    "Problem Link: https://bit.ly/3ocRQW0\n",
    "\n",
    "Given a string determine the number of distinct substrings including empty string\n",
    "For abab - a, ab, aba, abab, b, ba, bab"
   ]
  },
  {
   "cell_type": "code",
   "execution_count": null,
   "id": "ab3dee98",
   "metadata": {},
   "outputs": [],
   "source": [
    "def count(string):\n",
    "    res = set()\n",
    "    for i in range(len(string)):\n",
    "        temp = ''\n",
    "        for j in range(i, len(string)):\n",
    "            temp += string[j]\n",
    "            res.add(temp)\n",
    "            \n",
    "    return len(res) + 1\n",
    "\n",
    "count('abab')"
   ]
  },
  {
   "cell_type": "code",
   "execution_count": null,
   "id": "7140ca6a",
   "metadata": {},
   "outputs": [],
   "source": [
    "class TrieNode:\n",
    "    def __init__(self):\n",
    "        self.arr = [0 for _ in range(26)]\n",
    "        \n",
    "class Trie:\n",
    "    def __init__(self):\n",
    "        self.root = TrieNode()\n",
    "        \n",
    "    def count(self, string):\n",
    "        count = 0\n",
    "        for i in range(len(string)):\n",
    "            curr = self.root\n",
    "            for j in range(i, len(string)):\n",
    "                idx = ord(string[j])-97\n",
    "                if not curr.arr[idx]:\n",
    "                    curr.arr[idx] = TrieNode()\n",
    "                    count += 1\n",
    "                    \n",
    "                curr = curr.arr[idx]\n",
    "                \n",
    "        return count+1"
   ]
  },
  {
   "cell_type": "code",
   "execution_count": null,
   "id": "0f6e6e10",
   "metadata": {},
   "outputs": [],
   "source": [
    "trie = Trie()\n",
    "trie.count('abab')"
   ]
  },
  {
   "cell_type": "code",
   "execution_count": null,
   "id": "b01acae4",
   "metadata": {},
   "outputs": [],
   "source": []
  },
  {
   "cell_type": "code",
   "execution_count": null,
   "id": "61070e3c",
   "metadata": {},
   "outputs": [],
   "source": []
  },
  {
   "cell_type": "markdown",
   "id": "a5969585",
   "metadata": {},
   "source": [
    "Trie - 5\n",
    "\n",
    "Problem Link: https://bit.ly/3C6IHDp"
   ]
  },
  {
   "cell_type": "code",
   "execution_count": 17,
   "id": "6b8b38d3",
   "metadata": {},
   "outputs": [],
   "source": [
    "class TrieNode:\n",
    "    def __init__(self):\n",
    "        self.zero = 0\n",
    "        self.one = 0\n",
    "        \n",
    "        \n",
    "class Trie:\n",
    "    def __init__(self):\n",
    "        self.root = TrieNode()\n",
    "        \n",
    "    def insert(self, arr):\n",
    "        for ele in arr:\n",
    "            curr = self.root\n",
    "            bits = '0'*64\n",
    "            binary = bin(ele)[2: ]\n",
    "            l = len(binary)\n",
    "            bits = bits[: -l] + binary\n",
    "            for bit in bits:\n",
    "                if bit == '0':\n",
    "                    if not curr.zero:\n",
    "                        curr.zero = TrieNode()\n",
    "                        \n",
    "                    curr = curr.zero\n",
    "                        \n",
    "                else:\n",
    "                    if not curr.one:\n",
    "                        curr.one = TrieNode()\n",
    "                        \n",
    "                    curr = curr.one\n",
    "                    \n",
    "    def maxiXor(self, x):\n",
    "        curr = self.root\n",
    "        bits = '0'*64\n",
    "        binary = bin(x)[2: ]\n",
    "        l = len(binary)\n",
    "        bits = bits[: -l] + binary\n",
    "        \n",
    "        res = ''\n",
    "        for bit in bits:\n",
    "            if bit == '0':\n",
    "                if curr.one:\n",
    "                    res += '1'\n",
    "                    curr = curr.one\n",
    "                    \n",
    "                else:\n",
    "                    res += '0'\n",
    "                    curr = curr.zero\n",
    "                    \n",
    "            else:\n",
    "                if curr.zero:\n",
    "                    res += '1'\n",
    "                    curr = curr.zero\n",
    "                    \n",
    "                else:\n",
    "                    res += '0'\n",
    "                    curr = curr.one\n",
    "                    \n",
    "        return int(res, 2)"
   ]
  },
  {
   "cell_type": "code",
   "execution_count": null,
   "id": "99fa4101",
   "metadata": {},
   "outputs": [],
   "source": []
  }
 ],
 "metadata": {
  "kernelspec": {
   "display_name": "Python 3",
   "language": "python",
   "name": "python3"
  },
  "language_info": {
   "codemirror_mode": {
    "name": "ipython",
    "version": 3
   },
   "file_extension": ".py",
   "mimetype": "text/x-python",
   "name": "python",
   "nbconvert_exporter": "python",
   "pygments_lexer": "ipython3",
   "version": "3.8.8"
  }
 },
 "nbformat": 4,
 "nbformat_minor": 5
}
