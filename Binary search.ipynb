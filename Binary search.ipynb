{
 "cells": [
  {
   "cell_type": "code",
   "execution_count": 19,
   "id": "9844af1a",
   "metadata": {},
   "outputs": [
    {
     "data": {
      "text/plain": [
       "3"
      ]
     },
     "execution_count": 19,
     "metadata": {},
     "output_type": "execute_result"
    }
   ],
   "source": [
    "def binarySearch(arr, x, l, r):\n",
    "    if l > r:\n",
    "        return -1\n",
    "    \n",
    "    mid = (l+r) >> 1\n",
    "    if x < arr[mid]:\n",
    "        return binarySearch(arr, x, l, mid-1)\n",
    "    \n",
    "    if x > arr[mid]:\n",
    "        return binarySearch(arr, x, mid+1, r)\n",
    "    \n",
    "    return mid\n",
    "\n",
    "\n",
    "def binarySearch(arr, x):\n",
    "    if not arr:\n",
    "        return -1\n",
    "    \n",
    "    mid = len(arr) >> 1\n",
    "    if x < arr[mid]:\n",
    "        return binarySearch(arr[: mid], x)\n",
    "    \n",
    "    if x > arr[mid]:\n",
    "        right = binarySearch(arr[mid+1: ], x)\n",
    "        if right == -1:\n",
    "            return right\n",
    "        return mid+1 + right\n",
    "    \n",
    "    return mid\n",
    "\n",
    "\n",
    "def binarySearch(arr, x):\n",
    "    l, r = 0, len(arr)-1\n",
    "    \n",
    "    while l <= r:\n",
    "        mid = (l+r) >> 1\n",
    "        if x < arr[mid]:\n",
    "            r = mid-1\n",
    "            \n",
    "        elif x > arr[mid]:\n",
    "            l = mid+1\n",
    "            \n",
    "        else:\n",
    "            return mid\n",
    "\n",
    "    return -1\n",
    "\n",
    "\n",
    "arr = [3, 9, 12, 18, 23, 26, 32, 38, 40, 45]\n",
    "binarySearch(arr, 18)"
   ]
  },
  {
   "cell_type": "code",
   "execution_count": null,
   "id": "4254fc46",
   "metadata": {},
   "outputs": [],
   "source": []
  },
  {
   "cell_type": "code",
   "execution_count": null,
   "id": "b779d633",
   "metadata": {},
   "outputs": [],
   "source": []
  },
  {
   "cell_type": "code",
   "execution_count": 43,
   "id": "c7e2cb92",
   "metadata": {},
   "outputs": [
    {
     "data": {
      "text/plain": [
       "3"
      ]
     },
     "execution_count": 43,
     "metadata": {},
     "output_type": "execute_result"
    }
   ],
   "source": [
    "# first index and last index\n",
    "\n",
    "def firstIndex(arr, x, l, r, idx=-1):\n",
    "    if l > r:\n",
    "        return idx\n",
    "    \n",
    "    mid = (l+r) >> 1\n",
    "    if x <= arr[mid]:\n",
    "        if x == arr[mid]:\n",
    "            idx = mid\n",
    "            \n",
    "        return firstIndex(arr, x, l, mid-1, idx)\n",
    "    \n",
    "    return firstIndex(arr, x, mid+1, r, idx)\n",
    "\n",
    "def firstIndex(arr, x):\n",
    "    idx = -1\n",
    "    l, r = 0, len(arr)-1\n",
    "    while l <= r:\n",
    "        mid = (l+r) >> 1\n",
    "        if x <= arr[mid]:\n",
    "            if x == arr[mid]:\n",
    "                idx = mid\n",
    "            r = mid-1\n",
    "            \n",
    "        else:\n",
    "            l = mid+1\n",
    "            \n",
    "    return idx\n",
    "\n",
    "arr = [1, 2, 2, 3, 3, 3, 3, 3, 4, 4, 4, 5]\n",
    "firstIndex(arr, 3)"
   ]
  },
  {
   "cell_type": "code",
   "execution_count": null,
   "id": "8c235e74",
   "metadata": {},
   "outputs": [],
   "source": []
  },
  {
   "cell_type": "markdown",
   "id": "b67f93df",
   "metadata": {},
   "source": [
    "1. median of two sorted arrays - https://leetcode.com/problems/median-of-two-sorted-arrays\n",
    "    \n",
    "    \n",
    "2. search in rotated sorted array - https://leetcode.com/problems/search-in-rotated-sorted-array\n",
    "    \n",
    "    \n",
    "3. first and last pos of ele - https://leetcode.com/problems/find-first-and-last-position-of-element-in-sorted-array\n",
    "\n",
    "\n",
    "4. search insert position - https://leetcode.com/problems/search-insert-position\n",
    "\n",
    "\n",
    "5. square root - https://leetcode.com/problems/sqrtx\n",
    "\n",
    "\n",
    "6. search a 2D matrix - https://leetcode.com/problems/search-a-2d-matrix\n",
    "\n",
    "\n",
    "7. serach in rotated sorted array - https://leetcode.com/problems/search-in-rotated-sorted-array-ii\n",
    "\n",
    "\n",
    "8. find min in sorted array - https://leetcode.com/problems/find-minimum-in-rotated-sorted-array\n",
    "\n",
    "\n",
    "9. find min in sorted arrayII - https://leetcode.com/problems/find-minimum-in-rotated-sorted-array-ii\n",
    "\n",
    "\n",
    "10. find peak ele - https://leetcode.com/problems/find-peak-element\n",
    "\n",
    "\n",
    "11. two sum(sorted array) - https://leetcode.com/problems/two-sum-ii-input-array-is-sorted\n",
    "\n",
    "\n",
    "12. min size subarray sum - https://leetcode.com/problems/minimum-size-subarray-sum\n",
    "\n",
    "\n",
    "13. count complete tree nodes - https://leetcode.com/problems/count-complete-tree-nodes\n",
    "\n",
    "\n",
    "14. search a 2D matrixII - https://leetcode.com/problems/search-a-2d-matrix-ii\n",
    "\n",
    "\n",
    "15. H-index - https://leetcode.com/problems/h-index-ii\n",
    "\n",
    "\n",
    "16. first bad version - https://leetcode.com/problems/first-bad-version\n",
    "\n",
    "\n",
    "17. find the duplicate number - https://leetcode.com/problems/find-the-duplicate-number\n",
    "\n",
    "\n",
    "18. longest increasing subsequence - https://leetcode.com/problems/longest-increasing-subsequence\n",
    "\n",
    "\n",
    "19. count of smaller number after self - https://leetcode.com/problems/count-of-smaller-numbers-after-self\n",
    "\n",
    "\n",
    "20. count of range sum - https://leetcode.com/problems/count-of-range-sum"
   ]
  },
  {
   "cell_type": "code",
   "execution_count": null,
   "id": "ae210db1",
   "metadata": {},
   "outputs": [],
   "source": []
  }
 ],
 "metadata": {
  "kernelspec": {
   "display_name": "Python 3",
   "language": "python",
   "name": "python3"
  },
  "language_info": {
   "codemirror_mode": {
    "name": "ipython",
    "version": 3
   },
   "file_extension": ".py",
   "mimetype": "text/x-python",
   "name": "python",
   "nbconvert_exporter": "python",
   "pygments_lexer": "ipython3",
   "version": "3.8.8"
  }
 },
 "nbformat": 4,
 "nbformat_minor": 5
}
