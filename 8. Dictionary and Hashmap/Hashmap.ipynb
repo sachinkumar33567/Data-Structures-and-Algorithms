{
 "cells": [
  {
   "cell_type": "code",
   "execution_count": 93,
   "id": "387a1000",
   "metadata": {},
   "outputs": [],
   "source": [
    "class Node:\n",
    "    def __init__(self, key, value):\n",
    "        self.key = key\n",
    "        self.value = value\n",
    "        self.next = None\n",
    "        \n",
    "class HashMap:\n",
    "    def __init__(self):\n",
    "        self.size = 10\n",
    "        self.arr = [None for _ in range(self.size)]\n",
    "        self.count = 0\n",
    "        \n",
    "    def rehash(self):\n",
    "        temp = self.arr\n",
    "        self.size *= 2\n",
    "        self.arr = [None for _ in range(self.size)]\n",
    "        \n",
    "        for curr in temp:\n",
    "            while curr:\n",
    "                self.insert(curr.key, curr.value)\n",
    "                curr = curr.next\n",
    "        \n",
    "    def insert(self, key, value):\n",
    "        code = abs(hash(key))\n",
    "        idx = code % self.size\n",
    "        self.count += 1\n",
    "        \n",
    "        prev = None\n",
    "        curr = self.arr[idx]\n",
    "        while curr:\n",
    "            if curr.key == key:\n",
    "                curr.value = value\n",
    "                return\n",
    "            prev = curr\n",
    "            curr = curr.next\n",
    "            \n",
    "        node = Node(key, value)\n",
    "        if not prev:\n",
    "            self.arr[idx] = node\n",
    "            \n",
    "        else:\n",
    "            prev.next = node\n",
    "            \n",
    "        loadFactor = self.count / self.size\n",
    "        if not loadFactor < 0.7:\n",
    "            self.count = 0\n",
    "            self.rehash()\n",
    "            \n",
    "    def remove(self, key):\n",
    "        code = abs(hash(key))\n",
    "        idx = code % self.size\n",
    "        \n",
    "        prev = None\n",
    "        curr = self.arr[idx]\n",
    "        while curr:\n",
    "            if curr.key == key:\n",
    "                if not prev:\n",
    "                    self.arr[idx] = None\n",
    "                else:\n",
    "                    prev.next = curr.next\n",
    "                self.count -= 1\n",
    "            prev = curr\n",
    "            curr = curr.next\n",
    "        \n",
    "    def search(self, key):\n",
    "        code = abs(hash(key))\n",
    "        idx = code % self.size\n",
    "        \n",
    "        curr = self.arr[idx]\n",
    "        while curr:\n",
    "            if curr.key == key:\n",
    "                return curr.value\n",
    "            curr = curr.next\n",
    "            \n",
    "    def printHashMap(self):\n",
    "        for curr in self.arr:\n",
    "            while curr:\n",
    "                print(curr.key, curr.value)\n",
    "                curr = curr.next"
   ]
  },
  {
   "cell_type": "code",
   "execution_count": 94,
   "id": "d77361f6",
   "metadata": {},
   "outputs": [],
   "source": [
    "h = HashMap()"
   ]
  },
  {
   "cell_type": "code",
   "execution_count": 95,
   "id": "898a02f5",
   "metadata": {},
   "outputs": [],
   "source": [
    "h.insert('aman', 87)\n",
    "h.insert('vipin', 92)\n",
    "h.insert('shivam', 56)\n",
    "h.insert('aman', 98)\n",
    "h.insert('rahul', 87)\n",
    "h.insert('ankit', 92)\n",
    "h.insert('shiva', 56)\n",
    "h.insert('ayush', 98)"
   ]
  },
  {
   "cell_type": "code",
   "execution_count": 96,
   "id": "1d1e7425",
   "metadata": {},
   "outputs": [
    {
     "name": "stdout",
     "output_type": "stream",
     "text": [
      "vipin 92\n",
      "ankit 92\n",
      "shiva 56\n",
      "ayush 98\n",
      "rahul 87\n",
      "aman 98\n",
      "shivam 56\n"
     ]
    }
   ],
   "source": [
    "h.printHashMap()"
   ]
  },
  {
   "cell_type": "code",
   "execution_count": 97,
   "id": "0ef2ef0d",
   "metadata": {},
   "outputs": [
    {
     "data": {
      "text/plain": [
       "56"
      ]
     },
     "execution_count": 97,
     "metadata": {},
     "output_type": "execute_result"
    }
   ],
   "source": [
    "h.search('shivam')"
   ]
  },
  {
   "cell_type": "code",
   "execution_count": 98,
   "id": "3f365c7e",
   "metadata": {},
   "outputs": [
    {
     "data": {
      "text/plain": [
       "20"
      ]
     },
     "execution_count": 98,
     "metadata": {},
     "output_type": "execute_result"
    }
   ],
   "source": [
    "h.size"
   ]
  },
  {
   "cell_type": "code",
   "execution_count": null,
   "id": "86f9e173",
   "metadata": {},
   "outputs": [],
   "source": []
  }
 ],
 "metadata": {
  "kernelspec": {
   "display_name": "Python 3",
   "language": "python",
   "name": "python3"
  },
  "language_info": {
   "codemirror_mode": {
    "name": "ipython",
    "version": 3
   },
   "file_extension": ".py",
   "mimetype": "text/x-python",
   "name": "python",
   "nbconvert_exporter": "python",
   "pygments_lexer": "ipython3",
   "version": "3.8.8"
  }
 },
 "nbformat": 4,
 "nbformat_minor": 5
}
