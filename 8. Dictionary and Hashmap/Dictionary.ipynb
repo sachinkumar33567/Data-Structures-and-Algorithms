{
 "cells": [
  {
   "cell_type": "code",
   "execution_count": 1,
   "id": "c9caba1f",
   "metadata": {},
   "outputs": [],
   "source": [
    "data = {'vipin': 94, 'aman': 64, 'ayush': 76, 'shivam': 88}"
   ]
  },
  {
   "cell_type": "code",
   "execution_count": 2,
   "id": "658927fc",
   "metadata": {},
   "outputs": [
    {
     "data": {
      "text/plain": [
       "dict_keys(['vipin', 'aman', 'ayush', 'shivam'])"
      ]
     },
     "execution_count": 2,
     "metadata": {},
     "output_type": "execute_result"
    }
   ],
   "source": [
    "data.keys()"
   ]
  },
  {
   "cell_type": "code",
   "execution_count": 3,
   "id": "a4871967",
   "metadata": {},
   "outputs": [
    {
     "data": {
      "text/plain": [
       "dict_values([94, 64, 76, 88])"
      ]
     },
     "execution_count": 3,
     "metadata": {},
     "output_type": "execute_result"
    }
   ],
   "source": [
    "data.values()"
   ]
  },
  {
   "cell_type": "code",
   "execution_count": 4,
   "id": "e7c3b276",
   "metadata": {},
   "outputs": [
    {
     "data": {
      "text/plain": [
       "dict_items([('vipin', 94), ('aman', 64), ('ayush', 76), ('shivam', 88)])"
      ]
     },
     "execution_count": 4,
     "metadata": {},
     "output_type": "execute_result"
    }
   ],
   "source": [
    "data.items()"
   ]
  },
  {
   "cell_type": "code",
   "execution_count": 5,
   "id": "1ad539d9",
   "metadata": {},
   "outputs": [
    {
     "data": {
      "text/plain": [
       "{'vipin': None, 'aman': None, 'sachin': None, 'shivam': None}"
      ]
     },
     "execution_count": 5,
     "metadata": {},
     "output_type": "execute_result"
    }
   ],
   "source": [
    "data = dict.fromkeys(['vipin', 'aman', 'sachin', 'shivam'])\n",
    "data"
   ]
  },
  {
   "cell_type": "code",
   "execution_count": 6,
   "id": "558daf14",
   "metadata": {},
   "outputs": [
    {
     "data": {
      "text/plain": [
       "{'vipin': 48, 'aman': 48, 'sachin': 48, 'shivam': 48}"
      ]
     },
     "execution_count": 6,
     "metadata": {},
     "output_type": "execute_result"
    }
   ],
   "source": [
    "data = dict.fromkeys(['vipin', 'aman', 'sachin', 'shivam'], 48)\n",
    "data"
   ]
  },
  {
   "cell_type": "code",
   "execution_count": null,
   "id": "54b923bf",
   "metadata": {},
   "outputs": [],
   "source": []
  },
  {
   "cell_type": "code",
   "execution_count": null,
   "id": "29b97ce2",
   "metadata": {},
   "outputs": [],
   "source": []
  },
  {
   "cell_type": "code",
   "execution_count": 7,
   "id": "31419e2b",
   "metadata": {},
   "outputs": [],
   "source": [
    "data = {'vipin': 94, 'aman': 64, 'ayush': 76, 'shivam': 88}"
   ]
  },
  {
   "cell_type": "code",
   "execution_count": 8,
   "id": "43259519",
   "metadata": {},
   "outputs": [
    {
     "ename": "KeyError",
     "evalue": "'sachin'",
     "output_type": "error",
     "traceback": [
      "\u001b[1;31m---------------------------------------------------------------------------\u001b[0m",
      "\u001b[1;31mKeyError\u001b[0m                                  Traceback (most recent call last)",
      "\u001b[1;32m<ipython-input-8-20f73bf56847>\u001b[0m in \u001b[0;36m<module>\u001b[1;34m\u001b[0m\n\u001b[1;32m----> 1\u001b[1;33m \u001b[0mdata\u001b[0m\u001b[1;33m[\u001b[0m\u001b[1;34m'sachin'\u001b[0m\u001b[1;33m]\u001b[0m\u001b[1;33m\u001b[0m\u001b[1;33m\u001b[0m\u001b[0m\n\u001b[0m",
      "\u001b[1;31mKeyError\u001b[0m: 'sachin'"
     ]
    }
   ],
   "source": [
    "data['sachin']"
   ]
  },
  {
   "cell_type": "code",
   "execution_count": 9,
   "id": "d985a4b0",
   "metadata": {},
   "outputs": [],
   "source": [
    "data.get('sachin')"
   ]
  },
  {
   "cell_type": "code",
   "execution_count": 10,
   "id": "ebccf562",
   "metadata": {},
   "outputs": [
    {
     "data": {
      "text/plain": [
       "56"
      ]
     },
     "execution_count": 10,
     "metadata": {},
     "output_type": "execute_result"
    }
   ],
   "source": [
    "data.get('sachin', 56)"
   ]
  },
  {
   "cell_type": "code",
   "execution_count": 13,
   "id": "03950c58",
   "metadata": {},
   "outputs": [
    {
     "data": {
      "text/plain": [
       "{'vipin': 94, 'aman': 46, 'ayush': 76, 'shivam': 88, 'sachin': 72}"
      ]
     },
     "execution_count": 13,
     "metadata": {},
     "output_type": "execute_result"
    }
   ],
   "source": [
    "data = {'vipin': 94, 'aman': 64, 'ayush': 76, 'shivam': 88}\n",
    "new = {'sachin': 72, 'aman': 46}\n",
    "data.update(new)\n",
    "data"
   ]
  },
  {
   "cell_type": "code",
   "execution_count": 14,
   "id": "df523ef2",
   "metadata": {},
   "outputs": [
    {
     "data": {
      "text/plain": [
       "{'vipin': 94, 'aman': 46, 'shivam': 88, 'sachin': 72}"
      ]
     },
     "execution_count": 14,
     "metadata": {},
     "output_type": "execute_result"
    }
   ],
   "source": [
    "data = {'vipin': 94, 'aman': 46, 'ayush': 76, 'shivam': 88, 'sachin': 72}\n",
    "\n",
    "data.pop('ayush')\n",
    "data"
   ]
  },
  {
   "cell_type": "code",
   "execution_count": 15,
   "id": "0d14d807",
   "metadata": {},
   "outputs": [
    {
     "data": {
      "text/plain": [
       "{'aman': 46, 'ayush': 76, 'shivam': 88, 'sachin': 72}"
      ]
     },
     "execution_count": 15,
     "metadata": {},
     "output_type": "execute_result"
    }
   ],
   "source": [
    "data = {'vipin': 94, 'aman': 46, 'ayush': 76, 'shivam': 88, 'sachin': 72}\n",
    "\n",
    "del data['vipin']\n",
    "data"
   ]
  },
  {
   "cell_type": "code",
   "execution_count": 16,
   "id": "9e03371f",
   "metadata": {},
   "outputs": [
    {
     "data": {
      "text/plain": [
       "{}"
      ]
     },
     "execution_count": 16,
     "metadata": {},
     "output_type": "execute_result"
    }
   ],
   "source": [
    "data = {'vipin': 94, 'aman': 46, 'ayush': 76, 'shivam': 88, 'sachin': 72}\n",
    "\n",
    "data.clear()\n",
    "data"
   ]
  },
  {
   "cell_type": "code",
   "execution_count": 21,
   "id": "554731f6",
   "metadata": {},
   "outputs": [
    {
     "ename": "NameError",
     "evalue": "name 'data' is not defined",
     "output_type": "error",
     "traceback": [
      "\u001b[1;31m---------------------------------------------------------------------------\u001b[0m",
      "\u001b[1;31mNameError\u001b[0m                                 Traceback (most recent call last)",
      "\u001b[1;32m<ipython-input-21-6622d93bcb1b>\u001b[0m in \u001b[0;36m<module>\u001b[1;34m\u001b[0m\n\u001b[0;32m      2\u001b[0m \u001b[1;33m\u001b[0m\u001b[0m\n\u001b[0;32m      3\u001b[0m \u001b[1;32mdel\u001b[0m \u001b[0mdata\u001b[0m\u001b[1;33m\u001b[0m\u001b[1;33m\u001b[0m\u001b[0m\n\u001b[1;32m----> 4\u001b[1;33m \u001b[0mdata\u001b[0m\u001b[1;33m\u001b[0m\u001b[1;33m\u001b[0m\u001b[0m\n\u001b[0m",
      "\u001b[1;31mNameError\u001b[0m: name 'data' is not defined"
     ]
    }
   ],
   "source": [
    "data = {'vipin': 94, 'aman': 46, 'ayush': 76, 'shivam': 88, 'sachin': 72}\n",
    "\n",
    "del data\n",
    "data"
   ]
  },
  {
   "cell_type": "code",
   "execution_count": null,
   "id": "1f60a5dd",
   "metadata": {},
   "outputs": [],
   "source": []
  },
  {
   "cell_type": "code",
   "execution_count": null,
   "id": "56a38295",
   "metadata": {},
   "outputs": [],
   "source": []
  },
  {
   "cell_type": "code",
   "execution_count": 22,
   "id": "f0c3ba01",
   "metadata": {},
   "outputs": [
    {
     "data": {
      "text/plain": [
       "6"
      ]
     },
     "execution_count": 22,
     "metadata": {},
     "output_type": "execute_result"
    }
   ],
   "source": [
    "def pairSumToK(arr, n, k):\n",
    "    h = {}\n",
    "    \n",
    "    count = 0\n",
    "    for i in arr:\n",
    "        diff = k - i\n",
    "        \n",
    "        if diff not in h:\n",
    "            h[i] = 1\n",
    "            \n",
    "        else:\n",
    "            count += h[diff]\n",
    "            if i not in h:\n",
    "                h[i] = 1\n",
    "                \n",
    "            else:\n",
    "                h[i] += 1\n",
    "                \n",
    "    return count\n",
    "\n",
    "arr = [0, 0, 0, 0]\n",
    "pairSumToK(arr, len(arr), 0)"
   ]
  },
  {
   "cell_type": "code",
   "execution_count": 23,
   "id": "12ed584c",
   "metadata": {},
   "outputs": [],
   "source": [
    "def pairSum0(arr,n):\n",
    "    d = {}\n",
    "    for i in arr:\n",
    "        d[i] = d.get(i, 0)+1\n",
    "    \n",
    "    count=0\n",
    "    \n",
    "    if 0 in d:\n",
    "        count += d[0]*(d[0]-1)//2\n",
    "        d[0]=0\n",
    "    \n",
    "    for i in d:\n",
    "        if -i in d:\n",
    "            count += d[i]*d[-i]\n",
    "            d[i]=0\n",
    "            d[-i]=0\n",
    "    \n",
    "    return count"
   ]
  },
  {
   "cell_type": "code",
   "execution_count": null,
   "id": "d28e7ddd",
   "metadata": {},
   "outputs": [],
   "source": []
  }
 ],
 "metadata": {
  "kernelspec": {
   "display_name": "Python 3",
   "language": "python",
   "name": "python3"
  },
  "language_info": {
   "codemirror_mode": {
    "name": "ipython",
    "version": 3
   },
   "file_extension": ".py",
   "mimetype": "text/x-python",
   "name": "python",
   "nbconvert_exporter": "python",
   "pygments_lexer": "ipython3",
   "version": "3.8.8"
  }
 },
 "nbformat": 4,
 "nbformat_minor": 5
}
