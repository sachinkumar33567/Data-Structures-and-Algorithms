{
 "cells": [
  {
   "cell_type": "code",
   "execution_count": 6,
   "id": "c81ab9e2",
   "metadata": {},
   "outputs": [
    {
     "data": {
      "text/plain": [
       "'hello sir'"
      ]
     },
     "execution_count": 6,
     "metadata": {},
     "output_type": "execute_result"
    }
   ],
   "source": [
    "# replace a with b\n",
    "\n",
    "def replace(string, a, b):\n",
    "    if not string:\n",
    "        return ''\n",
    "    \n",
    "    if string[0] == a:\n",
    "        return b + replace(string[1: ], a, b)\n",
    "    \n",
    "    return string[0] + replace(string[1: ], a, b)\n",
    "\n",
    "replace('hallo sir', 'a', 'e')"
   ]
  },
  {
   "cell_type": "code",
   "execution_count": 9,
   "id": "b3d2ec7f",
   "metadata": {},
   "outputs": [
    {
     "data": {
      "text/plain": [
       "'ab'"
      ]
     },
     "execution_count": 9,
     "metadata": {},
     "output_type": "execute_result"
    }
   ],
   "source": [
    "# remove 'x'\n",
    "\n",
    "def removeX(string):\n",
    "    if not string:\n",
    "        return ''\n",
    "    \n",
    "    if string[0] == 'x':\n",
    "        return removeX(string[1: ])\n",
    "    \n",
    "    return string[0] + removeX(string[1: ])\n",
    "\n",
    "removeX('xaxb')"
   ]
  },
  {
   "cell_type": "code",
   "execution_count": 1,
   "id": "1cc07386",
   "metadata": {},
   "outputs": [
    {
     "data": {
      "text/plain": [
       "'a3.14indexp3.14p'"
      ]
     },
     "execution_count": 1,
     "metadata": {},
     "output_type": "execute_result"
    }
   ],
   "source": [
    "# replace 'pi' with '3.14'\n",
    "\n",
    "\n",
    "def replace(string):\n",
    "    if not string:\n",
    "        return ''\n",
    "    \n",
    "    if string[: 2] == 'pi':\n",
    "        return '3.14' + replace(string[2: ])\n",
    "    \n",
    "    return string[0] + replace(string[1: ])\n",
    "    \n",
    "replace('apiindexppip')"
   ]
  },
  {
   "cell_type": "code",
   "execution_count": 3,
   "id": "43c2ad89",
   "metadata": {},
   "outputs": [
    {
     "data": {
      "text/plain": [
       "'ababa'"
      ]
     },
     "execution_count": 3,
     "metadata": {},
     "output_type": "execute_result"
    }
   ],
   "source": [
    "# remove consecutive duplicates\n",
    "\n",
    "def remove(string):\n",
    "    if len(string) < 2:\n",
    "        return string\n",
    "    \n",
    "    if string[0] == string[1]:\n",
    "        return remove(string[1: ])\n",
    "    \n",
    "    return string[0] + remove(string[1: ])\n",
    "\n",
    "remove('abaabba')"
   ]
  },
  {
   "cell_type": "markdown",
   "id": "3aa39f91",
   "metadata": {},
   "source": [
    "# Binary Search"
   ]
  },
  {
   "cell_type": "code",
   "execution_count": 3,
   "id": "dcd92f94",
   "metadata": {},
   "outputs": [
    {
     "data": {
      "text/plain": [
       "3"
      ]
     },
     "execution_count": 3,
     "metadata": {},
     "output_type": "execute_result"
    }
   ],
   "source": [
    "def binarySearch(arr, n, l, r):\n",
    "    if l == r:\n",
    "        if arr[l] == n:\n",
    "            return l\n",
    "        return -1\n",
    "    \n",
    "    mid = (l+r) >> 1\n",
    "    if n < arr[mid]: return binarySearch(arr, n, l, mid-1)\n",
    "    if n > arr[mid]: return binarySearch(arr, n, mid+1, r)\n",
    "    return mid\n",
    "\n",
    "def binarySearch(arr, n):\n",
    "    if not arr:\n",
    "        return -1\n",
    "    \n",
    "    mid = len(arr) >> 1\n",
    "    if n < arr[mid]: return binarySearch(arr[: mid], n)\n",
    "    if n > arr[mid]:\n",
    "        right = binarySearch(arr[mid+1: ], n)\n",
    "        if right == -1:\n",
    "            return right\n",
    "        \n",
    "        return 1 + mid + right\n",
    "    \n",
    "    return mid\n",
    "\n",
    "def binarySearch(arr, n):\n",
    "    l, r = 0, len(arr)-1\n",
    "    \n",
    "    while l <= r:\n",
    "        mid = (l+r) >> 1\n",
    "        \n",
    "        if n < arr[mid]:\n",
    "            r = mid-1\n",
    "            \n",
    "        elif n > arr[mid]:\n",
    "            l = mid+1\n",
    "            \n",
    "        else:\n",
    "            return mid\n",
    "    \n",
    "    return -1\n",
    "\n",
    "arr = [3, 9, 12, 18, 23, 26, 32, 38, 40, 45]\n",
    "binarySearch(arr, 18)"
   ]
  },
  {
   "cell_type": "markdown",
   "id": "01317986",
   "metadata": {},
   "source": [
    "# Merge Sort"
   ]
  },
  {
   "cell_type": "code",
   "execution_count": 5,
   "id": "86551343",
   "metadata": {},
   "outputs": [
    {
     "data": {
      "text/plain": [
       "[2, 3, 5, 6, 7, 9, 12]"
      ]
     },
     "execution_count": 5,
     "metadata": {},
     "output_type": "execute_result"
    }
   ],
   "source": [
    "def mergeTwoSortedArrays(a, b):\n",
    "    if not a:\n",
    "        return b\n",
    "    \n",
    "    if not b:\n",
    "        return a\n",
    "    \n",
    "    if a[0] < b[0]:\n",
    "        rres = mergeTwoSortedArrays(a[1: ], b)\n",
    "        rres.insert(0, a[0])\n",
    "        \n",
    "    else:\n",
    "        rres = mergeTwoSortedArrays(a, b[1: ])\n",
    "        rres.insert(0, b[0])\n",
    "        \n",
    "    return rres\n",
    "\n",
    "def mergeSort(arr):\n",
    "    if len(arr)==1:\n",
    "        return arr\n",
    "    \n",
    "    mid = len(arr) >> 1\n",
    "    \n",
    "    return mergeTwoSortedArrays(mergeSort(arr[: mid]), mergeSort(arr[mid:  ]))\n",
    "\n",
    "mergeSort([9, 3, 5, 12, 7, 2, 6])"
   ]
  },
  {
   "cell_type": "markdown",
   "id": "907748f3",
   "metadata": {},
   "source": [
    "# Quick Sort"
   ]
  },
  {
   "cell_type": "code",
   "execution_count": 9,
   "id": "2bbb929d",
   "metadata": {},
   "outputs": [
    {
     "data": {
      "text/plain": [
       "[3, 9, 12, 5, 1, 7, 2, 6, 4]"
      ]
     },
     "execution_count": 9,
     "metadata": {},
     "output_type": "execute_result"
    }
   ],
   "source": [
    "def partitionIndex(arr, l, r):\n",
    "    pivot_idx = l\n",
    "    while l < r:\n",
    "        while l < len(arr) and arr[l] <= arr[pivot_idx]:\n",
    "            l += 1\n",
    "            \n",
    "        while arr[r] > arr[pivot_idx]:\n",
    "            r -= 1\n",
    "            \n",
    "        if l < r:\n",
    "            arr[l], arr[r] = arr[r], arr[l]\n",
    "            \n",
    "    arr[pivot_idx], arr[r] = arr[r], arr[pivot_idx]\n",
    "    return r\n",
    "\n",
    "def quickSort(arr, l, r):\n",
    "    if l < r:\n",
    "        pi = partitionIndex(arr, l, r)\n",
    "        quickSort(arr, l, pi-1)\n",
    "        quickSort(arr, pi+1, r)\n",
    "        \n",
    "    return arr\n",
    "\n",
    "quickSort([9, 3, 12, 5, 1, 7, 2, 6, 4], 0, len(arr)-1)"
   ]
  },
  {
   "cell_type": "code",
   "execution_count": 5,
   "id": "9432bdd8",
   "metadata": {},
   "outputs": [
    {
     "data": {
      "text/plain": [
       "[1, 2, 3, 5, 8, 9, 12]"
      ]
     },
     "execution_count": 5,
     "metadata": {},
     "output_type": "execute_result"
    }
   ],
   "source": [
    "# tower of hanoi\n",
    "\n",
    "def toh(n, a, c, b):\n",
    "    if not n:\n",
    "        return\n",
    "    \n",
    "    toh(n-1, a, b, c)\n",
    "    print(a, c)\n",
    "    toh(n-1, b, c, a)"
   ]
  },
  {
   "cell_type": "markdown",
   "id": "ef344991",
   "metadata": {},
   "source": [
    "# Assignment"
   ]
  },
  {
   "cell_type": "code",
   "execution_count": 3,
   "id": "428931ec",
   "metadata": {},
   "outputs": [
    {
     "data": {
      "text/plain": [
       "1.9375"
      ]
     },
     "execution_count": 3,
     "metadata": {},
     "output_type": "execute_result"
    }
   ],
   "source": [
    "'''Given k, find the geometric sum i.e. 1 + 1/2 + 1/4 + 1/8 + ... + 1/(2^k)'''\n",
    "\n",
    "def geoSum(k):\n",
    "    if not k:\n",
    "        return 1\n",
    "    \n",
    "    return geoSum(k-1) + 1/(2**k)\n",
    "\n",
    "geoSum(4)"
   ]
  },
  {
   "cell_type": "code",
   "execution_count": 12,
   "id": "81711325",
   "metadata": {},
   "outputs": [
    {
     "data": {
      "text/plain": [
       "True"
      ]
     },
     "execution_count": 12,
     "metadata": {},
     "output_type": "execute_result"
    }
   ],
   "source": [
    "'''Check whether a given String S is a palindrome using recursion. Return true or false.'''\n",
    "\n",
    "def checkPalindrome(s):\n",
    "    if len(s) < 2:\n",
    "        return True\n",
    "    \n",
    "    if s[0] == s[-1]:\n",
    "        return checkPalindrome(s[1: -1])\n",
    "    \n",
    "    return False\n",
    "\n",
    "checkPalindrome('racecar')"
   ]
  },
  {
   "cell_type": "code",
   "execution_count": 13,
   "id": "ed57fa17",
   "metadata": {},
   "outputs": [
    {
     "data": {
      "text/plain": [
       "15"
      ]
     },
     "execution_count": 13,
     "metadata": {},
     "output_type": "execute_result"
    }
   ],
   "source": [
    "'''Write a recursive function that returns the sum of the digits of a given integer.'''\n",
    "\n",
    "def digitsSum(n):\n",
    "    if not n:\n",
    "        return n\n",
    "    \n",
    "    return digitsSum(n//10) + n%10\n",
    "\n",
    "digitsSum(12345)"
   ]
  },
  {
   "cell_type": "code",
   "execution_count": 16,
   "id": "ea340a85",
   "metadata": {},
   "outputs": [
    {
     "data": {
      "text/plain": [
       "16"
      ]
     },
     "execution_count": 16,
     "metadata": {},
     "output_type": "execute_result"
    }
   ],
   "source": [
    "'''Multiplication (Recursive)'''\n",
    "\n",
    "def multiply(m, n):\n",
    "    if not n:\n",
    "        return n\n",
    "    \n",
    "    return m + multiply(m, n-1)\n",
    "\n",
    "multiply(2, 8)"
   ]
  },
  {
   "cell_type": "code",
   "execution_count": 20,
   "id": "ef9186b0",
   "metadata": {},
   "outputs": [
    {
     "data": {
      "text/plain": [
       "4"
      ]
     },
     "execution_count": 20,
     "metadata": {},
     "output_type": "execute_result"
    }
   ],
   "source": [
    "'''Given an integer N, count and return the number of zeros that are present in the given integer using recursion.'''\n",
    "\n",
    "def count(n):\n",
    "    if not n:\n",
    "        return n\n",
    "    \n",
    "    if n%10 == 0:\n",
    "        return count(n//10) + 1\n",
    "    \n",
    "    return count(n//10)\n",
    "\n",
    "count(708000)"
   ]
  },
  {
   "cell_type": "code",
   "execution_count": 22,
   "id": "b7eb6f9e",
   "metadata": {},
   "outputs": [
    {
     "data": {
      "text/plain": [
       "10204"
      ]
     },
     "execution_count": 22,
     "metadata": {},
     "output_type": "execute_result"
    }
   ],
   "source": [
    "'''String to Integer - Write a recursive function to convert a given string into the number it represents.'''\n",
    "\n",
    "def convert(s):\n",
    "    if len(s) == 1:\n",
    "        return int(s)\n",
    "    \n",
    "    return convert(s[: -1])*10 + int(s[-1])\n",
    "\n",
    "convert('10204')"
   ]
  },
  {
   "cell_type": "code",
   "execution_count": 28,
   "id": "2e2bdbfe",
   "metadata": {},
   "outputs": [
    {
     "data": {
      "text/plain": [
       "'h*h'"
      ]
     },
     "execution_count": 28,
     "metadata": {},
     "output_type": "execute_result"
    }
   ],
   "source": [
    "'''Given a string S, compute recursively a new string where identical chars that\n",
    "are adjacent in the original string are separated from each other by a \"*\".'''\n",
    "\n",
    "def pairStar(s):\n",
    "    if len(s) == 1:\n",
    "        return s\n",
    "    \n",
    "    if s[0] == s[1]:\n",
    "        return s[0] + '*' + pairStar(s[1: ])\n",
    "    \n",
    "    return s[0] + pairStar(s[1: ])\n",
    "\n",
    "pairStar('hh')"
   ]
  },
  {
   "cell_type": "code",
   "execution_count": 2,
   "id": "1ddd839b",
   "metadata": {},
   "outputs": [
    {
     "data": {
      "text/plain": [
       "True"
      ]
     },
     "execution_count": 2,
     "metadata": {},
     "output_type": "execute_result"
    }
   ],
   "source": [
    "'''\n",
    "suppose you have a string, S, made up of only 'a's and 'b's. Write a recursive function that checks if the string was generated\n",
    "using the following rules:\n",
    "\n",
    "\n",
    "a. The string begins with an 'a'\n",
    "b. Each 'a' is followed by nothing or an 'a' or \"bb\"\n",
    "c. Each \"bb\" is followed by nothing or an 'a'\n",
    "'''\n",
    "\n",
    "def checkAB(s):\n",
    "    if not s:\n",
    "        return False\n",
    "    \n",
    "    if s == 'a':\n",
    "        return True\n",
    "    \n",
    "    if s == 'aa':\n",
    "        return True\n",
    "    \n",
    "    if s == 'abb':\n",
    "        return True\n",
    "    \n",
    "    if s[0] == 'a':\n",
    "        if s[1] == 'a':\n",
    "            return checkAB(s[1: ])\n",
    "        \n",
    "        if s[1: 3] == 'bb':\n",
    "            return checkAB(s[3: ])\n",
    "        \n",
    "    return False\n",
    "    \n",
    "checkAB('aabbabba')"
   ]
  },
  {
   "cell_type": "code",
   "execution_count": 3,
   "id": "cd123fab",
   "metadata": {},
   "outputs": [
    {
     "data": {
      "text/plain": [
       "44"
      ]
     },
     "execution_count": 3,
     "metadata": {},
     "output_type": "execute_result"
    }
   ],
   "source": [
    "'''A child is running up a staircase with N steps, and can hop either 1 step, 2 steps or 3 steps at a time. Implement a method\n",
    "to count how many possible ways the child can run up to the stairs. You need to return number of possible ways W.'''\n",
    "\n",
    "def count(n):\n",
    "    if not n:\n",
    "        return 0\n",
    "    \n",
    "    if n == 1:\n",
    "        return 1\n",
    "    \n",
    "    if n == 2:\n",
    "        return 2\n",
    "    \n",
    "    if n == 3:\n",
    "        return 4\n",
    "    \n",
    "    return count(n-1) + count(n-2) + count(n-3)\n",
    "\n",
    "count(7)"
   ]
  },
  {
   "cell_type": "markdown",
   "id": "8dcde55d",
   "metadata": {},
   "source": [
    "# Test - 1"
   ]
  },
  {
   "cell_type": "code",
   "execution_count": 41,
   "id": "582bb6c2",
   "metadata": {},
   "outputs": [
    {
     "data": {
      "text/plain": [
       "True"
      ]
     },
     "execution_count": 41,
     "metadata": {},
     "output_type": "execute_result"
    }
   ],
   "source": [
    "'''Given two string s and t, write a function to check if s contains all characters of\n",
    "t (in the same order as they are in string t).\n",
    "\n",
    "E.g. : s = “abchjsgsuohhdhyrikkknddg” contains all characters of t=”coding” in the same order. So function will return true.'''\n",
    "\n",
    "def doesContain(s, t):\n",
    "    if not t:\n",
    "        return True\n",
    "    \n",
    "    if not s:\n",
    "        return False\n",
    "    \n",
    "    if s[0] == t[0]:\n",
    "        return doesContain(s[1: ], t[1: ])\n",
    "    \n",
    "    return doesContain(s[1: ], t)\n",
    "\n",
    "doesContain('abchjsgsuohhdhyrikkknddg', 'coding')"
   ]
  },
  {
   "cell_type": "code",
   "execution_count": 10,
   "id": "8a63c01c",
   "metadata": {},
   "outputs": [
    {
     "data": {
      "text/plain": [
       "True"
      ]
     },
     "execution_count": 10,
     "metadata": {},
     "output_type": "execute_result"
    }
   ],
   "source": [
    "'''Given an integer array A of size N, check if the input array can be splitted in two parts such that -\n",
    "\n",
    "- Sum of both parts is equal\n",
    "- All elements in the input, which are divisible by 5 should be in same group.\n",
    "- All elements in the input, which are divisible by 3 (but not divisible by 5) should be in other group.\n",
    "- Elements which are neither divisible by 5 nor by 3, can be put in any group.\n",
    "'''\n",
    "\n",
    "def split(arr, left=0, right=0):\n",
    "    if not arr:\n",
    "        if left == right:\n",
    "            return True\n",
    "        return False\n",
    "    \n",
    "    if not arr[0] % 3:\n",
    "        return split(arr[1: ], left+arr[0], right)\n",
    "    \n",
    "    if not arr[0] % 5:\n",
    "        return split(arr[1: ], left, right+arr[0])\n",
    "    \n",
    "    return split(arr[1: ], left+arr[0], right) or split(arr[1: ], left, right+arr[0])\n",
    "\n",
    "\n",
    "n = 4\n",
    "arr = [1, 2, 1]\n",
    "split(arr, n)"
   ]
  },
  {
   "cell_type": "code",
   "execution_count": null,
   "id": "71265734",
   "metadata": {},
   "outputs": [],
   "source": []
  }
 ],
 "metadata": {
  "kernelspec": {
   "display_name": "Python 3",
   "language": "python",
   "name": "python3"
  },
  "language_info": {
   "codemirror_mode": {
    "name": "ipython",
    "version": 3
   },
   "file_extension": ".py",
   "mimetype": "text/x-python",
   "name": "python",
   "nbconvert_exporter": "python",
   "pygments_lexer": "ipython3",
   "version": "3.8.8"
  }
 },
 "nbformat": 4,
 "nbformat_minor": 5
}
