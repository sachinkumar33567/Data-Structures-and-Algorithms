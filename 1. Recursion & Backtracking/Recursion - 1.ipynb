{
 "cells": [
  {
   "cell_type": "code",
   "execution_count": 1,
   "id": "654b988d",
   "metadata": {},
   "outputs": [
    {
     "data": {
      "text/plain": [
       "2"
      ]
     },
     "execution_count": 1,
     "metadata": {},
     "output_type": "execute_result"
    }
   ],
   "source": [
    "# power of a number\n",
    "\n",
    "def power(x, n):\n",
    "    if n == 0:\n",
    "        return 1\n",
    "    \n",
    "    return x * power(x, n-1)\n",
    "\n",
    "def power(x, n):\n",
    "    if n == 0:\n",
    "        return 1\n",
    "    \n",
    "    if n % 2:\n",
    "        return x * power(x, n//2) * power(x, n//2)\n",
    "    \n",
    "    return power(x, n//2) * power(x, n//2)\n",
    "    \n",
    "\n",
    "power(2, 1)"
   ]
  },
  {
   "cell_type": "code",
   "execution_count": 1,
   "id": "e286adbf",
   "metadata": {},
   "outputs": [
    {
     "data": {
      "text/plain": [
       "False"
      ]
     },
     "execution_count": 1,
     "metadata": {},
     "output_type": "execute_result"
    }
   ],
   "source": [
    "# check if list sorted or not\n",
    "\n",
    "def isSorted(arr):\n",
    "    if len(arr) == 1:\n",
    "        return True\n",
    "    \n",
    "    if arr[0] > arr[1]:\n",
    "        return False\n",
    "    \n",
    "    return isSorted(arr[1: ])\n",
    "\n",
    "isSorted([1, 2, 9, 4])"
   ]
  },
  {
   "cell_type": "code",
   "execution_count": 18,
   "id": "3b76bb7d",
   "metadata": {},
   "outputs": [
    {
     "data": {
      "text/plain": [
       "6"
      ]
     },
     "execution_count": 18,
     "metadata": {},
     "output_type": "execute_result"
    }
   ],
   "source": [
    "# sum of array\n",
    "\n",
    "def arrSum(arr):\n",
    "    if not arr:\n",
    "        return 0\n",
    "    \n",
    "    return arr[0] + arrSum(arr[1: ])\n",
    "\n",
    "arrSum([1, 2, 3])"
   ]
  },
  {
   "cell_type": "code",
   "execution_count": 21,
   "id": "077e62f1",
   "metadata": {},
   "outputs": [
    {
     "data": {
      "text/plain": [
       "False"
      ]
     },
     "execution_count": 21,
     "metadata": {},
     "output_type": "execute_result"
    }
   ],
   "source": [
    "# check number in a array\n",
    "\n",
    "def isPresent(arr, n):\n",
    "    if not arr:\n",
    "        return False\n",
    "    \n",
    "    if arr[0] == n:\n",
    "        return True\n",
    "    \n",
    "    return isPresent(arr[1: ], n)\n",
    "\n",
    "isPresent([1, 2, 3, 4], 8)"
   ]
  },
  {
   "cell_type": "code",
   "execution_count": 1,
   "id": "58cf22ca",
   "metadata": {},
   "outputs": [
    {
     "data": {
      "text/plain": [
       "12"
      ]
     },
     "execution_count": 1,
     "metadata": {},
     "output_type": "execute_result"
    }
   ],
   "source": [
    "# maximum of array\n",
    "\n",
    "def findMax(arr):\n",
    "    if not arr:\n",
    "        return -100000\n",
    "    \n",
    "    rres = findMax(arr[1: ])\n",
    "    if arr[0] > rres:\n",
    "        return arr[0]\n",
    "    \n",
    "    return rres\n",
    "\n",
    "findMax([9, 3, 12, 5, 2])"
   ]
  },
  {
   "cell_type": "code",
   "execution_count": 26,
   "id": "8058c05f",
   "metadata": {},
   "outputs": [
    {
     "data": {
      "text/plain": [
       "2"
      ]
     },
     "execution_count": 26,
     "metadata": {},
     "output_type": "execute_result"
    }
   ],
   "source": [
    "# first index of a number\n",
    "\n",
    "def firstIndex(arr, n):\n",
    "    if not arr:\n",
    "        return -1\n",
    "    \n",
    "    if arr[0] == n:\n",
    "        return 0\n",
    "    \n",
    "    rres = firstIndex(arr[1: ], n)\n",
    "    if rres == -1:\n",
    "        return rres\n",
    "    \n",
    "    return 1 + rres\n",
    "\n",
    "def firstIndex(arr, n, i=0):\n",
    "    if i == len(arr):\n",
    "        return -1\n",
    "    \n",
    "    if arr[i] == n:\n",
    "        return i\n",
    "    \n",
    "    return firstIndex(arr, n, i+1)\n",
    "\n",
    "firstIndex([1, 2, 3, 4, 5, 3, 9], 3)"
   ]
  },
  {
   "cell_type": "code",
   "execution_count": 33,
   "id": "fa3c73f8",
   "metadata": {},
   "outputs": [
    {
     "data": {
      "text/plain": [
       "5"
      ]
     },
     "execution_count": 33,
     "metadata": {},
     "output_type": "execute_result"
    }
   ],
   "source": [
    "# last index of a number\n",
    "\n",
    "def lastIndex(arr, n):\n",
    "    if not arr:\n",
    "        return -1\n",
    "    \n",
    "    rres = lastIndex(arr[1: ], n)\n",
    "    if rres == -1:\n",
    "        if arr[0] == n:\n",
    "            return 0\n",
    "        \n",
    "        return rres\n",
    "        \n",
    "    return 1 + rres\n",
    "\n",
    "def lastIndex(arr, n, i=0):\n",
    "    if i == len(arr):\n",
    "        return -1\n",
    "    \n",
    "    rres = lastIndex(arr, n, i+1)\n",
    "    if rres == -1:\n",
    "        if arr[i] == n:\n",
    "            return i\n",
    "        \n",
    "    return rres\n",
    "\n",
    "lastIndex([1, 2, 3, 4, 5, 3, 9], 3)"
   ]
  },
  {
   "cell_type": "code",
   "execution_count": 5,
   "id": "ec95c500",
   "metadata": {},
   "outputs": [
    {
     "data": {
      "text/plain": [
       "[2, 4, 5]"
      ]
     },
     "execution_count": 5,
     "metadata": {},
     "output_type": "execute_result"
    }
   ],
   "source": [
    "# all indeces of a number\n",
    "\n",
    "def allIndices(arr, n, i=0, count=0):\n",
    "    if i == len(arr):\n",
    "        return [0 for _ in range(count)]\n",
    "    \n",
    "    if arr[i] == n:\n",
    "        rres = allIndices(arr, n, i+1, count+1)\n",
    "        \n",
    "    else:\n",
    "        rres = allIndices(arr, n, i+1, count)\n",
    "        \n",
    "    if arr[i] == n:\n",
    "        rres[count] = i\n",
    "        \n",
    "    return rres\n",
    "\n",
    "def allIndices(arr, n, i=0, res=[]):\n",
    "    if i == len(arr):\n",
    "        return res\n",
    "    \n",
    "    if arr[i] == n:\n",
    "        res.append(i)\n",
    "        \n",
    "    return allIndices(arr, n, i+1, res)\n",
    "\n",
    "allIndices([1, 2, 3, 4, 3, 3, 9], 3)"
   ]
  },
  {
   "cell_type": "code",
   "execution_count": null,
   "id": "3de36fa1",
   "metadata": {},
   "outputs": [],
   "source": []
  }
 ],
 "metadata": {
  "kernelspec": {
   "display_name": "Python 3",
   "language": "python",
   "name": "python3"
  },
  "language_info": {
   "codemirror_mode": {
    "name": "ipython",
    "version": 3
   },
   "file_extension": ".py",
   "mimetype": "text/x-python",
   "name": "python",
   "nbconvert_exporter": "python",
   "pygments_lexer": "ipython3",
   "version": "3.8.8"
  }
 },
 "nbformat": 4,
 "nbformat_minor": 5
}
