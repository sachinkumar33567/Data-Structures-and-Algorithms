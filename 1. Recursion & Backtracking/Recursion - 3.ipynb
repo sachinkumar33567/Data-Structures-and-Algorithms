{
 "cells": [
  {
   "cell_type": "code",
   "execution_count": 1,
   "id": "d2a9b244",
   "metadata": {},
   "outputs": [
    {
     "data": {
      "text/plain": [
       "['abc', 'bc', 'ac', 'c', 'ab', 'b', 'a', '']"
      ]
     },
     "execution_count": 1,
     "metadata": {},
     "output_type": "execute_result"
    }
   ],
   "source": [
    "# return subsequences\n",
    "\n",
    "def subsequences(s):\n",
    "    if not s:\n",
    "        return ['']\n",
    "    \n",
    "    rres = subsequences(s[1: ])\n",
    "    \n",
    "    mres = []\n",
    "    for i in rres:\n",
    "        mres.append(s[0] + i)\n",
    "        mres.append('' + i)\n",
    "        \n",
    "    return mres\n",
    "\n",
    "subsequences('abc')"
   ]
  },
  {
   "cell_type": "code",
   "execution_count": 2,
   "id": "06f549d2",
   "metadata": {},
   "outputs": [
    {
     "data": {
      "text/plain": [
       "[['a', 'ab', 'abc', 'abcd'], ['b', 'bc', 'bcd'], ['c', 'cd'], ['d']]"
      ]
     },
     "execution_count": 2,
     "metadata": {},
     "output_type": "execute_result"
    }
   ],
   "source": [
    "def substrings(s):\n",
    "    if len(s) == 1:\n",
    "        return [[s]]\n",
    "    \n",
    "    rres = substrings(s[1: ])\n",
    "    mres = [s[0]]\n",
    "    for i in rres[0]:\n",
    "        mres.append(s[0]+i)\n",
    "        \n",
    "    rres.insert(0, mres)\n",
    "    return rres\n",
    "\n",
    "substrings('abcd')"
   ]
  },
  {
   "cell_type": "code",
   "execution_count": 1,
   "id": "e18de063",
   "metadata": {},
   "outputs": [
    {
     "data": {
      "text/plain": [
       "['ad', 'ae', 'af', 'bd', 'be', 'bf', 'cd', 'ce', 'cf']"
      ]
     },
     "execution_count": 1,
     "metadata": {},
     "output_type": "execute_result"
    }
   ],
   "source": [
    "# return keypad codes\n",
    "\n",
    "codes = ['', '', 'abc', 'def', 'ghi', 'jkl', 'mno', 'pqrs', 'tuv', 'wxyz']\n",
    "index = [ 0,  1,   2,     3,     4,     5,     6,      7,     8,     9]\n",
    "\n",
    "def keypadCode(s):\n",
    "    if not s:\n",
    "        return ['']\n",
    "    \n",
    "    rres = keypadCode(s[1: ])\n",
    "    \n",
    "    mres = []\n",
    "    for i in codes[int(s[0])]:\n",
    "        for code in rres:\n",
    "            mres.append(i + code)\n",
    "            \n",
    "    return mres\n",
    "\n",
    "keypadCode('23')"
   ]
  },
  {
   "cell_type": "code",
   "execution_count": 2,
   "id": "5f663d0e",
   "metadata": {},
   "outputs": [
    {
     "data": {
      "text/plain": [
       "[[15, 20, 12], [20, 12], [15, 12], [12], [15, 20], [20], [15], []]"
      ]
     },
     "execution_count": 2,
     "metadata": {},
     "output_type": "execute_result"
    }
   ],
   "source": [
    "# return subsets of an array\n",
    "\n",
    "def subsets(arr):\n",
    "    if not arr:\n",
    "        return [arr]\n",
    "    \n",
    "    rres = subsets(arr[1: ])\n",
    "    \n",
    "    mres = []\n",
    "    for i in rres:\n",
    "        l = i.copy()\n",
    "        l.insert(0, arr[0])\n",
    "        mres.append(l)\n",
    "        mres.append(i)\n",
    "        \n",
    "    return mres\n",
    "\n",
    "subsets([15, 20, 12])"
   ]
  },
  {
   "cell_type": "code",
   "execution_count": 5,
   "id": "a38d42b3",
   "metadata": {},
   "outputs": [
    {
     "data": {
      "text/plain": [
       "[[3, 5], [3, 1, 4], [2, 5, 1], [2, 6]]"
      ]
     },
     "execution_count": 5,
     "metadata": {},
     "output_type": "execute_result"
    }
   ],
   "source": [
    "# return subsets sum to K\n",
    "\n",
    "def subsetsSumToK(arr, k):\n",
    "    if not arr:\n",
    "        if k == 0:\n",
    "            return [arr]\n",
    "        return arr\n",
    "    \n",
    "    including_rres = subsetsSumToK(arr[1: ], k-arr[0])\n",
    "    excluding_rres = subsetsSumToK(arr[1: ], k)\n",
    "    \n",
    "    for i in including_rres:\n",
    "        i.insert(0, arr[0])\n",
    "        \n",
    "    for i in excluding_rres:\n",
    "        including_rres.append(i)\n",
    "        \n",
    "    return including_rres\n",
    "\n",
    "subsetsSumToK([3, 2, 5, 1, 4, 6], 8)"
   ]
  },
  {
   "cell_type": "code",
   "execution_count": 13,
   "id": "d773307c",
   "metadata": {},
   "outputs": [
    {
     "data": {
      "text/plain": [
       "['abc', 'acb', 'bac', 'bca', 'cab', 'cba']"
      ]
     },
     "execution_count": 13,
     "metadata": {},
     "output_type": "execute_result"
    }
   ],
   "source": [
    "# Return Permutations of a String\n",
    "\n",
    "def permutations(s):\n",
    "    if not s:\n",
    "        return ['']\n",
    "    \n",
    "    mres = []\n",
    "    for i in range(len(s)):\n",
    "        rres = permutations(s[: i] + s[i+1: ])\n",
    "        for e in rres:\n",
    "            mres.append(s[i] + e)\n",
    "            \n",
    "    return mres\n",
    "\n",
    "permutations('abc')"
   ]
  },
  {
   "cell_type": "code",
   "execution_count": 6,
   "id": "ad2552fc",
   "metadata": {},
   "outputs": [
    {
     "data": {
      "text/plain": [
       "['1111', '112', '121', '13', '211', '22', '31']"
      ]
     },
     "execution_count": 6,
     "metadata": {},
     "output_type": "execute_result"
    }
   ],
   "source": [
    "# return stair paths\n",
    "\n",
    "def paths(n):\n",
    "    if n < 0:\n",
    "        return []\n",
    "    \n",
    "    if n == 0:\n",
    "        return ['']\n",
    "    \n",
    "    mres = []\n",
    "    for i in range(1, 4):\n",
    "        path = paths(n-i)\n",
    "        for p in path:\n",
    "            mres.append(str(i) + p)\n",
    "            \n",
    "    return mres\n",
    "\n",
    "paths(4)"
   ]
  },
  {
   "cell_type": "code",
   "execution_count": 7,
   "id": "23cae7b4",
   "metadata": {},
   "outputs": [
    {
     "data": {
      "text/plain": [
       "['hhv', 'hvh', 'vhh']"
      ]
     },
     "execution_count": 7,
     "metadata": {},
     "output_type": "execute_result"
    }
   ],
   "source": [
    "# return maze paths\n",
    "\n",
    "def pathsHelper(maze, row, col):\n",
    "    if row == len(maze) or col == len(maze[0]):\n",
    "        return []\n",
    "    \n",
    "    if row == len(maze)-1 and col == len(maze[0])-1:\n",
    "        return ['']\n",
    "    \n",
    "    hor_path = pathsHelper(maze, row, col+1)\n",
    "    ver_path = pathsHelper(maze, row+1, col)\n",
    "    \n",
    "    mres = []\n",
    "    for i in hor_path:\n",
    "        mres.append('h' + i)\n",
    "        \n",
    "    for i in ver_path:\n",
    "        mres.append('v' + i)\n",
    "        \n",
    "    return mres\n",
    "\n",
    "def paths(maze, pos):\n",
    "    row, col = pos\n",
    "    return pathsHelper(maze, row, col)\n",
    "\n",
    "maze = [[0 for _ in range(4)] for _ in range(3)]\n",
    "pos = (1, 1)\n",
    "paths(maze, pos)"
   ]
  },
  {
   "cell_type": "code",
   "execution_count": 8,
   "id": "90b352c7",
   "metadata": {},
   "outputs": [
    {
     "data": {
      "text/plain": [
       "['h1h1v1', 'h1v1h1', 'v1h1h1', 'v1h2', 'h2v1']"
      ]
     },
     "execution_count": 8,
     "metadata": {},
     "output_type": "execute_result"
    }
   ],
   "source": [
    "# return maze paths (possible moves 1, 2, 3)\n",
    "\n",
    "\n",
    "def pathsHelper(maze, row, col):\n",
    "    if row >= len(maze) or col >= len(maze[0]):\n",
    "        return []\n",
    "    \n",
    "    if row == len(maze)-1 and col == len(maze[0])-1:\n",
    "        return ['']\n",
    "    \n",
    "    mres = []\n",
    "    for i in range(1, 4):\n",
    "        hor_paths = pathsHelper(maze, row, col+i)\n",
    "        ver_paths = pathsHelper(maze, row+i, col)\n",
    "        \n",
    "        for path in hor_paths:\n",
    "            mres.append('h' + str(i) + path)\n",
    "        for path in ver_paths:\n",
    "            mres.append('v' + str(i) + path)\n",
    "    \n",
    "    return mres\n",
    "\n",
    "def paths(maze, pos):\n",
    "    row, col = pos\n",
    "    return pathsHelper(maze, row, col)\n",
    "\n",
    "maze = [[0 for _ in range(3)] for _ in range(2)]\n",
    "pos = (0, 0)\n",
    "paths(maze, pos)"
   ]
  },
  {
   "cell_type": "code",
   "execution_count": 9,
   "id": "02e584b6",
   "metadata": {},
   "outputs": [
    {
     "data": {
      "text/plain": [
       "['h1h1v1', 'h1v1h1', 'h2v1', 'v1h1h1', 'v1h2']"
      ]
     },
     "execution_count": 9,
     "metadata": {},
     "output_type": "execute_result"
    }
   ],
   "source": [
    "# return maze paths with jumps (possible moves 1 to as much as you can jump)\n",
    "\n",
    "def pathsHelper(maze, row, col):\n",
    "    if row >= len(maze) or col >= len(maze[0]):\n",
    "        return []\n",
    "    \n",
    "    if row == len(maze)-1 and col == len(maze[0])-1:\n",
    "        return ['']\n",
    "    \n",
    "    mres = []\n",
    "    for i in range(1, len(maze[0])):\n",
    "        hor_paths = pathsHelper(maze, row, col+i)\n",
    "        for path in hor_paths:\n",
    "            mres.append('h' + str(i) + path)\n",
    "            \n",
    "    for i in range(1, len(maze)):\n",
    "        ver_paths = pathsHelper(maze, row+i, col)\n",
    "        for path in ver_paths:\n",
    "            mres.append('v' + str(i) + path)\n",
    "            \n",
    "    return mres\n",
    "\n",
    "def paths(maze, pos):\n",
    "    row, col = pos\n",
    "    return pathsHelper(maze, row, col)\n",
    "\n",
    "maze = [[0 for _ in range(3)] for _ in range(2)]\n",
    "pos = (0, 0)\n",
    "paths(maze, pos)"
   ]
  },
  {
   "cell_type": "code",
   "execution_count": 23,
   "id": "06685e2c",
   "metadata": {},
   "outputs": [
    {
     "data": {
      "text/plain": [
       "['abcba', 'abcu', 'awba', 'awu', 'lcba', 'lcu']"
      ]
     },
     "execution_count": 23,
     "metadata": {},
     "output_type": "execute_result"
    }
   ],
   "source": [
    "# return encoding\n",
    "\n",
    "codes = ['','a','b','c','d','e','f','g','h','i','j','k','l','m','n','o','p','q','r','s','t','u','v','w','x','y','z']\n",
    "\n",
    "def decode(s):\n",
    "    if not s:\n",
    "        return ['']\n",
    "    \n",
    "    if s[0] == '0':\n",
    "        return []\n",
    "    \n",
    "    if len(s) == 1:\n",
    "        return [codes[int(s)]]\n",
    "    \n",
    "    mres = []\n",
    "    rres1 = decode(s[1: ])\n",
    "    for i in rres1:\n",
    "        mres.append(codes[int(s[0])] + i)\n",
    "        \n",
    "    if int(s[:2]) <= 26:\n",
    "        rres12 = decode(s[2: ])\n",
    "        for i in rres12:\n",
    "            mres.append(codes[int(s[:2])] + i)\n",
    "            \n",
    "    return mres\n",
    "\n",
    "decode('12321')"
   ]
  },
  {
   "cell_type": "code",
   "execution_count": null,
   "id": "425b7f6a",
   "metadata": {},
   "outputs": [],
   "source": []
  },
  {
   "cell_type": "code",
   "execution_count": null,
   "id": "d1c00d51",
   "metadata": {},
   "outputs": [],
   "source": []
  },
  {
   "cell_type": "code",
   "execution_count": 18,
   "id": "c4efb241",
   "metadata": {},
   "outputs": [
    {
     "name": "stdout",
     "output_type": "stream",
     "text": [
      "abc ab ac a bc b c  "
     ]
    }
   ],
   "source": [
    "# print subsequences\n",
    "\n",
    "def printSubsequences(s, res=''):\n",
    "    if not s:\n",
    "        print(res, end = ' ')\n",
    "        return\n",
    "    \n",
    "    printSubsequences(s[1: ], res + s[0])\n",
    "    printSubsequences(s[1: ], res)\n",
    "    \n",
    "printSubsequences('abc')"
   ]
  },
  {
   "cell_type": "code",
   "execution_count": null,
   "id": "4d89e4a5",
   "metadata": {},
   "outputs": [],
   "source": [
    "# print keypad codes\n",
    "\n",
    "codes = ['', '', 'abc', 'def', 'ghi', 'jkl', 'mno', 'pqrs', 'tuv', 'wxyz']\n",
    "index = [ 0,  1,   2,     3,     4,     5,     6,      7,     8,     9]\n",
    "\n",
    "def printKeypadCode(s, res=''):\n",
    "    if not s:\n",
    "        print(res, end = ' ')\n",
    "        return\n",
    "    \n",
    "    for i in codes[int(s[0])]:\n",
    "        printKeypadCode(s[1: ], res + i)\n",
    "        \n",
    "printKeypadCode('23')"
   ]
  },
  {
   "cell_type": "code",
   "execution_count": 20,
   "id": "1efd96f0",
   "metadata": {},
   "outputs": [
    {
     "name": "stdout",
     "output_type": "stream",
     "text": [
      "15 20 12 \n",
      "15 20 \n",
      "15 12 \n",
      "15 \n",
      "20 12 \n",
      "20 \n",
      "12 \n",
      "\n"
     ]
    }
   ],
   "source": [
    "# print subsets of an array\n",
    "\n",
    "def printSubsets(arr, res=''):\n",
    "    if not arr:\n",
    "        print(res)\n",
    "        return\n",
    "    \n",
    "    printSubsets(arr[1: ], res + str(arr[0]) + ' ')\n",
    "    printSubsets(arr[1: ], res)\n",
    "    \n",
    "printSubsets([15, 20, 12])"
   ]
  },
  {
   "cell_type": "code",
   "execution_count": 19,
   "id": "c5276f4e",
   "metadata": {},
   "outputs": [
    {
     "name": "stdout",
     "output_type": "stream",
     "text": [
      "3 5 \n",
      "3 1 4 \n",
      "2 5 1 \n",
      "2 6 \n"
     ]
    }
   ],
   "source": [
    "# print subsets sum to k\n",
    "\n",
    "def printSubsetsSumToK(arr, k, res=''):\n",
    "    if not arr:\n",
    "        if k == 0:\n",
    "            print(res)\n",
    "        return\n",
    "    \n",
    "    printSubsetsSumToK(arr[1: ], k-arr[0], res + str(arr[0]) + ' ')\n",
    "    printSubsetsSumToK(arr[1: ], k, res)\n",
    "    \n",
    "printSubsetsSumToK([3, 2, 5, 1, 4, 6], 8)"
   ]
  },
  {
   "cell_type": "code",
   "execution_count": 1,
   "id": "697ea412",
   "metadata": {},
   "outputs": [
    {
     "name": "stdout",
     "output_type": "stream",
     "text": [
      "abc acb bac bca cab cba "
     ]
    }
   ],
   "source": [
    "# print permutations\n",
    "\n",
    "def printPermutations(s, res=''):\n",
    "    if not s:\n",
    "        print(res, end = ' ')\n",
    "        return\n",
    "    \n",
    "    for i in range(len(s)):\n",
    "        printPermutations(s[: i] + s[i+1: ], res + s[i])\n",
    "        \n",
    "printPermutations('abc')"
   ]
  },
  {
   "cell_type": "code",
   "execution_count": 10,
   "id": "c0911fd6",
   "metadata": {},
   "outputs": [
    {
     "name": "stdout",
     "output_type": "stream",
     "text": [
      "1111 112 121 13 211 22 31 "
     ]
    }
   ],
   "source": [
    "# print stair paths\n",
    "\n",
    "def printStairPaths(n, res=''):\n",
    "    if n < 0:\n",
    "        return\n",
    "    \n",
    "    if not n:\n",
    "        print(res, end = ' ')\n",
    "    \n",
    "    for i in range(1, 4):\n",
    "        printStairPaths(n-i, res+str(i))\n",
    "        \n",
    "printStairPaths(4)"
   ]
  },
  {
   "cell_type": "code",
   "execution_count": 24,
   "id": "0e6d1037",
   "metadata": {},
   "outputs": [
    {
     "name": "stdout",
     "output_type": "stream",
     "text": [
      "abcba abcu awba awu lcba lcu "
     ]
    }
   ],
   "source": [
    "# print encoding\n",
    "\n",
    "codes = ['','a','b','c','d','e','f','g','h','i','j','k','l','m','n','o','p','q','r','s','t','u','v','w','x','y','z']\n",
    "\n",
    "def printEncoding(s, res=''):\n",
    "    if not s:\n",
    "        print(res, end = ' ')\n",
    "        return\n",
    "        \n",
    "    if s[0] == '0':\n",
    "        return\n",
    "    \n",
    "    if len(s) == 1:\n",
    "        print(res + codes[int(s)], end = ' ')\n",
    "        return\n",
    "    \n",
    "    printEncoding(s[1: ], res+codes[int(s[0])])\n",
    "    \n",
    "    if int(s[: 2]) <= 26:\n",
    "        printEncoding(s[2: ], res + codes[int(s[: 2])])\n",
    "        \n",
    "printEncoding('12321')"
   ]
  },
  {
   "cell_type": "code",
   "execution_count": 6,
   "id": "3542a6a8",
   "metadata": {},
   "outputs": [
    {
     "name": "stdout",
     "output_type": "stream",
     "text": [
      "pep\n",
      "pe1\n",
      "p1p\n",
      "p2\n",
      "1ep\n",
      "1e1\n",
      "2p\n",
      "3\n"
     ]
    }
   ],
   "source": [
    "# print abriviations\n",
    "\n",
    "def printAbr(s, res='', count=0):\n",
    "    if not s:\n",
    "        if count:\n",
    "            print(res+str(count))\n",
    "            \n",
    "        else:\n",
    "            print(res)\n",
    "            \n",
    "        return\n",
    "    \n",
    "    if count:\n",
    "        printAbr(s[1: ], res+str(count)+s[0], 0)\n",
    "        \n",
    "    else:\n",
    "        printAbr(s[1: ], res+s[0], 0)\n",
    "        \n",
    "    printAbr(s[1: ], res, count+1)\n",
    "    \n",
    "printAbr('pep')"
   ]
  },
  {
   "cell_type": "code",
   "execution_count": null,
   "id": "5ebf4ae0",
   "metadata": {},
   "outputs": [],
   "source": []
  }
 ],
 "metadata": {
  "kernelspec": {
   "display_name": "Python 3",
   "language": "python",
   "name": "python3"
  },
  "language_info": {
   "codemirror_mode": {
    "name": "ipython",
    "version": 3
   },
   "file_extension": ".py",
   "mimetype": "text/x-python",
   "name": "python",
   "nbconvert_exporter": "python",
   "pygments_lexer": "ipython3",
   "version": "3.8.8"
  }
 },
 "nbformat": 4,
 "nbformat_minor": 5
}
